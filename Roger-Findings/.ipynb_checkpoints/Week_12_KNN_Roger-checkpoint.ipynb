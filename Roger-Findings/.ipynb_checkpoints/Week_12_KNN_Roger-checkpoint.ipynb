{
 "cells": [
  {
   "cell_type": "markdown",
   "metadata": {
    "button": false,
    "new_sheet": false,
    "run_control": {
     "read_only": false
    }
   },
   "source": [
    "# Building KNN Model"
   ]
  },
  {
   "cell_type": "markdown",
   "metadata": {},
   "source": [
    "## by Roger Burek-Bors - May 7, 2021 - Warsaw, Poland "
   ]
  },
  {
   "cell_type": "code",
   "execution_count": 48,
   "metadata": {
    "button": false,
    "jupyter": {
     "outputs_hidden": true
    },
    "new_sheet": false,
    "run_control": {
     "read_only": false
    }
   },
   "outputs": [
    {
     "name": "stdout",
     "output_type": "stream",
     "text": [
      "Libraries loaded\n"
     ]
    }
   ],
   "source": [
    "import itertools\n",
    "import numpy as np\n",
    "import matplotlib.pyplot as plt\n",
    "from matplotlib.ticker import NullFormatter\n",
    "import pandas as pd\n",
    "import numpy as np\n",
    "import matplotlib.ticker as ticker\n",
    "from sklearn import preprocessing\n",
    "from sklearn.neighbors import KNeighborsClassifier\n",
    "from sklearn import metrics\n",
    "from sklearn.model_selection import train_test_split\n",
    "from sklearn.metrics import precision_recall_curve\n",
    "from sklearn.metrics import plot_precision_recall_curve\n",
    "from sklearn.metrics import average_precision_score\n",
    "from sklearn.metrics import f1_score\n",
    "import pickle\n",
    "%matplotlib inline\n",
    "print(\"Libraries loaded\")"
   ]
  },
  {
   "cell_type": "markdown",
   "metadata": {
    "button": false,
    "new_sheet": false,
    "run_control": {
     "read_only": false
    }
   },
   "source": [
    "### Loading Data From CSV File"
   ]
  },
  {
   "cell_type": "code",
   "execution_count": 2,
   "metadata": {
    "button": false,
    "jupyter": {
     "outputs_hidden": true
    },
    "new_sheet": false,
    "run_control": {
     "read_only": false
    },
    "scrolled": true
   },
   "outputs": [
    {
     "data": {
      "text/html": [
       "<div>\n",
       "<style scoped>\n",
       "    .dataframe tbody tr th:only-of-type {\n",
       "        vertical-align: middle;\n",
       "    }\n",
       "\n",
       "    .dataframe tbody tr th {\n",
       "        vertical-align: top;\n",
       "    }\n",
       "\n",
       "    .dataframe thead th {\n",
       "        text-align: right;\n",
       "    }\n",
       "</style>\n",
       "<table border=\"1\" class=\"dataframe\">\n",
       "  <thead>\n",
       "    <tr style=\"text-align: right;\">\n",
       "      <th></th>\n",
       "      <th>Gluco_Record_Prior_Ntm</th>\n",
       "      <th>Gluco_Record_During_Rx</th>\n",
       "      <th>Dexa_Freq_During_Rx</th>\n",
       "      <th>Dexa_During_Rx</th>\n",
       "      <th>Frag_Frac_Prior_Ntm</th>\n",
       "      <th>Frag_Frac_During_Rx</th>\n",
       "      <th>Idn_Indicator</th>\n",
       "      <th>Injectable_Experience_During_Rx</th>\n",
       "      <th>Comorb_Encounter_For_Screening_For_Malignant_Neoplasms</th>\n",
       "      <th>Comorb_Encounter_For_Immunization</th>\n",
       "      <th>...</th>\n",
       "      <th>Age_Bucket_labels</th>\n",
       "      <th>Ntm_Speciality_labels</th>\n",
       "      <th>Ntm_Specialist_Flag_labels</th>\n",
       "      <th>Ntm_Speciality_Bucket_labels</th>\n",
       "      <th>Risk_Segment_Prior_Ntm_labels</th>\n",
       "      <th>Tscore_Bucket_Prior_Ntm_labels</th>\n",
       "      <th>Tscore_Bucket_During_Rx_labels</th>\n",
       "      <th>Change_T_Score_labels</th>\n",
       "      <th>Change_Risk_Segment_labels</th>\n",
       "      <th>Adherent_Flag_labels</th>\n",
       "    </tr>\n",
       "  </thead>\n",
       "  <tbody>\n",
       "    <tr>\n",
       "      <th>0</th>\n",
       "      <td>0</td>\n",
       "      <td>0</td>\n",
       "      <td>0</td>\n",
       "      <td>0</td>\n",
       "      <td>0</td>\n",
       "      <td>0</td>\n",
       "      <td>0</td>\n",
       "      <td>1</td>\n",
       "      <td>0</td>\n",
       "      <td>1</td>\n",
       "      <td>...</td>\n",
       "      <td>3.0</td>\n",
       "      <td>5.0</td>\n",
       "      <td>0.0</td>\n",
       "      <td>1.0</td>\n",
       "      <td>1.0</td>\n",
       "      <td>1.0</td>\n",
       "      <td>0.0</td>\n",
       "      <td>1.0</td>\n",
       "      <td>1.0</td>\n",
       "      <td>0.0</td>\n",
       "    </tr>\n",
       "    <tr>\n",
       "      <th>1</th>\n",
       "      <td>0</td>\n",
       "      <td>1</td>\n",
       "      <td>0</td>\n",
       "      <td>0</td>\n",
       "      <td>0</td>\n",
       "      <td>0</td>\n",
       "      <td>0</td>\n",
       "      <td>1</td>\n",
       "      <td>0</td>\n",
       "      <td>1</td>\n",
       "      <td>...</td>\n",
       "      <td>3.0</td>\n",
       "      <td>5.0</td>\n",
       "      <td>0.0</td>\n",
       "      <td>1.0</td>\n",
       "      <td>0.0</td>\n",
       "      <td>1.0</td>\n",
       "      <td>0.0</td>\n",
       "      <td>1.0</td>\n",
       "      <td>1.0</td>\n",
       "      <td>0.0</td>\n",
       "    </tr>\n",
       "    <tr>\n",
       "      <th>2</th>\n",
       "      <td>1</td>\n",
       "      <td>1</td>\n",
       "      <td>0</td>\n",
       "      <td>0</td>\n",
       "      <td>0</td>\n",
       "      <td>0</td>\n",
       "      <td>0</td>\n",
       "      <td>1</td>\n",
       "      <td>1</td>\n",
       "      <td>1</td>\n",
       "      <td>...</td>\n",
       "      <td>3.0</td>\n",
       "      <td>5.0</td>\n",
       "      <td>0.0</td>\n",
       "      <td>1.0</td>\n",
       "      <td>0.0</td>\n",
       "      <td>0.0</td>\n",
       "      <td>0.0</td>\n",
       "      <td>1.0</td>\n",
       "      <td>1.0</td>\n",
       "      <td>0.0</td>\n",
       "    </tr>\n",
       "    <tr>\n",
       "      <th>3</th>\n",
       "      <td>0</td>\n",
       "      <td>0</td>\n",
       "      <td>0</td>\n",
       "      <td>0</td>\n",
       "      <td>0</td>\n",
       "      <td>0</td>\n",
       "      <td>0</td>\n",
       "      <td>0</td>\n",
       "      <td>0</td>\n",
       "      <td>0</td>\n",
       "      <td>...</td>\n",
       "      <td>3.0</td>\n",
       "      <td>5.0</td>\n",
       "      <td>0.0</td>\n",
       "      <td>1.0</td>\n",
       "      <td>0.0</td>\n",
       "      <td>0.0</td>\n",
       "      <td>0.0</td>\n",
       "      <td>1.0</td>\n",
       "      <td>1.0</td>\n",
       "      <td>0.0</td>\n",
       "    </tr>\n",
       "    <tr>\n",
       "      <th>4</th>\n",
       "      <td>1</td>\n",
       "      <td>1</td>\n",
       "      <td>0</td>\n",
       "      <td>0</td>\n",
       "      <td>0</td>\n",
       "      <td>0</td>\n",
       "      <td>0</td>\n",
       "      <td>1</td>\n",
       "      <td>0</td>\n",
       "      <td>0</td>\n",
       "      <td>...</td>\n",
       "      <td>3.0</td>\n",
       "      <td>5.0</td>\n",
       "      <td>0.0</td>\n",
       "      <td>1.0</td>\n",
       "      <td>0.0</td>\n",
       "      <td>0.0</td>\n",
       "      <td>0.0</td>\n",
       "      <td>1.0</td>\n",
       "      <td>1.0</td>\n",
       "      <td>0.0</td>\n",
       "    </tr>\n",
       "  </tbody>\n",
       "</table>\n",
       "<p>5 rows × 51 columns</p>\n",
       "</div>"
      ],
      "text/plain": [
       "   Gluco_Record_Prior_Ntm  Gluco_Record_During_Rx  Dexa_Freq_During_Rx  \\\n",
       "0                       0                       0                    0   \n",
       "1                       0                       1                    0   \n",
       "2                       1                       1                    0   \n",
       "3                       0                       0                    0   \n",
       "4                       1                       1                    0   \n",
       "\n",
       "   Dexa_During_Rx  Frag_Frac_Prior_Ntm  Frag_Frac_During_Rx  Idn_Indicator  \\\n",
       "0               0                    0                    0              0   \n",
       "1               0                    0                    0              0   \n",
       "2               0                    0                    0              0   \n",
       "3               0                    0                    0              0   \n",
       "4               0                    0                    0              0   \n",
       "\n",
       "   Injectable_Experience_During_Rx  \\\n",
       "0                                1   \n",
       "1                                1   \n",
       "2                                1   \n",
       "3                                0   \n",
       "4                                1   \n",
       "\n",
       "   Comorb_Encounter_For_Screening_For_Malignant_Neoplasms  \\\n",
       "0                                                  0        \n",
       "1                                                  0        \n",
       "2                                                  1        \n",
       "3                                                  0        \n",
       "4                                                  0        \n",
       "\n",
       "   Comorb_Encounter_For_Immunization  ...  Age_Bucket_labels  \\\n",
       "0                                  1  ...                3.0   \n",
       "1                                  1  ...                3.0   \n",
       "2                                  1  ...                3.0   \n",
       "3                                  0  ...                3.0   \n",
       "4                                  0  ...                3.0   \n",
       "\n",
       "   Ntm_Speciality_labels  Ntm_Specialist_Flag_labels  \\\n",
       "0                    5.0                         0.0   \n",
       "1                    5.0                         0.0   \n",
       "2                    5.0                         0.0   \n",
       "3                    5.0                         0.0   \n",
       "4                    5.0                         0.0   \n",
       "\n",
       "   Ntm_Speciality_Bucket_labels  Risk_Segment_Prior_Ntm_labels  \\\n",
       "0                           1.0                            1.0   \n",
       "1                           1.0                            0.0   \n",
       "2                           1.0                            0.0   \n",
       "3                           1.0                            0.0   \n",
       "4                           1.0                            0.0   \n",
       "\n",
       "   Tscore_Bucket_Prior_Ntm_labels  Tscore_Bucket_During_Rx_labels  \\\n",
       "0                             1.0                             0.0   \n",
       "1                             1.0                             0.0   \n",
       "2                             0.0                             0.0   \n",
       "3                             0.0                             0.0   \n",
       "4                             0.0                             0.0   \n",
       "\n",
       "   Change_T_Score_labels  Change_Risk_Segment_labels  Adherent_Flag_labels  \n",
       "0                    1.0                         1.0                   0.0  \n",
       "1                    1.0                         1.0                   0.0  \n",
       "2                    1.0                         1.0                   0.0  \n",
       "3                    1.0                         1.0                   0.0  \n",
       "4                    1.0                         1.0                   0.0  \n",
       "\n",
       "[5 rows x 51 columns]"
      ]
     },
     "execution_count": 2,
     "metadata": {},
     "output_type": "execute_result"
    }
   ],
   "source": [
    "df = pd.read_csv('data_training.csv')\n",
    "df.head()"
   ]
  },
  {
   "cell_type": "markdown",
   "metadata": {
    "button": false,
    "new_sheet": false,
    "run_control": {
     "read_only": false
    }
   },
   "source": [
    "### Feature set"
   ]
  },
  {
   "cell_type": "code",
   "execution_count": 3,
   "metadata": {},
   "outputs": [
    {
     "data": {
      "text/plain": [
       "Index(['Gluco_Record_Prior_Ntm', 'Gluco_Record_During_Rx',\n",
       "       'Dexa_Freq_During_Rx', 'Dexa_During_Rx', 'Frag_Frac_Prior_Ntm',\n",
       "       'Frag_Frac_During_Rx', 'Idn_Indicator',\n",
       "       'Injectable_Experience_During_Rx',\n",
       "       'Comorb_Encounter_For_Screening_For_Malignant_Neoplasms',\n",
       "       'Comorb_Encounter_For_Immunization',\n",
       "       'Comorb_Encntr_For_General_Exam_W_O_Complaint,_Susp_Or_Reprtd_Dx',\n",
       "       'Comorb_Vitamin_D_Deficiency',\n",
       "       'Comorb_Other_Joint_Disorder_Not_Elsewhere_Classified',\n",
       "       'Comorb_Encntr_For_Oth_Sp_Exam_W_O_Complaint_Suspected_Or_Reprtd_Dx',\n",
       "       'Comorb_Long_Term_Current_Drug_Therapy', 'Comorb_Dorsalgia',\n",
       "       'Comorb_Personal_History_Of_Other_Diseases_And_Conditions',\n",
       "       'Comorb_Other_Disorders_Of_Bone_Density_And_Structure',\n",
       "       'Comorb_Disorders_of_lipoprotein_metabolism_and_other_lipidemias',\n",
       "       'Comorb_Osteoporosis_without_current_pathological_fracture',\n",
       "       'Comorb_Personal_history_of_malignant_neoplasm',\n",
       "       'Comorb_Gastro_esophageal_reflux_disease',\n",
       "       'Concom_Cholesterol_And_Triglyceride_Regulating_Preparations',\n",
       "       'Concom_Narcotics', 'Concom_Systemic_Corticosteroids_Plain',\n",
       "       'Concom_Anti_Depressants_And_Mood_Stabilisers',\n",
       "       'Concom_Fluoroquinolones', 'Concom_Cephalosporins',\n",
       "       'Concom_Macrolides_And_Similar_Types',\n",
       "       'Concom_Broad_Spectrum_Penicillins', 'Concom_Anaesthetics_General',\n",
       "       'Concom_Viral_Vaccines', 'Risk_Smoking_Tobacco',\n",
       "       'Risk_Chronic_Malnutrition_Or_Malabsorption',\n",
       "       'Risk_Family_History_Of_Osteoporosis', 'Risk_Vitamin_D_Insufficiency',\n",
       "       'Count_Of_Risks', 'Persistency_Flag_labels', 'Race_labels',\n",
       "       'Ethnicity_labels', 'Region_labels', 'Age_Bucket_labels',\n",
       "       'Ntm_Speciality_labels', 'Ntm_Specialist_Flag_labels',\n",
       "       'Ntm_Speciality_Bucket_labels', 'Risk_Segment_Prior_Ntm_labels',\n",
       "       'Tscore_Bucket_Prior_Ntm_labels', 'Tscore_Bucket_During_Rx_labels',\n",
       "       'Change_T_Score_labels', 'Change_Risk_Segment_labels',\n",
       "       'Adherent_Flag_labels'],\n",
       "      dtype='object')"
      ]
     },
     "execution_count": 3,
     "metadata": {},
     "output_type": "execute_result"
    }
   ],
   "source": [
    "df.columns"
   ]
  },
  {
   "cell_type": "code",
   "execution_count": 7,
   "metadata": {
    "button": false,
    "jupyter": {
     "outputs_hidden": true
    },
    "new_sheet": false,
    "run_control": {
     "read_only": false
    }
   },
   "outputs": [
    {
     "data": {
      "text/plain": [
       "array([[0., 0., 0., 0., 0., 0., 0., 1., 0., 1., 1., 0., 0., 1., 0., 1.,\n",
       "        1., 0., 0., 0., 0., 0., 0., 0., 0., 0., 0., 0., 0., 0., 0., 0.,\n",
       "        0., 0., 0., 0., 0., 2., 1., 3., 3., 5., 0., 1., 1., 1., 0., 1.,\n",
       "        1., 0.],\n",
       "       [0., 1., 0., 0., 0., 0., 0., 1., 0., 1., 1., 0., 1., 0., 0., 1.,\n",
       "        0., 0., 1., 0., 0., 1., 0., 1., 1., 0., 0., 0., 0., 0., 0., 1.,\n",
       "        1., 0., 0., 0., 1., 2., 1., 0., 3., 5., 0., 1., 0., 1., 0., 1.,\n",
       "        1., 0.],\n",
       "       [1., 1., 0., 0., 0., 0., 0., 1., 1., 1., 1., 0., 0., 0., 0., 1.,\n",
       "        1., 0., 0., 0., 0., 0., 0., 1., 1., 1., 0., 0., 0., 0., 0., 0.,\n",
       "        1., 0., 0., 0., 1., 2., 1., 0., 3., 5., 0., 1., 0., 0., 0., 1.,\n",
       "        1., 0.],\n",
       "       [0., 0., 0., 0., 0., 0., 0., 0., 0., 0., 0., 0., 0., 0., 0., 0.,\n",
       "        0., 0., 1., 0., 0., 0., 1., 0., 0., 0., 0., 0., 0., 0., 0., 0.,\n",
       "        1., 0., 1., 0., 2., 2., 1., 0., 3., 5., 0., 1., 0., 0., 0., 1.,\n",
       "        1., 0.],\n",
       "       [1., 1., 0., 0., 0., 0., 0., 1., 0., 0., 0., 0., 0., 0., 0., 0.,\n",
       "        0., 0., 0., 0., 0., 0., 0., 0., 1., 0., 0., 0., 0., 0., 0., 0.,\n",
       "        0., 1., 0., 0., 1., 2., 1., 0., 3., 5., 0., 1., 0., 0., 0., 1.,\n",
       "        1., 0.]])"
      ]
     },
     "execution_count": 7,
     "metadata": {},
     "output_type": "execute_result"
    }
   ],
   "source": [
    "X = df[['Gluco_Record_Prior_Ntm', 'Gluco_Record_During_Rx',\n",
    "       'Dexa_Freq_During_Rx', 'Dexa_During_Rx', 'Frag_Frac_Prior_Ntm',\n",
    "       'Frag_Frac_During_Rx', 'Idn_Indicator',\n",
    "       'Injectable_Experience_During_Rx',\n",
    "       'Comorb_Encounter_For_Screening_For_Malignant_Neoplasms',\n",
    "       'Comorb_Encounter_For_Immunization',\n",
    "       'Comorb_Encntr_For_General_Exam_W_O_Complaint,_Susp_Or_Reprtd_Dx',\n",
    "       'Comorb_Vitamin_D_Deficiency',\n",
    "       'Comorb_Other_Joint_Disorder_Not_Elsewhere_Classified',\n",
    "       'Comorb_Encntr_For_Oth_Sp_Exam_W_O_Complaint_Suspected_Or_Reprtd_Dx',\n",
    "       'Comorb_Long_Term_Current_Drug_Therapy', 'Comorb_Dorsalgia',\n",
    "       'Comorb_Personal_History_Of_Other_Diseases_And_Conditions',\n",
    "       'Comorb_Other_Disorders_Of_Bone_Density_And_Structure',\n",
    "       'Comorb_Disorders_of_lipoprotein_metabolism_and_other_lipidemias',\n",
    "       'Comorb_Osteoporosis_without_current_pathological_fracture',\n",
    "       'Comorb_Personal_history_of_malignant_neoplasm',\n",
    "       'Comorb_Gastro_esophageal_reflux_disease',\n",
    "       'Concom_Cholesterol_And_Triglyceride_Regulating_Preparations',\n",
    "       'Concom_Narcotics', 'Concom_Systemic_Corticosteroids_Plain',\n",
    "       'Concom_Anti_Depressants_And_Mood_Stabilisers',\n",
    "       'Concom_Fluoroquinolones', 'Concom_Cephalosporins',\n",
    "       'Concom_Macrolides_And_Similar_Types',\n",
    "       'Concom_Broad_Spectrum_Penicillins', 'Concom_Anaesthetics_General',\n",
    "       'Concom_Viral_Vaccines', 'Risk_Smoking_Tobacco',\n",
    "       'Risk_Chronic_Malnutrition_Or_Malabsorption',\n",
    "       'Risk_Family_History_Of_Osteoporosis', 'Risk_Vitamin_D_Insufficiency',\n",
    "       'Count_Of_Risks', 'Race_labels',\n",
    "       'Ethnicity_labels', 'Region_labels', 'Age_Bucket_labels',\n",
    "       'Ntm_Speciality_labels', 'Ntm_Specialist_Flag_labels',\n",
    "       'Ntm_Speciality_Bucket_labels', 'Risk_Segment_Prior_Ntm_labels',\n",
    "       'Tscore_Bucket_Prior_Ntm_labels', 'Tscore_Bucket_During_Rx_labels',\n",
    "       'Change_T_Score_labels', 'Change_Risk_Segment_labels',\n",
    "       'Adherent_Flag_labels']].values\n",
    "X[0:5]"
   ]
  },
  {
   "cell_type": "code",
   "execution_count": 8,
   "metadata": {
    "button": false,
    "jupyter": {
     "outputs_hidden": true
    },
    "new_sheet": false,
    "run_control": {
     "read_only": false
    }
   },
   "outputs": [
    {
     "data": {
      "text/plain": [
       "array([1., 0., 0., 0., 0.])"
      ]
     },
     "execution_count": 8,
     "metadata": {},
     "output_type": "execute_result"
    }
   ],
   "source": [
    "y = df['Persistency_Flag_labels'].values\n",
    "y[0:5]"
   ]
  },
  {
   "cell_type": "markdown",
   "metadata": {
    "button": false,
    "new_sheet": false,
    "run_control": {
     "read_only": false
    }
   },
   "source": [
    "### Data Normalization"
   ]
  },
  {
   "cell_type": "code",
   "execution_count": 9,
   "metadata": {
    "button": false,
    "jupyter": {
     "outputs_hidden": true
    },
    "new_sheet": false,
    "run_control": {
     "read_only": false
    }
   },
   "outputs": [
    {
     "data": {
      "text/plain": [
       "array([[-0.57811853, -0.54890682,  0.        ,  0.        , -0.41216187,\n",
       "        -0.32832052, -1.66553634,  0.38097619, -0.73347751,  1.31680294,\n",
       "         1.45486795, -0.62197364, -0.56582515,  2.25227158, -0.46080495,\n",
       "         2.11198733,  2.33763045, -0.32551538, -0.96565915, -0.52035303,\n",
       "        -0.44238451, -0.41464421, -0.70076489, -0.67792151, -0.57581374,\n",
       "        -0.59579323, -0.43672742, -0.41133304, -0.39290951, -0.33296358,\n",
       "        -0.33848448, -0.29456391, -0.46239573, -0.37925666, -0.3292523 ,\n",
       "        -0.9028939 , -1.10718783,  0.        ,  0.        ,  1.57916068,\n",
       "         1.02367324, -0.52541814, -0.76268541, -0.03045934,  0.87946082,\n",
       "         0.86526938, -1.01407104, -0.06295592, -0.17531365,  0.        ],\n",
       "       [-0.57811853,  1.82180282,  0.        ,  0.        , -0.41216187,\n",
       "        -0.32832052, -1.66553634,  0.38097619, -0.73347751,  1.31680294,\n",
       "         1.45486795, -0.62197364,  1.76733041, -0.44399619, -0.46080495,\n",
       "         2.11198733, -0.42778361, -0.32551538,  1.03556208, -0.52035303,\n",
       "        -0.44238451,  2.41170615, -0.70076489,  1.47509703,  1.7366727 ,\n",
       "        -0.59579323, -0.43672742, -0.41133304, -0.39290951, -0.33296358,\n",
       "        -0.33848448,  3.39484904,  2.16264972, -0.37925666, -0.3292523 ,\n",
       "        -0.9028939 , -0.15857543,  0.        ,  0.        , -1.08019899,\n",
       "         1.02367324, -0.52541814, -0.76268541, -0.03045934, -1.13706032,\n",
       "         0.86526938, -1.01407104, -0.06295592, -0.17531365,  0.        ],\n",
       "       [ 1.72974908,  1.82180282,  0.        ,  0.        , -0.41216187,\n",
       "        -0.32832052, -1.66553634,  0.38097619,  1.36336832,  1.31680294,\n",
       "         1.45486795, -0.62197364, -0.56582515, -0.44399619, -0.46080495,\n",
       "         2.11198733,  2.33763045, -0.32551538, -0.96565915, -0.52035303,\n",
       "        -0.44238451, -0.41464421, -0.70076489,  1.47509703,  1.7366727 ,\n",
       "         1.67843464, -0.43672742, -0.41133304, -0.39290951, -0.33296358,\n",
       "        -0.33848448, -0.29456391,  2.16264972, -0.37925666, -0.3292523 ,\n",
       "        -0.9028939 , -0.15857543,  0.        ,  0.        , -1.08019899,\n",
       "         1.02367324, -0.52541814, -0.76268541, -0.03045934, -1.13706032,\n",
       "        -1.15570945, -1.01407104, -0.06295592, -0.17531365,  0.        ],\n",
       "       [-0.57811853, -0.54890682,  0.        ,  0.        , -0.41216187,\n",
       "        -0.32832052, -1.66553634, -2.62483595, -0.73347751, -0.75941507,\n",
       "        -0.68734761, -0.62197364, -0.56582515, -0.44399619, -0.46080495,\n",
       "        -0.47348769, -0.42778361, -0.32551538,  1.03556208, -0.52035303,\n",
       "        -0.44238451, -0.41464421,  1.42701214, -0.67792151, -0.57581374,\n",
       "        -0.59579323, -0.43672742, -0.41133304, -0.39290951, -0.33296358,\n",
       "        -0.33848448, -0.29456391,  2.16264972, -0.37925666,  3.03718452,\n",
       "        -0.9028939 ,  0.79003698,  0.        ,  0.        , -1.08019899,\n",
       "         1.02367324, -0.52541814, -0.76268541, -0.03045934, -1.13706032,\n",
       "        -1.15570945, -1.01407104, -0.06295592, -0.17531365,  0.        ],\n",
       "       [ 1.72974908,  1.82180282,  0.        ,  0.        , -0.41216187,\n",
       "        -0.32832052, -1.66553634,  0.38097619, -0.73347751, -0.75941507,\n",
       "        -0.68734761, -0.62197364, -0.56582515, -0.44399619, -0.46080495,\n",
       "        -0.47348769, -0.42778361, -0.32551538, -0.96565915, -0.52035303,\n",
       "        -0.44238451, -0.41464421, -0.70076489, -0.67792151,  1.7366727 ,\n",
       "        -0.59579323, -0.43672742, -0.41133304, -0.39290951, -0.33296358,\n",
       "        -0.33848448, -0.29456391, -0.46239573,  2.6367368 , -0.3292523 ,\n",
       "        -0.9028939 , -0.15857543,  0.        ,  0.        , -1.08019899,\n",
       "         1.02367324, -0.52541814, -0.76268541, -0.03045934, -1.13706032,\n",
       "        -1.15570945, -1.01407104, -0.06295592, -0.17531365,  0.        ]])"
      ]
     },
     "execution_count": 9,
     "metadata": {},
     "output_type": "execute_result"
    }
   ],
   "source": [
    "X = preprocessing.StandardScaler().fit(X).transform(X.astype(float))\n",
    "X[0:5]"
   ]
  },
  {
   "cell_type": "markdown",
   "metadata": {
    "button": false,
    "new_sheet": false,
    "run_control": {
     "read_only": false
    }
   },
   "source": [
    "### Train Test Split 20:80"
   ]
  },
  {
   "cell_type": "code",
   "execution_count": 10,
   "metadata": {
    "button": false,
    "jupyter": {
     "outputs_hidden": true
    },
    "new_sheet": false,
    "run_control": {
     "read_only": false
    }
   },
   "outputs": [
    {
     "name": "stdout",
     "output_type": "stream",
     "text": [
      "Train set: (1603, 50) (1603,)\n",
      "Test set: (401, 50) (401,)\n"
     ]
    }
   ],
   "source": [
    "X_train, X_test, y_train, y_test = train_test_split(X, y, test_size=0.2, random_state=4)\n",
    "print ('Train set:', X_train.shape,  y_train.shape)\n",
    "print ('Test set:', X_test.shape,  y_test.shape)"
   ]
  },
  {
   "cell_type": "markdown",
   "metadata": {
    "button": false,
    "new_sheet": false,
    "run_control": {
     "read_only": false
    }
   },
   "source": [
    "### Classification"
   ]
  },
  {
   "cell_type": "code",
   "execution_count": 27,
   "metadata": {
    "button": false,
    "jupyter": {
     "outputs_hidden": true
    },
    "new_sheet": false,
    "run_control": {
     "read_only": false
    }
   },
   "outputs": [
    {
     "data": {
      "text/plain": [
       "KNeighborsClassifier(n_neighbors=4)"
      ]
     },
     "execution_count": 27,
     "metadata": {},
     "output_type": "execute_result"
    }
   ],
   "source": [
    "#Training Model\n",
    "k = 4\n",
    "classifier = KNeighborsClassifier(n_neighbors = k).fit(X_train,y_train)\n",
    "classifier"
   ]
  },
  {
   "cell_type": "code",
   "execution_count": 28,
   "metadata": {
    "button": false,
    "jupyter": {
     "outputs_hidden": true
    },
    "new_sheet": false,
    "run_control": {
     "read_only": false
    }
   },
   "outputs": [
    {
     "data": {
      "text/plain": [
       "array([0., 0., 0., 0., 0.])"
      ]
     },
     "execution_count": 28,
     "metadata": {},
     "output_type": "execute_result"
    }
   ],
   "source": [
    "# Predicting\n",
    "yhat = neigh.predict(X_test)\n",
    "yhat[0:5]"
   ]
  },
  {
   "cell_type": "markdown",
   "metadata": {
    "button": false,
    "new_sheet": false,
    "run_control": {
     "read_only": false
    }
   },
   "source": [
    "### Accuracy evaluation"
   ]
  },
  {
   "cell_type": "code",
   "execution_count": 29,
   "metadata": {},
   "outputs": [
    {
     "name": "stdout",
     "output_type": "stream",
     "text": [
      "Train set Accuracy:  0.8234560199625702\n",
      "Test set Accuracy:  0.7930174563591023\n"
     ]
    }
   ],
   "source": [
    "print(\"Train set Accuracy: \", metrics.accuracy_score(y_train, neigh.predict(X_train)))\n",
    "print(\"Test set Accuracy: \", metrics.accuracy_score(y_test, yhat))"
   ]
  },
  {
   "cell_type": "code",
   "execution_count": 30,
   "metadata": {
    "button": false,
    "jupyter": {
     "outputs_hidden": true
    },
    "new_sheet": false,
    "run_control": {
     "read_only": false
    }
   },
   "outputs": [
    {
     "data": {
      "text/plain": [
       "array([0.77057357, 0.79052369, 0.77057357, 0.78553616, 0.78054863,\n",
       "       0.78802993, 0.79052369, 0.79052369, 0.79301746])"
      ]
     },
     "execution_count": 30,
     "metadata": {},
     "output_type": "execute_result"
    }
   ],
   "source": [
    "# Accuracy for other \"K\"\n",
    "Ks = 10\n",
    "mean_acc = np.zeros((Ks-1))\n",
    "std_acc = np.zeros((Ks-1))\n",
    "ConfustionMx = [];\n",
    "for n in range(1,Ks):\n",
    "    \n",
    "    #Train Model and Predict  \n",
    "    classifier = KNeighborsClassifier(n_neighbors = n).fit(X_train,y_train)\n",
    "    yhat=classifier.predict(X_test)\n",
    "    mean_acc[n-1] = metrics.accuracy_score(y_test, yhat)\n",
    "\n",
    "    \n",
    "    std_acc[n-1]=np.std(yhat==y_test)/np.sqrt(yhat.shape[0])\n",
    "\n",
    "mean_acc"
   ]
  },
  {
   "cell_type": "code",
   "execution_count": 31,
   "metadata": {
    "button": false,
    "jupyter": {
     "outputs_hidden": true
    },
    "new_sheet": false,
    "run_control": {
     "read_only": false
    }
   },
   "outputs": [
    {
     "data": {
      "image/png": "[encoded data removed]",
      "text/plain": [
       "<Figure size 432x288 with 1 Axes>"
      ]
     },
     "metadata": {
      "needs_background": "light"
     },
     "output_type": "display_data"
    }
   ],
   "source": [
    "# Plotting model accuracy for different number of \"K\"\n",
    "plt.plot(range(1,Ks),mean_acc,'g')\n",
    "plt.fill_between(range(1,Ks),mean_acc - 1 * std_acc,mean_acc + 1 * std_acc, alpha=0.10)\n",
    "plt.legend(('Accuracy ', '+/- 3xstd'))\n",
    "plt.ylabel('Accuracy ')\n",
    "plt.xlabel('Number of Neighbors (K)')\n",
    "plt.tight_layout()\n",
    "plt.show()"
   ]
  },
  {
   "cell_type": "code",
   "execution_count": 60,
   "metadata": {
    "button": false,
    "jupyter": {
     "outputs_hidden": true
    },
    "new_sheet": false,
    "run_control": {
     "read_only": false
    }
   },
   "outputs": [
    {
     "name": "stdout",
     "output_type": "stream",
     "text": [
      "The best accuracy was with 0.7930174563591023 with k = 9\n"
     ]
    }
   ],
   "source": [
    "print( \"The best accuracy was with\", mean_acc.max(), \"with k =\", mean_acc.argmax()+1)"
   ]
  },
  {
   "cell_type": "code",
   "execution_count": 62,
   "metadata": {},
   "outputs": [
    {
     "data": {
      "text/plain": [
       "Text(0.5, 1.0, '2-class Precision-Recall curve')"
      ]
     },
     "execution_count": 62,
     "metadata": {},
     "output_type": "execute_result"
    },
    {
     "data": {
      "image/png": "[encoded data removed]",
      "text/plain": [
       "<Figure size 432x288 with 1 Axes>"
      ]
     },
     "metadata": {
      "needs_background": "light"
     },
     "output_type": "display_data"
    }
   ],
   "source": [
    "# Ploting the Precision-Recall curve for best accuracy \"K\"\n",
    "classifier = KNeighborsClassifier(n_neighbors = 9).fit(X_train,y_train)\n",
    "yhat = classifier.predict(X_test)\n",
    "disp = plot_precision_recall_curve(neigh, X_test, y_test)\n",
    "disp.ax_.set_title('2-class Precision-Recall curve')"
   ]
  },
  {
   "cell_type": "code",
   "execution_count": 64,
   "metadata": {},
   "outputs": [
    {
     "name": "stdout",
     "output_type": "stream",
     "text": [
      "F1 score for macro mode 0.6117468649752115\n",
      "F1 score for micro mode 0.7930174563591024\n",
      "F1 score for weighted mode 0.748692165765231\n"
     ]
    }
   ],
   "source": [
    "# F1 score for best accuracy \"K\"\n",
    "average_mode = ['macro', 'micro', 'weighted']\n",
    "for avr in average_mode:\n",
    "    f1 = f1_score(y_test, yhat, average=avr)\n",
    "    print('F1 score for {} mode'.format(avr), f1)"
   ]
  },
  {
   "cell_type": "markdown",
   "metadata": {},
   "source": [
    "### Train Test Split 40:60"
   ]
  },
  {
   "cell_type": "code",
   "execution_count": 65,
   "metadata": {},
   "outputs": [],
   "source": [
    "X_train, X_test, y_train, y_test = train_test_split(X, y, test_size=0.4, random_state=6)\n",
    "k = 4\n",
    "classifier = KNeighborsClassifier(n_neighbors = k).fit(X_train,y_train)\n",
    "yhat = neigh.predict(X_test)"
   ]
  },
  {
   "cell_type": "code",
   "execution_count": 66,
   "metadata": {},
   "outputs": [
    {
     "name": "stdout",
     "output_type": "stream",
     "text": [
      "Train set Accuracy:  0.8178036605657238\n",
      "Test set Accuracy:  0.816708229426434\n"
     ]
    }
   ],
   "source": [
    "print(\"Train set Accuracy: \", metrics.accuracy_score(y_train, neigh.predict(X_train)))\n",
    "print(\"Test set Accuracy: \", metrics.accuracy_score(y_test, yhat))"
   ]
  },
  {
   "cell_type": "code",
   "execution_count": 67,
   "metadata": {},
   "outputs": [
    {
     "data": {
      "text/plain": [
       "array([0.74937656, 0.78802993, 0.78927681, 0.79301746, 0.79800499,\n",
       "       0.79301746, 0.79426434, 0.79301746, 0.7967581 ])"
      ]
     },
     "execution_count": 67,
     "metadata": {},
     "output_type": "execute_result"
    }
   ],
   "source": [
    "Ks = 10\n",
    "mean_acc = np.zeros((Ks-1))\n",
    "std_acc = np.zeros((Ks-1))\n",
    "ConfustionMx = [];\n",
    "for n in range(1,Ks):\n",
    "    \n",
    "    #Train Model and Predict  \n",
    "    classifier = KNeighborsClassifier(n_neighbors = n).fit(X_train,y_train)\n",
    "    yhat=classifier.predict(X_test)\n",
    "    mean_acc[n-1] = metrics.accuracy_score(y_test, yhat)\n",
    "\n",
    "    \n",
    "    std_acc[n-1]=np.std(yhat==y_test)/np.sqrt(yhat.shape[0])\n",
    "\n",
    "mean_acc"
   ]
  },
  {
   "cell_type": "code",
   "execution_count": 68,
   "metadata": {},
   "outputs": [
    {
     "data": {
      "image/png": "[encoded data removed]",
      "text/plain": [
       "<Figure size 432x288 with 1 Axes>"
      ]
     },
     "metadata": {
      "needs_background": "light"
     },
     "output_type": "display_data"
    }
   ],
   "source": [
    "plt.plot(range(1,Ks),mean_acc,'g')\n",
    "plt.fill_between(range(1,Ks),mean_acc - 1 * std_acc,mean_acc + 1 * std_acc, alpha=0.10)\n",
    "plt.legend(('Accuracy ', '+/- 3xstd'))\n",
    "plt.ylabel('Accuracy ')\n",
    "plt.xlabel('Number of Neighbors (K)')\n",
    "plt.tight_layout()\n",
    "plt.show()"
   ]
  },
  {
   "cell_type": "code",
   "execution_count": 69,
   "metadata": {},
   "outputs": [
    {
     "name": "stdout",
     "output_type": "stream",
     "text": [
      "The best accuracy was with 0.7980049875311721 with k = 5\n"
     ]
    }
   ],
   "source": [
    "print( \"The best accuracy was with\", mean_acc.max(), \"with k =\", mean_acc.argmax()+1)"
   ]
  },
  {
   "cell_type": "markdown",
   "metadata": {},
   "source": [
    "### Saving best model k=9 for 20-80% data split"
   ]
  },
  {
   "cell_type": "code",
   "execution_count": 70,
   "metadata": {},
   "outputs": [],
   "source": [
    "k = 9\n",
    "classifier = KNeighborsClassifier(n_neighbors = k).fit(X_train,y_train)"
   ]
  },
  {
   "cell_type": "code",
   "execution_count": 71,
   "metadata": {},
   "outputs": [],
   "source": [
    "with open('KNN_model_Roger.pkl', 'wb') as f:\n",
    "    pickle.dump(classifier, f)"
   ]
  },
  {
   "cell_type": "code",
   "execution_count": null,
   "metadata": {},
   "outputs": [],
   "source": []
  }
 ],
 "metadata": {
  "kernelspec": {
   "display_name": "Python 3",
   "language": "python",
   "name": "python3"
  },
  "language_info": {
   "codemirror_mode": {
    "name": "ipython",
    "version": 3
   },
   "file_extension": ".py",
   "mimetype": "text/x-python",
   "name": "python",
   "nbconvert_exporter": "python",
   "pygments_lexer": "ipython3",
   "version": "3.9.2"
  }
 },
 "nbformat": 4,
 "nbformat_minor": 4
}
