{
 "cells": [
  {
   "cell_type": "code",
   "execution_count": 30,
   "metadata": {},
   "outputs": [],
   "source": [
    "import pandas as pd\n",
    "import numpy as np"
   ]
  },
  {
   "cell_type": "code",
   "execution_count": 60,
   "metadata": {},
   "outputs": [],
   "source": [
    "df=pd.read_csv('cleaned_data.csv')"
   ]
  },
  {
   "cell_type": "code",
   "execution_count": 61,
   "metadata": {},
   "outputs": [
    {
     "data": {
      "text/html": [
       "<div>\n",
       "<style scoped>\n",
       "    .dataframe tbody tr th:only-of-type {\n",
       "        vertical-align: middle;\n",
       "    }\n",
       "\n",
       "    .dataframe tbody tr th {\n",
       "        vertical-align: top;\n",
       "    }\n",
       "\n",
       "    .dataframe thead th {\n",
       "        text-align: right;\n",
       "    }\n",
       "</style>\n",
       "<table border=\"1\" class=\"dataframe\">\n",
       "  <thead>\n",
       "    <tr style=\"text-align: right;\">\n",
       "      <th></th>\n",
       "      <th>Persistency_Flag</th>\n",
       "      <th>Race</th>\n",
       "      <th>Ethnicity</th>\n",
       "      <th>Region</th>\n",
       "      <th>Age_Bucket</th>\n",
       "      <th>Ntm_Speciality</th>\n",
       "      <th>Ntm_Specialist_Flag</th>\n",
       "      <th>Ntm_Speciality_Bucket</th>\n",
       "      <th>Gluco_Record_Prior_Ntm</th>\n",
       "      <th>Gluco_Record_During_Rx</th>\n",
       "      <th>...</th>\n",
       "      <th>Ntm_Speciality_labels</th>\n",
       "      <th>Ntm_Specialist_Flag_labels</th>\n",
       "      <th>Ntm_Speciality_Bucket_labels</th>\n",
       "      <th>Risk_Segment_Prior_Ntm_labels</th>\n",
       "      <th>Tscore_Bucket_Prior_Ntm_labels</th>\n",
       "      <th>Risk_Segment_During_Rx_labels</th>\n",
       "      <th>Tscore_Bucket_During_Rx_labels</th>\n",
       "      <th>Change_T_Score_labels</th>\n",
       "      <th>Change_Risk_Segment_labels</th>\n",
       "      <th>Adherent_Flag_labels</th>\n",
       "    </tr>\n",
       "  </thead>\n",
       "  <tbody>\n",
       "    <tr>\n",
       "      <th>0</th>\n",
       "      <td>Persistent</td>\n",
       "      <td>Caucasian</td>\n",
       "      <td>Not Hispanic</td>\n",
       "      <td>West</td>\n",
       "      <td>&gt;75</td>\n",
       "      <td>GENERAL PRACTITIONER</td>\n",
       "      <td>Others</td>\n",
       "      <td>OB/GYN/Others/PCP/Unknown</td>\n",
       "      <td>0</td>\n",
       "      <td>0</td>\n",
       "      <td>...</td>\n",
       "      <td>5.0</td>\n",
       "      <td>0.0</td>\n",
       "      <td>1.0</td>\n",
       "      <td>1.0</td>\n",
       "      <td>1.0</td>\n",
       "      <td>1.0</td>\n",
       "      <td>0.0</td>\n",
       "      <td>1.0</td>\n",
       "      <td>1.0</td>\n",
       "      <td>0.0</td>\n",
       "    </tr>\n",
       "    <tr>\n",
       "      <th>1</th>\n",
       "      <td>Non-Persistent</td>\n",
       "      <td>Caucasian</td>\n",
       "      <td>Not Hispanic</td>\n",
       "      <td>Midwest</td>\n",
       "      <td>&gt;75</td>\n",
       "      <td>GENERAL PRACTITIONER</td>\n",
       "      <td>Others</td>\n",
       "      <td>OB/GYN/Others/PCP/Unknown</td>\n",
       "      <td>0</td>\n",
       "      <td>1</td>\n",
       "      <td>...</td>\n",
       "      <td>5.0</td>\n",
       "      <td>0.0</td>\n",
       "      <td>1.0</td>\n",
       "      <td>0.0</td>\n",
       "      <td>1.0</td>\n",
       "      <td>0.0</td>\n",
       "      <td>0.0</td>\n",
       "      <td>1.0</td>\n",
       "      <td>1.0</td>\n",
       "      <td>0.0</td>\n",
       "    </tr>\n",
       "    <tr>\n",
       "      <th>2</th>\n",
       "      <td>Non-Persistent</td>\n",
       "      <td>Caucasian</td>\n",
       "      <td>Not Hispanic</td>\n",
       "      <td>Midwest</td>\n",
       "      <td>&gt;75</td>\n",
       "      <td>GENERAL PRACTITIONER</td>\n",
       "      <td>Others</td>\n",
       "      <td>OB/GYN/Others/PCP/Unknown</td>\n",
       "      <td>1</td>\n",
       "      <td>1</td>\n",
       "      <td>...</td>\n",
       "      <td>5.0</td>\n",
       "      <td>0.0</td>\n",
       "      <td>1.0</td>\n",
       "      <td>0.0</td>\n",
       "      <td>0.0</td>\n",
       "      <td>0.0</td>\n",
       "      <td>0.0</td>\n",
       "      <td>1.0</td>\n",
       "      <td>1.0</td>\n",
       "      <td>0.0</td>\n",
       "    </tr>\n",
       "    <tr>\n",
       "      <th>3</th>\n",
       "      <td>Non-Persistent</td>\n",
       "      <td>Caucasian</td>\n",
       "      <td>Not Hispanic</td>\n",
       "      <td>Midwest</td>\n",
       "      <td>&gt;75</td>\n",
       "      <td>GENERAL PRACTITIONER</td>\n",
       "      <td>Others</td>\n",
       "      <td>OB/GYN/Others/PCP/Unknown</td>\n",
       "      <td>0</td>\n",
       "      <td>0</td>\n",
       "      <td>...</td>\n",
       "      <td>5.0</td>\n",
       "      <td>0.0</td>\n",
       "      <td>1.0</td>\n",
       "      <td>0.0</td>\n",
       "      <td>0.0</td>\n",
       "      <td>0.0</td>\n",
       "      <td>0.0</td>\n",
       "      <td>1.0</td>\n",
       "      <td>1.0</td>\n",
       "      <td>0.0</td>\n",
       "    </tr>\n",
       "    <tr>\n",
       "      <th>4</th>\n",
       "      <td>Non-Persistent</td>\n",
       "      <td>Caucasian</td>\n",
       "      <td>Not Hispanic</td>\n",
       "      <td>Midwest</td>\n",
       "      <td>&gt;75</td>\n",
       "      <td>GENERAL PRACTITIONER</td>\n",
       "      <td>Others</td>\n",
       "      <td>OB/GYN/Others/PCP/Unknown</td>\n",
       "      <td>1</td>\n",
       "      <td>1</td>\n",
       "      <td>...</td>\n",
       "      <td>5.0</td>\n",
       "      <td>0.0</td>\n",
       "      <td>1.0</td>\n",
       "      <td>0.0</td>\n",
       "      <td>0.0</td>\n",
       "      <td>0.0</td>\n",
       "      <td>0.0</td>\n",
       "      <td>1.0</td>\n",
       "      <td>1.0</td>\n",
       "      <td>0.0</td>\n",
       "    </tr>\n",
       "  </tbody>\n",
       "</table>\n",
       "<p>5 rows × 67 columns</p>\n",
       "</div>"
      ],
      "text/plain": [
       "  Persistency_Flag       Race     Ethnicity   Region Age_Bucket  \\\n",
       "0       Persistent  Caucasian  Not Hispanic     West        >75   \n",
       "1   Non-Persistent  Caucasian  Not Hispanic  Midwest        >75   \n",
       "2   Non-Persistent  Caucasian  Not Hispanic  Midwest        >75   \n",
       "3   Non-Persistent  Caucasian  Not Hispanic  Midwest        >75   \n",
       "4   Non-Persistent  Caucasian  Not Hispanic  Midwest        >75   \n",
       "\n",
       "         Ntm_Speciality Ntm_Specialist_Flag      Ntm_Speciality_Bucket  \\\n",
       "0  GENERAL PRACTITIONER              Others  OB/GYN/Others/PCP/Unknown   \n",
       "1  GENERAL PRACTITIONER              Others  OB/GYN/Others/PCP/Unknown   \n",
       "2  GENERAL PRACTITIONER              Others  OB/GYN/Others/PCP/Unknown   \n",
       "3  GENERAL PRACTITIONER              Others  OB/GYN/Others/PCP/Unknown   \n",
       "4  GENERAL PRACTITIONER              Others  OB/GYN/Others/PCP/Unknown   \n",
       "\n",
       "   Gluco_Record_Prior_Ntm  Gluco_Record_During_Rx  ...  Ntm_Speciality_labels  \\\n",
       "0                       0                       0  ...                    5.0   \n",
       "1                       0                       1  ...                    5.0   \n",
       "2                       1                       1  ...                    5.0   \n",
       "3                       0                       0  ...                    5.0   \n",
       "4                       1                       1  ...                    5.0   \n",
       "\n",
       "   Ntm_Specialist_Flag_labels  Ntm_Speciality_Bucket_labels  \\\n",
       "0                         0.0                           1.0   \n",
       "1                         0.0                           1.0   \n",
       "2                         0.0                           1.0   \n",
       "3                         0.0                           1.0   \n",
       "4                         0.0                           1.0   \n",
       "\n",
       "   Risk_Segment_Prior_Ntm_labels Tscore_Bucket_Prior_Ntm_labels  \\\n",
       "0                            1.0                            1.0   \n",
       "1                            0.0                            1.0   \n",
       "2                            0.0                            0.0   \n",
       "3                            0.0                            0.0   \n",
       "4                            0.0                            0.0   \n",
       "\n",
       "  Risk_Segment_During_Rx_labels Tscore_Bucket_During_Rx_labels  \\\n",
       "0                           1.0                            0.0   \n",
       "1                           0.0                            0.0   \n",
       "2                           0.0                            0.0   \n",
       "3                           0.0                            0.0   \n",
       "4                           0.0                            0.0   \n",
       "\n",
       "  Change_T_Score_labels Change_Risk_Segment_labels Adherent_Flag_labels  \n",
       "0                   1.0                        1.0                  0.0  \n",
       "1                   1.0                        1.0                  0.0  \n",
       "2                   1.0                        1.0                  0.0  \n",
       "3                   1.0                        1.0                  0.0  \n",
       "4                   1.0                        1.0                  0.0  \n",
       "\n",
       "[5 rows x 67 columns]"
      ]
     },
     "execution_count": 61,
     "metadata": {},
     "output_type": "execute_result"
    }
   ],
   "source": [
    "df.head()"
   ]
  },
  {
   "cell_type": "code",
   "execution_count": 70,
   "metadata": {},
   "outputs": [],
   "source": [
    "\n",
    "cat_corr = df.apply(lambda x : pd.factorize(x)[0]).corr(method='pearson', min_periods=1)[['Persistency_Flag']]\n",
    "\n"
   ]
  },
  {
   "cell_type": "code",
   "execution_count": 32,
   "metadata": {},
   "outputs": [],
   "source": [
    "pd.set_option('display.max_rows', None)"
   ]
  },
  {
   "cell_type": "code",
   "execution_count": 71,
   "metadata": {
    "scrolled": true
   },
   "outputs": [
    {
     "data": {
      "text/html": [
       "<div>\n",
       "<style scoped>\n",
       "    .dataframe tbody tr th:only-of-type {\n",
       "        vertical-align: middle;\n",
       "    }\n",
       "\n",
       "    .dataframe tbody tr th {\n",
       "        vertical-align: top;\n",
       "    }\n",
       "\n",
       "    .dataframe thead th {\n",
       "        text-align: right;\n",
       "    }\n",
       "</style>\n",
       "<table border=\"1\" class=\"dataframe\">\n",
       "  <thead>\n",
       "    <tr style=\"text-align: right;\">\n",
       "      <th></th>\n",
       "      <th>Persistency_Flag</th>\n",
       "    </tr>\n",
       "  </thead>\n",
       "  <tbody>\n",
       "    <tr>\n",
       "      <th>Persistency_Flag</th>\n",
       "      <td>1.000000</td>\n",
       "    </tr>\n",
       "    <tr>\n",
       "      <th>Persistency_Flag_labels</th>\n",
       "      <td>1.000000</td>\n",
       "    </tr>\n",
       "    <tr>\n",
       "      <th>Comorb_Long_Term_Current_Drug_Therapy</th>\n",
       "      <td>0.290018</td>\n",
       "    </tr>\n",
       "    <tr>\n",
       "      <th>Comorb_Encntr_For_General_Exam_W_O_Complaint,_Susp_Or_Reprtd_Dx</th>\n",
       "      <td>0.247497</td>\n",
       "    </tr>\n",
       "    <tr>\n",
       "      <th>Comorb_Encounter_For_Immunization</th>\n",
       "      <td>0.239352</td>\n",
       "    </tr>\n",
       "    <tr>\n",
       "      <th>Concom_Viral_Vaccines</th>\n",
       "      <td>0.238560</td>\n",
       "    </tr>\n",
       "    <tr>\n",
       "      <th>Concom_Systemic_Corticosteroids_Plain</th>\n",
       "      <td>0.234913</td>\n",
       "    </tr>\n",
       "    <tr>\n",
       "      <th>Comorb_Other_Joint_Disorder_Not_Elsewhere_Classified</th>\n",
       "      <td>0.206096</td>\n",
       "    </tr>\n",
       "    <tr>\n",
       "      <th>Comorb_Encounter_For_Screening_For_Malignant_Neoplasms</th>\n",
       "      <td>0.202076</td>\n",
       "    </tr>\n",
       "    <tr>\n",
       "      <th>Concom_Cephalosporins</th>\n",
       "      <td>0.196740</td>\n",
       "    </tr>\n",
       "    <tr>\n",
       "      <th>Gluco_Record_During_Rx</th>\n",
       "      <td>0.192234</td>\n",
       "    </tr>\n",
       "    <tr>\n",
       "      <th>Concom_Macrolides_And_Similar_Types</th>\n",
       "      <td>0.189091</td>\n",
       "    </tr>\n",
       "    <tr>\n",
       "      <th>Comorb_Gastro_esophageal_reflux_disease</th>\n",
       "      <td>0.182450</td>\n",
       "    </tr>\n",
       "    <tr>\n",
       "      <th>Concom_Fluoroquinolones</th>\n",
       "      <td>0.179059</td>\n",
       "    </tr>\n",
       "    <tr>\n",
       "      <th>Concom_Narcotics</th>\n",
       "      <td>0.173295</td>\n",
       "    </tr>\n",
       "    <tr>\n",
       "      <th>Concom_Anaesthetics_General</th>\n",
       "      <td>0.156492</td>\n",
       "    </tr>\n",
       "    <tr>\n",
       "      <th>Concom_Broad_Spectrum_Penicillins</th>\n",
       "      <td>0.155954</td>\n",
       "    </tr>\n",
       "    <tr>\n",
       "      <th>Comorb_Dorsalgia</th>\n",
       "      <td>0.150229</td>\n",
       "    </tr>\n",
       "    <tr>\n",
       "      <th>Comorb_Disorders_of_lipoprotein_metabolism_and_other_lipidemias</th>\n",
       "      <td>0.148036</td>\n",
       "    </tr>\n",
       "    <tr>\n",
       "      <th>Comorb_Other_Disorders_Of_Bone_Density_And_Structure</th>\n",
       "      <td>0.145802</td>\n",
       "    </tr>\n",
       "    <tr>\n",
       "      <th>Concom_Cholesterol_And_Triglyceride_Regulating_Preparations</th>\n",
       "      <td>0.136882</td>\n",
       "    </tr>\n",
       "    <tr>\n",
       "      <th>Comorb_Personal_History_Of_Other_Diseases_And_Conditions</th>\n",
       "      <td>0.136872</td>\n",
       "    </tr>\n",
       "    <tr>\n",
       "      <th>Comorb_Vitamin_D_Deficiency</th>\n",
       "      <td>0.131923</td>\n",
       "    </tr>\n",
       "    <tr>\n",
       "      <th>Ntm_Speciality</th>\n",
       "      <td>0.131463</td>\n",
       "    </tr>\n",
       "    <tr>\n",
       "      <th>Ntm_Speciality_labels</th>\n",
       "      <td>0.131463</td>\n",
       "    </tr>\n",
       "    <tr>\n",
       "      <th>Comorb_Encntr_For_Oth_Sp_Exam_W_O_Complaint_Suspected_Or_Reprtd_Dx</th>\n",
       "      <td>0.125418</td>\n",
       "    </tr>\n",
       "    <tr>\n",
       "      <th>Comorb_Personal_history_of_malignant_neoplasm</th>\n",
       "      <td>0.117480</td>\n",
       "    </tr>\n",
       "    <tr>\n",
       "      <th>Frag_Frac_During_Rx</th>\n",
       "      <td>0.113834</td>\n",
       "    </tr>\n",
       "    <tr>\n",
       "      <th>Idn_Indicator</th>\n",
       "      <td>0.111738</td>\n",
       "    </tr>\n",
       "    <tr>\n",
       "      <th>Ntm_Speciality_Bucket</th>\n",
       "      <td>0.109705</td>\n",
       "    </tr>\n",
       "    <tr>\n",
       "      <th>Ntm_Speciality_Bucket_labels</th>\n",
       "      <td>0.109705</td>\n",
       "    </tr>\n",
       "    <tr>\n",
       "      <th>Risk_Smoking_Tobacco</th>\n",
       "      <td>0.102754</td>\n",
       "    </tr>\n",
       "    <tr>\n",
       "      <th>Injectable_Experience_During_Rx</th>\n",
       "      <td>0.100773</td>\n",
       "    </tr>\n",
       "    <tr>\n",
       "      <th>Concom_Anti_Depressants_And_Mood_Stabilisers</th>\n",
       "      <td>0.095487</td>\n",
       "    </tr>\n",
       "    <tr>\n",
       "      <th>Comorb_Osteoporosis_without_current_pathological_fracture</th>\n",
       "      <td>0.087952</td>\n",
       "    </tr>\n",
       "    <tr>\n",
       "      <th>Change_Risk_Segment_labels</th>\n",
       "      <td>0.083204</td>\n",
       "    </tr>\n",
       "    <tr>\n",
       "      <th>Change_Risk_Segment</th>\n",
       "      <td>0.083204</td>\n",
       "    </tr>\n",
       "    <tr>\n",
       "      <th>Ntm_Specialist_Flag_labels</th>\n",
       "      <td>0.083093</td>\n",
       "    </tr>\n",
       "    <tr>\n",
       "      <th>Ntm_Specialist_Flag</th>\n",
       "      <td>0.083093</td>\n",
       "    </tr>\n",
       "    <tr>\n",
       "      <th>Change_T_Score</th>\n",
       "      <td>0.080342</td>\n",
       "    </tr>\n",
       "    <tr>\n",
       "      <th>Change_T_Score_labels</th>\n",
       "      <td>0.080342</td>\n",
       "    </tr>\n",
       "    <tr>\n",
       "      <th>Age_Bucket</th>\n",
       "      <td>0.059313</td>\n",
       "    </tr>\n",
       "    <tr>\n",
       "      <th>Age_Bucket_labels</th>\n",
       "      <td>0.059313</td>\n",
       "    </tr>\n",
       "    <tr>\n",
       "      <th>Count_Of_Risks</th>\n",
       "      <td>0.050792</td>\n",
       "    </tr>\n",
       "    <tr>\n",
       "      <th>Risk_Vitamin_D_Insufficiency</th>\n",
       "      <td>0.047853</td>\n",
       "    </tr>\n",
       "    <tr>\n",
       "      <th>Risk_Family_History_Of_Osteoporosis</th>\n",
       "      <td>0.040305</td>\n",
       "    </tr>\n",
       "    <tr>\n",
       "      <th>Region_labels</th>\n",
       "      <td>0.034185</td>\n",
       "    </tr>\n",
       "    <tr>\n",
       "      <th>Region</th>\n",
       "      <td>0.034185</td>\n",
       "    </tr>\n",
       "    <tr>\n",
       "      <th>Risk_Chronic_Malnutrition_Or_Malabsorption</th>\n",
       "      <td>0.026736</td>\n",
       "    </tr>\n",
       "    <tr>\n",
       "      <th>Tscore_Bucket_Prior_Ntm</th>\n",
       "      <td>0.023357</td>\n",
       "    </tr>\n",
       "    <tr>\n",
       "      <th>Tscore_Bucket_Prior_Ntm_labels</th>\n",
       "      <td>0.023357</td>\n",
       "    </tr>\n",
       "    <tr>\n",
       "      <th>Risk_Segment_Prior_Ntm</th>\n",
       "      <td>0.019912</td>\n",
       "    </tr>\n",
       "    <tr>\n",
       "      <th>Risk_Segment_Prior_Ntm_labels</th>\n",
       "      <td>0.019912</td>\n",
       "    </tr>\n",
       "    <tr>\n",
       "      <th>Risk_Segment_During_Rx</th>\n",
       "      <td>0.018267</td>\n",
       "    </tr>\n",
       "    <tr>\n",
       "      <th>Risk_Segment_During_Rx_labels</th>\n",
       "      <td>0.018267</td>\n",
       "    </tr>\n",
       "    <tr>\n",
       "      <th>Frag_Frac_Prior_Ntm</th>\n",
       "      <td>0.018140</td>\n",
       "    </tr>\n",
       "    <tr>\n",
       "      <th>Tscore_Bucket_During_Rx_labels</th>\n",
       "      <td>0.009911</td>\n",
       "    </tr>\n",
       "    <tr>\n",
       "      <th>Tscore_Bucket_During_Rx</th>\n",
       "      <td>0.009911</td>\n",
       "    </tr>\n",
       "    <tr>\n",
       "      <th>Gluco_Record_Prior_Ntm</th>\n",
       "      <td>0.006280</td>\n",
       "    </tr>\n",
       "    <tr>\n",
       "      <th>Race</th>\n",
       "      <td>NaN</td>\n",
       "    </tr>\n",
       "    <tr>\n",
       "      <th>Ethnicity</th>\n",
       "      <td>NaN</td>\n",
       "    </tr>\n",
       "    <tr>\n",
       "      <th>Dexa_Freq_During_Rx</th>\n",
       "      <td>NaN</td>\n",
       "    </tr>\n",
       "    <tr>\n",
       "      <th>Dexa_During_Rx</th>\n",
       "      <td>NaN</td>\n",
       "    </tr>\n",
       "    <tr>\n",
       "      <th>Adherent_Flag</th>\n",
       "      <td>NaN</td>\n",
       "    </tr>\n",
       "    <tr>\n",
       "      <th>Race_labels</th>\n",
       "      <td>NaN</td>\n",
       "    </tr>\n",
       "    <tr>\n",
       "      <th>Ethnicity_labels</th>\n",
       "      <td>NaN</td>\n",
       "    </tr>\n",
       "    <tr>\n",
       "      <th>Adherent_Flag_labels</th>\n",
       "      <td>NaN</td>\n",
       "    </tr>\n",
       "  </tbody>\n",
       "</table>\n",
       "</div>"
      ],
      "text/plain": [
       "                                                    Persistency_Flag\n",
       "Persistency_Flag                                            1.000000\n",
       "Persistency_Flag_labels                                     1.000000\n",
       "Comorb_Long_Term_Current_Drug_Therapy                       0.290018\n",
       "Comorb_Encntr_For_General_Exam_W_O_Complaint,_S...          0.247497\n",
       "Comorb_Encounter_For_Immunization                           0.239352\n",
       "Concom_Viral_Vaccines                                       0.238560\n",
       "Concom_Systemic_Corticosteroids_Plain                       0.234913\n",
       "Comorb_Other_Joint_Disorder_Not_Elsewhere_Class...          0.206096\n",
       "Comorb_Encounter_For_Screening_For_Malignant_Ne...          0.202076\n",
       "Concom_Cephalosporins                                       0.196740\n",
       "Gluco_Record_During_Rx                                      0.192234\n",
       "Concom_Macrolides_And_Similar_Types                         0.189091\n",
       "Comorb_Gastro_esophageal_reflux_disease                     0.182450\n",
       "Concom_Fluoroquinolones                                     0.179059\n",
       "Concom_Narcotics                                            0.173295\n",
       "Concom_Anaesthetics_General                                 0.156492\n",
       "Concom_Broad_Spectrum_Penicillins                           0.155954\n",
       "Comorb_Dorsalgia                                            0.150229\n",
       "Comorb_Disorders_of_lipoprotein_metabolism_and_...          0.148036\n",
       "Comorb_Other_Disorders_Of_Bone_Density_And_Stru...          0.145802\n",
       "Concom_Cholesterol_And_Triglyceride_Regulating_...          0.136882\n",
       "Comorb_Personal_History_Of_Other_Diseases_And_C...          0.136872\n",
       "Comorb_Vitamin_D_Deficiency                                 0.131923\n",
       "Ntm_Speciality                                              0.131463\n",
       "Ntm_Speciality_labels                                       0.131463\n",
       "Comorb_Encntr_For_Oth_Sp_Exam_W_O_Complaint_Sus...          0.125418\n",
       "Comorb_Personal_history_of_malignant_neoplasm               0.117480\n",
       "Frag_Frac_During_Rx                                         0.113834\n",
       "Idn_Indicator                                               0.111738\n",
       "Ntm_Speciality_Bucket                                       0.109705\n",
       "Ntm_Speciality_Bucket_labels                                0.109705\n",
       "Risk_Smoking_Tobacco                                        0.102754\n",
       "Injectable_Experience_During_Rx                             0.100773\n",
       "Concom_Anti_Depressants_And_Mood_Stabilisers                0.095487\n",
       "Comorb_Osteoporosis_without_current_pathologica...          0.087952\n",
       "Change_Risk_Segment_labels                                  0.083204\n",
       "Change_Risk_Segment                                         0.083204\n",
       "Ntm_Specialist_Flag_labels                                  0.083093\n",
       "Ntm_Specialist_Flag                                         0.083093\n",
       "Change_T_Score                                              0.080342\n",
       "Change_T_Score_labels                                       0.080342\n",
       "Age_Bucket                                                  0.059313\n",
       "Age_Bucket_labels                                           0.059313\n",
       "Count_Of_Risks                                              0.050792\n",
       "Risk_Vitamin_D_Insufficiency                                0.047853\n",
       "Risk_Family_History_Of_Osteoporosis                         0.040305\n",
       "Region_labels                                               0.034185\n",
       "Region                                                      0.034185\n",
       "Risk_Chronic_Malnutrition_Or_Malabsorption                  0.026736\n",
       "Tscore_Bucket_Prior_Ntm                                     0.023357\n",
       "Tscore_Bucket_Prior_Ntm_labels                              0.023357\n",
       "Risk_Segment_Prior_Ntm                                      0.019912\n",
       "Risk_Segment_Prior_Ntm_labels                               0.019912\n",
       "Risk_Segment_During_Rx                                      0.018267\n",
       "Risk_Segment_During_Rx_labels                               0.018267\n",
       "Frag_Frac_Prior_Ntm                                         0.018140\n",
       "Tscore_Bucket_During_Rx_labels                              0.009911\n",
       "Tscore_Bucket_During_Rx                                     0.009911\n",
       "Gluco_Record_Prior_Ntm                                      0.006280\n",
       "Race                                                             NaN\n",
       "Ethnicity                                                        NaN\n",
       "Dexa_Freq_During_Rx                                              NaN\n",
       "Dexa_During_Rx                                                   NaN\n",
       "Adherent_Flag                                                    NaN\n",
       "Race_labels                                                      NaN\n",
       "Ethnicity_labels                                                 NaN\n",
       "Adherent_Flag_labels                                             NaN"
      ]
     },
     "execution_count": 71,
     "metadata": {},
     "output_type": "execute_result"
    }
   ],
   "source": [
    "np.abs(cat_corr).sort_values(by=['Persistency_Flag'], ascending=False)"
   ]
  },
  {
   "cell_type": "code",
   "execution_count": 38,
   "metadata": {},
   "outputs": [
    {
     "data": {
      "application/vnd.jupyter.widget-view+json": {
       "model_id": "f718d902826d415bb6a346aa18cf680e",
       "version_major": 2,
       "version_minor": 0
      },
      "text/plain": [
       "HBox(children=(HTML(value=''), FloatProgress(value=0.0, layout=Layout(flex='2'), max=68.0), HTML(value='')), l…"
      ]
     },
     "metadata": {},
     "output_type": "display_data"
    },
    {
     "name": "stdout",
     "output_type": "stream",
     "text": [
      "\n",
      "\n",
      "Report SWEETVIZ_REPORT.html was generated! NOTEBOOK/COLAB USERS: the web browser MAY not pop up, regardless, the report IS saved in your notebook/colab files.\n"
     ]
    }
   ],
   "source": [
    "import sweetviz as sv\n",
    "my_report = sv.analyze(df)\n",
    "my_report.show_html() # Default arguments will generate to \"SWEETVIZ_REPORT.html\""
   ]
  },
  {
   "cell_type": "code",
   "execution_count": 39,
   "metadata": {},
   "outputs": [],
   "source": [
    "import matplotlib.pyplot as plt\n",
    "import seaborn as sns"
   ]
  },
  {
   "cell_type": "markdown",
   "metadata": {},
   "source": [
    "#  Hypothesis1 Effects of Demographics on persistency of drugs"
   ]
  },
  {
   "cell_type": "code",
   "execution_count": 65,
   "metadata": {},
   "outputs": [
    {
     "data": {
      "text/plain": [
       "<AxesSubplot:xlabel='Age_Bucket', ylabel='count'>"
      ]
     },
     "execution_count": 65,
     "metadata": {},
     "output_type": "execute_result"
    },
    {
     "data": {
      "image/png": "[encoded data removed]",
      "text/plain": [
       "<Figure size 600x400 with 1 Axes>"
      ]
     },
     "metadata": {},
     "output_type": "display_data"
    }
   ],
   "source": [
    "sns.set_style('whitegrid')\n",
    "sns.countplot(x='Age_Bucket',hue='Persistency_Flag',data=df,palette='RdBu_r')"
   ]
  },
  {
   "cell_type": "markdown",
   "metadata": {},
   "source": [
    "### Result Older patients are more persistent"
   ]
  },
  {
   "cell_type": "code",
   "execution_count": 67,
   "metadata": {},
   "outputs": [
    {
     "data": {
      "text/plain": [
       "<AxesSubplot:xlabel='Region', ylabel='count'>"
      ]
     },
     "execution_count": 67,
     "metadata": {},
     "output_type": "execute_result"
    },
    {
     "data": {
      "image/png": "[encoded data removed]",
      "text/plain": [
       "<Figure size 600x400 with 1 Axes>"
      ]
     },
     "metadata": {},
     "output_type": "display_data"
    }
   ],
   "source": [
    "sns.set_style('whitegrid')\n",
    "sns.countplot(x='Region',hue='Persistency_Flag',data=df,palette='RdBu_r')"
   ]
  },
  {
   "cell_type": "markdown",
   "metadata": {},
   "source": [
    "### Result : People from south is more Persistent followed by midwest"
   ]
  },
  {
   "cell_type": "markdown",
   "metadata": {},
   "source": [
    "####  IDNs are large healthcare delivery organizations that either own or manage multiple points of patient care - from hospitals to physician practices to long term care facilities, and everything in between. "
   ]
  },
  {
   "cell_type": "code",
   "execution_count": 75,
   "metadata": {},
   "outputs": [
    {
     "data": {
      "text/plain": [
       "<AxesSubplot:xlabel='Idn_Indicator', ylabel='count'>"
      ]
     },
     "execution_count": 75,
     "metadata": {},
     "output_type": "execute_result"
    },
    {
     "data": {
      "image/png": "[encoded data removed]",
      "text/plain": [
       "<Figure size 600x400 with 1 Axes>"
      ]
     },
     "metadata": {},
     "output_type": "display_data"
    }
   ],
   "source": [
    "sns.set_style('whitegrid')\n",
    "sns.countplot(x='Idn_Indicator',hue='Persistency_Flag',data=df,palette='RdBu_r')"
   ]
  },
  {
   "cell_type": "markdown",
   "metadata": {},
   "source": [
    "### Result: Patients associated with IDN are more persistent as compared to others"
   ]
  },
  {
   "cell_type": "markdown",
   "metadata": {},
   "source": [
    "## Hypothesis2 Effects of provider attributes on the persistency "
   ]
  },
  {
   "cell_type": "code",
   "execution_count": 80,
   "metadata": {},
   "outputs": [
    {
     "data": {
      "text/plain": [
       "<AxesSubplot:xlabel='Ntm_Speciality', ylabel='count'>"
      ]
     },
     "execution_count": 80,
     "metadata": {},
     "output_type": "execute_result"
    },
    {
     "data": {
      "image/png": "[encoded data removed]",
      "text/plain": [
       "<Figure size 600x400 with 1 Axes>"
      ]
     },
     "metadata": {},
     "output_type": "display_data"
    }
   ],
   "source": [
    "sns.set_style('whitegrid')\n",
    "sns.countplot(x='Ntm_Speciality',hue='Persistency_Flag',data=df,palette='RdBu_r')"
   ]
  },
  {
   "cell_type": "markdown",
   "metadata": {},
   "source": [
    "#### Visualizing as percentage"
   ]
  },
  {
   "cell_type": "code",
   "execution_count": 81,
   "metadata": {},
   "outputs": [
    {
     "data": {
      "text/plain": [
       "<seaborn.axisgrid.FacetGrid at 0x8775ef0d60>"
      ]
     },
     "execution_count": 81,
     "metadata": {},
     "output_type": "execute_result"
    },
    {
     "data": {
      "image/png": "[encoded data removed]",
      "text/plain": [
       "<Figure size 642x500 with 1 Axes>"
      ]
     },
     "metadata": {},
     "output_type": "display_data"
    }
   ],
   "source": [
    "x,y = 'Ntm_Speciality', 'Persistency_Flag'\n",
    "\n",
    "(df\n",
    ".groupby(x)[y]\n",
    ".value_counts(normalize=True)\n",
    ".mul(100)\n",
    ".rename('percent')\n",
    ".reset_index()\n",
    ".pipe((sns.catplot,'data'), x=x,y='percent',hue=y,kind='bar'))"
   ]
  },
  {
   "cell_type": "markdown",
   "metadata": {},
   "source": [
    "### Result 2: Oncology followed by Endocrinology drugs are more persistent\n",
    "#### In general terms Cancer patients are more persistent in nature followed by diabetes and thyroid patient"
   ]
  },
  {
   "cell_type": "code",
   "execution_count": null,
   "metadata": {},
   "outputs": [],
   "source": []
  }
 ],
 "metadata": {
  "kernelspec": {
   "display_name": "Python 3",
   "language": "python",
   "name": "python3"
  },
  "language_info": {
   "codemirror_mode": {
    "name": "ipython",
    "version": 3
   },
   "file_extension": ".py",
   "mimetype": "text/x-python",
   "name": "python",
   "nbconvert_exporter": "python",
   "pygments_lexer": "ipython3",
   "version": "3.8.5"
  }
 },
 "nbformat": 4,
 "nbformat_minor": 4
}
