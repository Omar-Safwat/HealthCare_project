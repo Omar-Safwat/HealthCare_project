{
 "cells": [
  {
   "cell_type": "markdown",
   "metadata": {},
   "source": [
    "# Problem Description: \n",
    "\n",
    " A major challenges that all the pharmaceutical companies faces is to understand the persistency of drug as per the physician prescription.\n",
    "\n",
    "    Persistency is defined as “the extent to which a patient acts in accordance with the prescribed interval, and dose of a dosing regimen.” \n",
    "Medication persistence refers to the act of continuing the treatment for the prescribed duration.\n",
    "Continuing to take a medication long-term, is one aspect of medication adherence. \n",
    "Poor adherence to the prescribed medication therapy has been shown to result in complications, death and increased health care costs"
   ]
  },
  {
   "cell_type": "markdown",
   "metadata": {},
   "source": [
    "# Business Understanding: \n",
    "Medical non-adherence continues to be one of the most widespread issues faced by pharmaceutical industry. While medication non-adherence has had a significant negative effect on patient health outcomes, it also had a profound negative impact on revenue and perceived value of a pharmaceutical company’s medications. According to industry research the global pharmaceutical industry loses more than $600 billion a year in revenue from medication non-adherence.\n",
    "Pharmaceutical industry definitely wants to know the answer of the big question\n",
    "\n",
    "Why don’t patients persist in taking their medication as prescribed?\n",
    "\nABC pharmaceutical company wants to know the answer of this question to enhance the persistency of their drug and hence increasing the revenue.\n",
    "Our team is going to help the company by:\n",
    "*\tValuable insights derived from multivariable analysis of data \n",
    "*\tMachine learning Model- which can provide better predictions\n",
    "*\tWeb App-making the ML model easy to use\n"
   ]
  },
  {
   "cell_type": "code",
   "execution_count": null,
   "metadata": {},
   "outputs": [],
   "source": []
  }
 ],
 "metadata": {
  "kernelspec": {
   "display_name": "Python 3",
   "language": "python",
   "name": "python3"
  },
  "language_info": {
   "codemirror_mode": {
    "name": "ipython",
    "version": 3
   },
   "file_extension": ".py",
   "mimetype": "text/x-python",
   "name": "python",
   "nbconvert_exporter": "python",
   "pygments_lexer": "ipython3",
   "version": "3.8.5"
  }
 },
 "nbformat": 4,
 "nbformat_minor": 4
}
