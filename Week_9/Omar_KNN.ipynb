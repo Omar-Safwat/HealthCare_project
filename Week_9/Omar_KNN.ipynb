{
 "cells": [
  {
   "cell_type": "code",
   "execution_count": 1,
   "id": "043dc3f6",
   "metadata": {},
   "outputs": [],
   "source": [
    "import pandas as pd"
   ]
  },
  {
   "cell_type": "code",
   "execution_count": 2,
   "id": "5b4212d7",
   "metadata": {},
   "outputs": [],
   "source": [
    "data = pd.read_excel('Healthcare_dataset.xlsx', engine='openpyxl', sheet_name='Dataset', na_values=['Uknown', 'Other/Unknown'])"
   ]
  },
  {
   "cell_type": "code",
   "execution_count": 4,
   "id": "751a5be2",
   "metadata": {},
   "outputs": [
    {
     "name": "stdout",
     "output_type": "stream",
     "text": [
      "Percent of rows with NAs =  4.526869158878505 %\n"
     ]
    }
   ],
   "source": [
    "# Counting rows with NA\n",
    "na_count = data.shape[0] - data.dropna().shape[0]\n",
    "percent_na = na_count / data.shape[0] * 100\n",
    "print(\"Percent of rows with NAs = \", percent_na, \"%\")"
   ]
  },
  {
   "cell_type": "code",
   "execution_count": 5,
   "id": "871a2f09",
   "metadata": {},
   "outputs": [
    {
     "name": "stdout",
     "output_type": "stream",
     "text": [
      "How many persistent flags will be removed by deletion method:  4.422032583397983 %\n"
     ]
    }
   ],
   "source": [
    "#Extract rows with NA values only\n",
    "nan_df = data[data.isna().any(axis=1)]\n",
    "#Count frequency of persistency flag\n",
    "persist_na = nan_df['Persistency_Flag'].value_counts()['Persistent']\n",
    "persist_tot = data['Persistency_Flag'].value_counts()['Persistent']\n",
    "\n",
    "print('How many persistent flags will be removed by deletion method: ', persist_na / persist_tot * 100, '%')"
   ]
  },
  {
   "cell_type": "code",
   "execution_count": 6,
   "id": "10c97242",
   "metadata": {},
   "outputs": [
    {
     "name": "stdout",
     "output_type": "stream",
     "text": [
      "{'Caucasian': 0, 'Asian': 1, 'African American': 3}\n"
     ]
    }
   ],
   "source": [
    "#Map values to numbers\n",
    "columns_map = {}\n",
    "df = data.copy()\n",
    "for col in df.columns:\n",
    "    if str(df[col].dtype) == 'object':\n",
    "        val_map = {}\n",
    "        for idx, val in enumerate(list(df[col].unique())):\n",
    "            if df[col].notna().iloc[idx] == True:\n",
    "                val_map[val] = idx \n",
    "            columns_map[col] = val_map\n",
    "print(columns_map['Race'])"
   ]
  },
  {
   "cell_type": "code",
   "execution_count": 8,
   "id": "3d8b16f4",
   "metadata": {},
   "outputs": [
    {
     "name": "stderr",
     "output_type": "stream",
     "text": [
      "<ipython-input-8-a36fa6ff6cdc>:29: SettingWithCopyWarning: \n",
      "A value is trying to be set on a copy of a slice from a DataFrame\n",
      "\n",
      "See the caveats in the documentation: https://pandas.pydata.org/pandas-docs/stable/user_guide/indexing.html#returning-a-view-versus-a-copy\n",
      "  df_filled[col][idx_missing_before] = dummy[col][idx_missing_after].copy()\n"
     ]
    }
   ],
   "source": [
    "#dealing with missing data\n",
    "from sklearn.impute import KNNImputer\n",
    "\n",
    "df = data.copy()\n",
    "#Using Mapping to encode data\n",
    "for col in df.columns:\n",
    "    if str(df[col].dtype) == 'object':\n",
    "        df[col] = df[col].map(columns_map[col])\n",
    "   \n",
    "\n",
    "imputer= KNNImputer(n_neighbors=5)\n",
    "df_filled = df.copy()\n",
    "\n",
    "for col in df_filled.columns:\n",
    "    dummy = df_filled.copy()\n",
    "    #If that column has any missing values\n",
    "    if df_filled[col].isna().any() == True:\n",
    "        #Get indexes of missing values\n",
    "        idx_missing_before = list(df_filled[col][df_filled[col].isna()].index)\n",
    "        #Drop Na from other columns to be use KNN imputer\n",
    "        dummy.dropna(subset=dummy.columns.difference([col]), inplace=True)\n",
    "        \n",
    "        if dummy[col].isna().any() == True: \n",
    "            #Get indexes of missing values after dropping rows above\n",
    "            idx_missing_after = list(dummy[col][dummy[col].isna()].index)\n",
    "            #Impute missing values and subtitute them in df_filled           \n",
    "            dummy = imputer.fit_transform(dummy)  \n",
    "            dummy = pd.DataFrame(dummy, columns=df_filled.columns).apply(round)  #Convert array from imputer() to pandas\n",
    "            df_filled[col][idx_missing_before] = dummy[col][idx_missing_after]"
   ]
  }
 ],
 "metadata": {
  "kernelspec": {
   "display_name": "Python 3",
   "language": "python",
   "name": "python3"
  },
  "language_info": {
   "codemirror_mode": {
    "name": "ipython",
    "version": 3
   },
   "file_extension": ".py",
   "mimetype": "text/x-python",
   "name": "python",
   "nbconvert_exporter": "python",
   "pygments_lexer": "ipython3",
   "version": "3.8.5"
  }
 },
 "nbformat": 4,
 "nbformat_minor": 5
}
