{
 "cells": [
  {
   "cell_type": "code",
   "execution_count": 2,
   "id": "33abd341",
   "metadata": {},
   "outputs": [],
   "source": [
    "import pandas as pd\n",
    "import re"
   ]
  },
  {
   "cell_type": "code",
   "execution_count": 3,
   "id": "0d714f1f",
   "metadata": {},
   "outputs": [],
   "source": [
    "features = pd.read_excel('Healthcare_dataset.xlsx', engine='openpyxl', sheet_name='Feature Description')\n",
    "data = pd.read_excel('Healthcare_dataset.xlsx', engine='openpyxl', sheet_name='Dataset')"
   ]
  },
  {
   "cell_type": "code",
   "execution_count": 20,
   "id": "d28f0aa6",
   "metadata": {},
   "outputs": [
    {
     "data": {
      "text/html": [
       "<div>\n",
       "<style scoped>\n",
       "    .dataframe tbody tr th:only-of-type {\n",
       "        vertical-align: middle;\n",
       "    }\n",
       "\n",
       "    .dataframe tbody tr th {\n",
       "        vertical-align: top;\n",
       "    }\n",
       "\n",
       "    .dataframe thead th {\n",
       "        text-align: right;\n",
       "    }\n",
       "</style>\n",
       "<table border=\"1\" class=\"dataframe\">\n",
       "  <thead>\n",
       "    <tr style=\"text-align: right;\">\n",
       "      <th></th>\n",
       "      <th>Bucket</th>\n",
       "      <th>Variable</th>\n",
       "      <th>Variable Description</th>\n",
       "    </tr>\n",
       "  </thead>\n",
       "  <tbody>\n",
       "    <tr>\n",
       "      <th>7</th>\n",
       "      <td>NaN</td>\n",
       "      <td>IDN Indicator</td>\n",
       "      <td>Flag indicating patients mapped to IDN</td>\n",
       "    </tr>\n",
       "  </tbody>\n",
       "</table>\n",
       "</div>"
      ],
      "text/plain": [
       "  Bucket       Variable                    Variable Description\n",
       "7    NaN  IDN Indicator  Flag indicating patients mapped to IDN"
      ]
     },
     "execution_count": 20,
     "metadata": {},
     "output_type": "execute_result"
    }
   ],
   "source": [
    "idn = [i for i in data.columns if re.match(\"^idn*\", i.lower()) != None]\n",
    "\n",
    "features.loc[features[\"Variable\"] == 'IDN Indicator']"
   ]
  },
  {
   "cell_type": "markdown",
   "id": "897af633",
   "metadata": {},
   "source": [
    "# Important Terminology\n",
    "## IDN \n",
    "\n",
    "Stands for **\"Integrated Delivery Methods\".**<br>\n",
    "Think Mayo Clinic, basically it's an organization or a project, that involves more than one aspect of the health care business to ensure efficiency; e.g. health care, health insurance, clinics..etc, all in one. \n",
    "\n",
    "## HCP\n",
    "\n",
    "Stands for **Health care provider**.<br>\n",
    "All paid and unpaid persons serving in healthcare settings who have the potential for direct or indirect exposure to patients or infectious materials. Think Nurses, Physicians...etc.\n",
    "\n",
    "## NTM\n",
    "\n",
    "Stands for **Nontuberculous Mycobacteria** Infections. These are basically pathogens, think **COVID-19**.\n",
    "\n",
    "### Relevant info\n",
    "\n",
    "NTM are opportunistic pathogens placing some groups at **increased risk**, including those with underlying lung disease or depressed immune systems.<br>\n",
    "NTM are **environmental organisms** that can be found in soil, dust, and water including natural water sources and municipal water sources.\n",
    "\n",
    "## Rx\n",
    "\n",
    "A medical prescription. The symbol \"Rx\" is usually said to stand for the Latin word \"recipe\" meaning **\"to take.\"**<br>\n",
    "**rxdate:** My guess, it is the date up to which the Rx is valid for.\n",
    "\n",
    "**T-score:** Standard deviation from median under a T-distribution.\n",
    "\n",
    "## Multiple Risk Factors\n",
    "\n",
    "## Dexa Scan\n",
    "\n",
    "It's a bone density scan. Results are compared to the average adult of same age using T-score.<br>\n",
    "Used to asses body fat loss, as NTM causes loss of appetite and weight loss.\n",
    "\n",
    "## Fragility Fracture\n",
    "\n",
    "**WHO:** \"Equivalent to a fall from a standing height or less\".\n",
    "\n",
    "## Comorbidity\n",
    "\n",
    "The simultaneous presence of two or more diseases or medical conditions in a patient.\n",
    "\n",
    "## Concomitant drug\n",
    "\n",
    "Concomitant drugs are two or more drugs used or given at or almost at the same time (one after the other, on the same day, etc.).\n",
    "\n",
    "# What to Expect: Using Data Analytics\n",
    "\n",
    "From [Improving patient adherence through data-driven insights](https://www.mckinsey.com/industries/pharmaceuticals-and-medical-products/our-insights/improving-patient-adherence-through-data-driven-insights)\n",
    "\n",
    "There are three principle measures of adherence:\n",
    "\n",
    "* **Persistence**. How long patients take a drug before either switching to a new drug or stopping treatment entirely. \n",
    "* **Compliance**. How closely patients follow the prescribed treatment plan. This is measured by how many persistent patients fill their prescribed doses on schedule, based on the approved product label. \n",
    "* **Adherence**. Combined view of compliance and persistence, measured by the share of all patients, who fill their prescribed doses on schedule, based on the approved product label.<br><br>\n",
    "\n",
    "* Adherence varies from one disease to the other. *(What other diseases was the patient suffering from? In dataset)*\n",
    "* Low adherence is typical to chronic diseases.*(May expect low adherence from data)*\n",
    "* Wide variations of persistence levels medication type. *(How was the medicine administered?)*\n",
    "* Brand of drug (its effectiveness) is a pivoting factor. \n",
    "\n",
    "> These findings highlight the importance of identifying specific drivers of adherence for each individual medication or brand—indicating that it is important to understand the specifics of each medication or brand beyond just understanding the broad factors related to the disease category.\n",
    "\n",
    "## Factors that influence adherence\n",
    "\n",
    "<img src=\"https://www.mckinsey.com/~/media/McKinsey/Industries/Pharmaceuticals%20and%20Medical%20Products/Our%20Insights/Improving%20patient%20adherence%20through%20data%20driven%20insights/SVGZ-Improving-patient-adherence-Ex4.svgz\" width=500><br>\n",
    "<br>\n",
    "\n",
    "**Important:**  \n",
    "\n",
    "> Adherence may also be affected by factors linked to the healthcare system, such as the expertise, experience, and **quality of the physicians** and the structure of their practices. Across several different diseases, we found that patient adherence varied greatly by the physicians who treated them.\n",
    "\n",
    "Dataset categorizes the physicians !<br>\n",
    "\n",
    "\n",
    "**Important:**<br>\n",
    "> In addition, the study showed that **comorbidities—conditions** that accompany a disease—tend to negatively correlate with adherence.\n",
    "\n",
    "**Important:**\n",
    "> The sheer number of medications a patient is taking can also be an important factor\n",
    "\n",
    "**Important:**\n",
    "\n",
    "> Recurring trends across diseases show that a patient’s level of involvement in the community and family-related factors are significant influencers."
   ]
  }
 ],
 "metadata": {
  "kernelspec": {
   "display_name": "Python 3",
   "language": "python",
   "name": "python3"
  },
  "language_info": {
   "codemirror_mode": {
    "name": "ipython",
    "version": 3
   },
   "file_extension": ".py",
   "mimetype": "text/x-python",
   "name": "python",
   "nbconvert_exporter": "python",
   "pygments_lexer": "ipython3",
   "version": "3.8.5"
  }
 },
 "nbformat": 4,
 "nbformat_minor": 5
}
