{
 "cells": [
  {
   "cell_type": "markdown",
   "id": "agreed-train",
   "metadata": {},
   "source": [
    "# Data Science:: Healthcare - Persistency of a drug:: Group Project"
   ]
  },
  {
   "cell_type": "markdown",
   "id": "independent-tuition",
   "metadata": {},
   "source": [
    "## Group name: DG_team_project_PL-RO-KSA-EGY\n",
    "\n",
    "## Team members:\n",
    "- Ms. Larisa Popa - Larisapopa4@gmail.com - Romania - Specialization: Data Science\n",
    "- Ms. Afshan Hashmi - afshanhashmi786@gmail.com - Kingdom of Saudi Arabia - Specialization: Data Science\n",
    "- Mr. Omar Safwat - omarksafwat@gmail.com - Egypt - Specialization: Data Science\n",
    "- Mr. Roger Burek-Bors - roger.burek-bors@hotmail.com - Poland - Specialization: Data Science\n",
    "\n",
    "## GitHub repo: https://github.com/Omar-Safwat/HealthCare_project"
   ]
  },
  {
   "cell_type": "markdown",
   "id": "f30db939",
   "metadata": {},
   "source": [
    "# Problem description \n",
    "\n",
    "According to https://en.wikipedia.org/wiki/Nontuberculous_mycobacteriaNontuberculous, mycobacteria (NTM), also known as environmental mycobacteria, atypical mycobacteria and mycobacteria other than tuberculosis (MOTT), are mycobacteria which do not cause tuberculosis or leprosy (also known as Hansen's disease). NTM do cause pulmonary diseases that resemble tuberculosis. Mycobacteriosis is any of these illnesses, usually meant to exclude tuberculosis. They occur in many animals, including humans.\n",
    "\n",
    "**Epidemiology**\n",
    "\n",
    "NTM are widely distributed in the environment, particularly in wet soil, marshland, streams, rivers and estuaries. Different species of NTM prefer different types of environment. Human disease is believed to be acquired from environmental exposures. Unlike tuberculosis and leprosy, animal-to-human or human-to-human transmission of NTM rarely occurs.\n",
    "\n",
    "NTM diseases have been seen in most industrialized countries, where incidence rates vary from 1.0 to 1.8 cases per 100,000 persons. Recent studies, including one done in Ontario, Canada, suggest that incidence is much higher. Pulmonary NTM is estimated by some experts in the field to be at least ten times more common than TB in the U.S., with at least 150,000 cases per year.\n",
    "\n",
    "**Pathogenesis**\n",
    "\n",
    "The most common clinical manifestation of NTM disease is lung disease, but lymphatic, skin/soft tissue, and disseminated diseases are also important.\n",
    "\n",
    "Pulmonary disease caused by NTM is most often seen in postmenopausal women and patients with underlying lung disease such as cystic fibrosis, bronchiectasis, and prior tuberculosis. It is not uncommon for alpha 1-antitrypsin deficiency, Marfan syndrome, and primary ciliary dyskinesia patients to have pulmonary NTM colonization and/or infection. Pulmonary NTM can also be found in individuals with AIDS and malignant disease. It can be caused by many NTM species, which depends on region, but most frequently MAC and M. kansasii.\n",
    "\n",
    "Clinical symptoms vary in scope and intensity, but commonly include chronic cough, often with purulent sputum. Hemoptysis may also be present. Systemic symptoms include malaise, fatigue, and weight loss in advanced disease. The diagnosis of M. abscessus pulmonary infection requires the presence of symptoms, radiologic abnormalities, and microbiologic cultures.\n",
    "\n",
    "**Diagnosis**\n",
    "\n",
    "Diagnosis of opportunistic mycobacteria is made by repeated isolation and identification of the pathogen with compatible clinical and radiological features. Similar to M. tuberculosis, most nontuberculous mycobacteria can be detected microscopically and grow on Löwenstein-Jensen medium. Many reference centres now use a nucleic acid-based method such as sequence differences detection in the gene coding for 16S ribosomal RNA to identify the species.\n",
    "\n",
    "Pulmonary NTM disease diagnosis requires both identification of the mycobacterium in the patient's lung(s), as well as a high-resolution CT scan of the lungs.\n",
    "\n",
    "Failure to adhere to prescribed-medication regimens is one of the principal reasons patients don’t achieve the expected outcomes from their treatment. Solving this challenge has been a major goal for pharmaceutical and healthcare organizations for decades. Studies show that 50 to 60 percent of patients with chronic illnesses miss doses, take the wrong doses, or drop off treatment in the first year. An estimated 125,000 lives are lost annually in the United States and additional healthcare expenditures of 290 billion USD are driven by nonadherence.<br>\n",
    "\n",
    "In order to gather insights on the factors affecting drug persistency among patients, as per physician's prescription, a dataset is to be collected, investigated and analyzed. To automate this process for a pharmaceutical company, a machine learning classification model is subsequently built and deployed as a WebApp.<br>\n",
    "\n",
    "# Business understanding\n",
    "\n",
    "A Pharmaceutical company aims to improve patient adherence to their drug through data-driven insights. The team will analyze the data and provide the company with a WebApp that utilizes Machine Learning technology, thus aiding the company with predicting future patients' adherence to their drug.\n",
    "\n",
    "The Machine Learning model, built to automate this classification process, is based on a dataset featuring patients infected with NTM. The model will utilize multiple dimensions driving adherence such as:\n",
    "\n",
    "* Patients' demographics.\n",
    "* Provider attributes; speciality of the Health Care Provider.\n",
    "* Clinical Factors pertaining to each patient, e.g. T-Score, Risk Factors, Test results...etc.\n",
    "* Disease/Treatement factors, e.g. Concomitancy, Comorbidity...etc.\n",
    "\n",
    "# Project lifecycle\n",
    "\n",
    "![\"Gantt Tree:\"](gantt.jpg)\n",
    "\n",
    "As seen in the Gant Tree above, the project lifecycle is divided into 4 phases, with a submission deadline of **2021-05-15**.\n",
    "\n",
    "## Phase 1\n",
    "\n",
    "**From:** 2021-04-19<br>\n",
    "**To:** 2021-04-25<br>\n",
    "\n",
    "This phase focuses on understanding the problem, and setting goals that meet with the client's demands. After which the dataset is preprocessed, and relevant data features are extracted for later phase.\n",
    "\n",
    "## Phase 2\n",
    "\n",
    "**From:** 2021-04-26<br>\n",
    "**To:** 2021-05-01<br>\n",
    "\n",
    "In this phase multiple machine learning models will be build and compared.\n",
    "\n",
    "## Phase 3\n",
    "\n",
    "**From:** 2021-05-02<br>\n",
    "**To:** 2021-05-08<br>\n",
    "\n",
    "Following the building of several classification models in the previous phase, all models will be evaluated, subsequently, selecting the most accurate and reliable classification model. \n",
    "\n",
    "## Phase 4\n",
    "\n",
    "**From:** 2021-05-09<br>\n",
    "**To:** 2021-05-15<br>\n",
    "\n",
    "The final phase will focus on building a Web Application that deploys the chosen Machine Learning model.  "
   ]
  },
  {
   "cell_type": "code",
   "execution_count": null,
   "id": "inappropriate-disability",
   "metadata": {},
   "outputs": [],
   "source": []
  }
 ],
 "metadata": {
  "kernelspec": {
   "display_name": "Python 3",
   "language": "python",
   "name": "python3"
  },
  "language_info": {
   "codemirror_mode": {
    "name": "ipython",
    "version": 3
   },
   "file_extension": ".py",
   "mimetype": "text/x-python",
   "name": "python",
   "nbconvert_exporter": "python",
   "pygments_lexer": "ipython3",
   "version": "3.8.5"
  }
 },
 "nbformat": 4,
 "nbformat_minor": 5
}
