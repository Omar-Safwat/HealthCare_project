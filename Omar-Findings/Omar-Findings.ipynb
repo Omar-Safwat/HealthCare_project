{
 "cells": [
  {
   "cell_type": "code",
   "execution_count": 1,
   "id": "33abd341",
   "metadata": {
    "hideCode": false,
    "hidePrompt": false
   },
   "outputs": [],
   "source": [
    "import pandas as pd\n",
    "import numpy as np\n",
    "import re"
   ]
  },
  {
   "cell_type": "code",
   "execution_count": 2,
   "id": "0d714f1f",
   "metadata": {
    "hideCode": false,
    "hidePrompt": false
   },
   "outputs": [],
   "source": [
    "features = pd.read_excel('Healthcare_dataset.xlsx', engine='openpyxl', sheet_name='Feature Description')\n",
    "data = pd.read_excel('Healthcare_dataset.xlsx', engine='openpyxl', sheet_name='Dataset', na_values=['Unknown', 'Other/Unknown'])"
   ]
  },
  {
   "cell_type": "code",
   "execution_count": 3,
   "id": "d28f0aa6",
   "metadata": {
    "hideCode": false,
    "hidePrompt": false
   },
   "outputs": [
    {
     "data": {
      "text/html": [
       "<div>\n",
       "<style scoped>\n",
       "    .dataframe tbody tr th:only-of-type {\n",
       "        vertical-align: middle;\n",
       "    }\n",
       "\n",
       "    .dataframe tbody tr th {\n",
       "        vertical-align: top;\n",
       "    }\n",
       "\n",
       "    .dataframe thead th {\n",
       "        text-align: right;\n",
       "    }\n",
       "</style>\n",
       "<table border=\"1\" class=\"dataframe\">\n",
       "  <thead>\n",
       "    <tr style=\"text-align: right;\">\n",
       "      <th></th>\n",
       "      <th>Bucket</th>\n",
       "      <th>Variable</th>\n",
       "      <th>Variable Description</th>\n",
       "    </tr>\n",
       "  </thead>\n",
       "  <tbody>\n",
       "    <tr>\n",
       "      <th>7</th>\n",
       "      <td>NaN</td>\n",
       "      <td>IDN Indicator</td>\n",
       "      <td>Flag indicating patients mapped to IDN</td>\n",
       "    </tr>\n",
       "  </tbody>\n",
       "</table>\n",
       "</div>"
      ],
      "text/plain": [
       "  Bucket       Variable                    Variable Description\n",
       "7    NaN  IDN Indicator  Flag indicating patients mapped to IDN"
      ]
     },
     "execution_count": 3,
     "metadata": {},
     "output_type": "execute_result"
    }
   ],
   "source": [
    "idn = [i for i in data.columns if re.match(\"^idn*\", i.lower()) != None]\n",
    "features.loc[features[\"Variable\"] == 'IDN Indicator']"
   ]
  },
  {
   "cell_type": "code",
   "execution_count": 4,
   "id": "347f891d",
   "metadata": {
    "hideCode": false,
    "hidePrompt": false
   },
   "outputs": [
    {
     "name": "stdout",
     "output_type": "stream",
     "text": [
      "Percent of rows with NAs =  69.50934579439252 %\n"
     ]
    }
   ],
   "source": [
    "# Counting rows with NA\n",
    "na_count = data.shape[0] - data.dropna().shape[0]\n",
    "percent_na = na_count / data.shape[0] * 100\n",
    "print(\"Percent of rows with NAs = \", percent_na, \"%\")"
   ]
  },
  {
   "cell_type": "code",
   "execution_count": 5,
   "id": "63826a06",
   "metadata": {
    "hideCode": false,
    "hidePrompt": false
   },
   "outputs": [
    {
     "name": "stdout",
     "output_type": "stream",
     "text": [
      "How many persistent flags will be removed by deletion method:  64.70131885182312 %\n"
     ]
    }
   ],
   "source": [
    "#Extract rows with NA values only\n",
    "nan_df = data[data.isna().any(axis=1)]\n",
    "#Count frequency of persistency flag\n",
    "persist_na = nan_df['Persistency_Flag'].value_counts()['Persistent']\n",
    "persist_tot = data['Persistency_Flag'].value_counts()['Persistent']\n",
    "\n",
    "print('How many persistent flags will be removed by deletion method: ', persist_na / persist_tot * 100, '%')"
   ]
  },
  {
   "cell_type": "code",
   "execution_count": 6,
   "id": "a92d3b78",
   "metadata": {
    "hideCode": false,
    "hidePrompt": false
   },
   "outputs": [
    {
     "name": "stdout",
     "output_type": "stream",
     "text": [
      "{'Not Hispanic': 0, 'Hispanic': 1}\n"
     ]
    }
   ],
   "source": [
    "#Map values to numbers\n",
    "columns_map = {}\n",
    "columns_decode = {}\n",
    "for col in data.columns:\n",
    "    if str(data[col].dtype) == 'object':  #If it's a categorical variable\n",
    "        val_map = {}\n",
    "        val_decode = {}\n",
    "        mapped_value = 0\n",
    "        for idx, val in enumerate(data[col].unique()): \n",
    "            not_na = True\n",
    "            if type(val) == float:\n",
    "                not_na = (np.isnan(val) != True)\n",
    "            if  not_na == True: #If the value is not NaN add it to the mapping\n",
    "                val_map[val] = mapped_value \n",
    "                val_decode[mapped_value] = val\n",
    "                mapped_value += 1\n",
    "            columns_map[col] = val_map\n",
    "            columns_decode[col] = val_decode\n",
    "            \n",
    "print(columns_map['Ethnicity'])"
   ]
  },
  {
   "cell_type": "markdown",
   "id": "33a6d6a0",
   "metadata": {
    "hideCode": false,
    "hidePrompt": false
   },
   "source": [
    "# OLD Imputation"
   ]
  },
  {
   "cell_type": "raw",
   "id": "04700348",
   "metadata": {
    "hideCode": false,
    "hidePrompt": false,
    "raw_mimetype": "text/x-python",
    "scrolled": false
   },
   "source": [
    "#dealing with missing data\n",
    "from sklearn.impute import KNNImputer\n",
    "\n",
    "df = data.copy()\n",
    "#Using Mapping to encode data\n",
    "for col in df.columns:\n",
    "    if str(df[col].dtype) == 'object':\n",
    "        df[col] = df[col].map(columns_map[col])\n",
    "   \n",
    "\n",
    "imputer= KNNImputer(n_neighbors=5)\n",
    "df_filled = df.copy()\n",
    "\n",
    "for col in df_filled.columns:\n",
    "    dummy = df_filled.copy()\n",
    "    #If that column has any missing values\n",
    "    if df_filled[col].isna().any() == True:\n",
    "        #Get indexes of missing values\n",
    "        idx_missing_before = list(df_filled[col][df_filled[col].isna()].index)\n",
    "        #Drop Na from other columns to be use KNN imputer\n",
    "        dummy.dropna(subset=dummy.columns.difference([col]), inplace=True)\n",
    "        \n",
    "        if dummy[col].isna().any() == True: \n",
    "            #Get indexes of missing values after dropping rows above\n",
    "            idx_missing_after = list(dummy[col][dummy[col].isna()].index)\n",
    "            #Impute missing values and subtitute them in df_filled           \n",
    "            dummy = imputer.fit_transform(dummy)  \n",
    "            dummy = pd.DataFrame(dummy, columns=df_filled.columns).apply(round)  #Convert array from imputer() to pandas\n",
    "            df_filled[col][idx_missing_before] = dummy[col][idx_missing_after]"
   ]
  },
  {
   "cell_type": "markdown",
   "id": "8c01b859",
   "metadata": {
    "hideCode": false,
    "hidePrompt": false
   },
   "source": [
    "# NEW Imputation"
   ]
  },
  {
   "cell_type": "code",
   "execution_count": 7,
   "id": "85056390",
   "metadata": {
    "hideCode": false,
    "hidePrompt": false
   },
   "outputs": [
    {
     "data": {
      "text/plain": [
       "False"
      ]
     },
     "execution_count": 7,
     "metadata": {},
     "output_type": "execute_result"
    }
   ],
   "source": [
    "#dealing with missing data\n",
    "from sklearn.impute import KNNImputer\n",
    "\n",
    "df = data.copy()\n",
    "#Using Mapping to encode data\n",
    "for col in df.columns:\n",
    "    if str(df[col].dtype) == 'object':\n",
    "        df[col] = df[col].map(columns_map[col])\n",
    "   \n",
    "df_filled = df.copy()\n",
    "imputer= KNNImputer(n_neighbors=5)\n",
    "df_filled = imputer.fit_transform(df_filled)\n",
    "df_filled = pd.DataFrame(df_filled, columns=df.columns).apply(round)\n",
    "df_filled.isna().any().any()"
   ]
  },
  {
   "cell_type": "markdown",
   "id": "1358f308",
   "metadata": {
    "hideCode": false,
    "hidePrompt": false
   },
   "source": [
    "# Outlier detection"
   ]
  },
  {
   "cell_type": "raw",
   "id": "c83bd0e3",
   "metadata": {
    "hideCode": false,
    "hidePrompt": false,
    "raw_mimetype": "text/x-python"
   },
   "source": [
    "\n",
    "#New dataframe without outliers.\n",
    "new_df = df_filled.copy()\n",
    "\n",
    "#Get outliers for every column; outliers are values less than 10% in count\n",
    "outliers = {}\n",
    "n_rows = len(data)\n",
    "for col in new_df.columns[2:]:\n",
    "    #outliers[col] = list()\n",
    "    for val in new_df[col].unique():\n",
    "        first = True\n",
    "        ratio = dict(new_df[col].value_counts())[val] * 100 / n_rows\n",
    "        if ratio < 10:\n",
    "            if first == True:\n",
    "                outliers[col] = [val]\n",
    "                first = False\n",
    "            else:\n",
    "                outliers[col].append(val)\n",
    "\n",
    "#for every outlier, if removing it results in more than a 5% deduction in \"Persistent\" flag, don't remove it\n",
    "persist_mapping = columns_map['Persistency_Flag']['Persistent']\n",
    "for i in outliers.keys():\n",
    "    for j in range(0, len(outliers[i])):\n",
    "        #Count of persistent values before removing outliers\n",
    "        old_count = dict(df_filled['Persistency_Flag'].value_counts())[persist_mapping]\n",
    "        new_count = dict(df_filled.loc[df_filled[i] != outliers[i][j], 'Persistency_Flag'].value_counts())[persist_mapping]\n",
    "        ratio = new_count * 100 / old_count\n",
    "        if ratio < 94:\n",
    "            print(ratio, \" \", i, \" \", j)"
   ]
  },
  {
   "cell_type": "markdown",
   "id": "14b560f1",
   "metadata": {
    "hideCode": false,
    "hidePrompt": false
   },
   "source": [
    "# Descriptive Analysis\n"
   ]
  },
  {
   "cell_type": "code",
   "execution_count": 8,
   "id": "5216813a",
   "metadata": {
    "hideCode": false,
    "hidePrompt": false
   },
   "outputs": [
    {
     "name": "stdout",
     "output_type": "stream",
     "text": [
      "Investigating Comorbidity and Adherence accounts for 16 variables out of 67\n"
     ]
    }
   ],
   "source": [
    "#Reverse mapping for visual analysis(decode)\n",
    "df_eda = df_filled.copy()\n",
    "for col in df_eda.columns:\n",
    "    if col in columns_decode.keys():\n",
    "        df_eda[col] = df_eda[col].map(columns_decode[col])\n",
    "#Filter data variables related to comorbidity\n",
    "df_eda = df_eda.filter(regex='^Comorb*|^[A-a]dherent*|^[P-p]ersistency')\n",
    "print(f'Investigating Comorbidity and Adherence accounts for {df_eda.shape[1]} variables out of 67')"
   ]
  },
  {
   "cell_type": "code",
   "execution_count": 9,
   "id": "d5fb9dc4",
   "metadata": {
    "hideCode": false,
    "hidePrompt": false,
    "scrolled": true
   },
   "outputs": [
    {
     "data": {
      "text/html": [
       "<div>\n",
       "<style scoped>\n",
       "    .dataframe tbody tr th:only-of-type {\n",
       "        vertical-align: middle;\n",
       "    }\n",
       "\n",
       "    .dataframe tbody tr th {\n",
       "        vertical-align: top;\n",
       "    }\n",
       "\n",
       "    .dataframe thead th {\n",
       "        text-align: right;\n",
       "    }\n",
       "</style>\n",
       "<table border=\"1\" class=\"dataframe\">\n",
       "  <thead>\n",
       "    <tr style=\"text-align: right;\">\n",
       "      <th></th>\n",
       "      <th>Persistency_Flag</th>\n",
       "      <th>Adherent_Flag</th>\n",
       "      <th>Comorb_Encounter_For_Screening_For_Malignant_Neoplasms</th>\n",
       "      <th>Comorb_Encounter_For_Immunization</th>\n",
       "      <th>Comorb_Encntr_For_General_Exam_W_O_Complaint,_Susp_Or_Reprtd_Dx</th>\n",
       "      <th>Comorb_Vitamin_D_Deficiency</th>\n",
       "      <th>Comorb_Other_Joint_Disorder_Not_Elsewhere_Classified</th>\n",
       "      <th>Comorb_Encntr_For_Oth_Sp_Exam_W_O_Complaint_Suspected_Or_Reprtd_Dx</th>\n",
       "      <th>Comorb_Long_Term_Current_Drug_Therapy</th>\n",
       "      <th>Comorb_Dorsalgia</th>\n",
       "      <th>Comorb_Personal_History_Of_Other_Diseases_And_Conditions</th>\n",
       "      <th>Comorb_Other_Disorders_Of_Bone_Density_And_Structure</th>\n",
       "      <th>Comorb_Disorders_of_lipoprotein_metabolism_and_other_lipidemias</th>\n",
       "      <th>Comorb_Osteoporosis_without_current_pathological_fracture</th>\n",
       "      <th>Comorb_Personal_history_of_malignant_neoplasm</th>\n",
       "      <th>Comorb_Gastro_esophageal_reflux_disease</th>\n",
       "    </tr>\n",
       "  </thead>\n",
       "  <tbody>\n",
       "    <tr>\n",
       "      <th>count</th>\n",
       "      <td>3424</td>\n",
       "      <td>3424</td>\n",
       "      <td>3424</td>\n",
       "      <td>3424</td>\n",
       "      <td>3424</td>\n",
       "      <td>3424</td>\n",
       "      <td>3424</td>\n",
       "      <td>3424</td>\n",
       "      <td>3424</td>\n",
       "      <td>3424</td>\n",
       "      <td>3424</td>\n",
       "      <td>3424</td>\n",
       "      <td>3424</td>\n",
       "      <td>3424</td>\n",
       "      <td>3424</td>\n",
       "      <td>3424</td>\n",
       "    </tr>\n",
       "    <tr>\n",
       "      <th>unique</th>\n",
       "      <td>2</td>\n",
       "      <td>2</td>\n",
       "      <td>2</td>\n",
       "      <td>2</td>\n",
       "      <td>2</td>\n",
       "      <td>2</td>\n",
       "      <td>2</td>\n",
       "      <td>2</td>\n",
       "      <td>2</td>\n",
       "      <td>2</td>\n",
       "      <td>2</td>\n",
       "      <td>2</td>\n",
       "      <td>2</td>\n",
       "      <td>2</td>\n",
       "      <td>2</td>\n",
       "      <td>2</td>\n",
       "    </tr>\n",
       "    <tr>\n",
       "      <th>top</th>\n",
       "      <td>Non-Persistent</td>\n",
       "      <td>Adherent</td>\n",
       "      <td>N</td>\n",
       "      <td>N</td>\n",
       "      <td>N</td>\n",
       "      <td>N</td>\n",
       "      <td>N</td>\n",
       "      <td>N</td>\n",
       "      <td>N</td>\n",
       "      <td>N</td>\n",
       "      <td>N</td>\n",
       "      <td>N</td>\n",
       "      <td>Y</td>\n",
       "      <td>N</td>\n",
       "      <td>N</td>\n",
       "      <td>N</td>\n",
       "    </tr>\n",
       "    <tr>\n",
       "      <th>freq</th>\n",
       "      <td>2135</td>\n",
       "      <td>3251</td>\n",
       "      <td>1891</td>\n",
       "      <td>1911</td>\n",
       "      <td>2072</td>\n",
       "      <td>2331</td>\n",
       "      <td>2425</td>\n",
       "      <td>2633</td>\n",
       "      <td>2607</td>\n",
       "      <td>2645</td>\n",
       "      <td>2747</td>\n",
       "      <td>2906</td>\n",
       "      <td>1765</td>\n",
       "      <td>2507</td>\n",
       "      <td>2775</td>\n",
       "      <td>2794</td>\n",
       "    </tr>\n",
       "    <tr>\n",
       "      <th>percent</th>\n",
       "      <td>62.353972</td>\n",
       "      <td>94.94743</td>\n",
       "      <td>55.227804</td>\n",
       "      <td>55.811916</td>\n",
       "      <td>60.514019</td>\n",
       "      <td>68.078271</td>\n",
       "      <td>70.823598</td>\n",
       "      <td>76.898364</td>\n",
       "      <td>76.139019</td>\n",
       "      <td>77.248832</td>\n",
       "      <td>80.227804</td>\n",
       "      <td>84.871495</td>\n",
       "      <td>51.547897</td>\n",
       "      <td>73.218458</td>\n",
       "      <td>81.045561</td>\n",
       "      <td>81.600467</td>\n",
       "    </tr>\n",
       "  </tbody>\n",
       "</table>\n",
       "</div>"
      ],
      "text/plain": [
       "        Persistency_Flag Adherent_Flag  \\\n",
       "count               3424          3424   \n",
       "unique                 2             2   \n",
       "top       Non-Persistent      Adherent   \n",
       "freq                2135          3251   \n",
       "percent        62.353972      94.94743   \n",
       "\n",
       "        Comorb_Encounter_For_Screening_For_Malignant_Neoplasms  \\\n",
       "count                                                 3424       \n",
       "unique                                                   2       \n",
       "top                                                      N       \n",
       "freq                                                  1891       \n",
       "percent                                          55.227804       \n",
       "\n",
       "        Comorb_Encounter_For_Immunization  \\\n",
       "count                                3424   \n",
       "unique                                  2   \n",
       "top                                     N   \n",
       "freq                                 1911   \n",
       "percent                         55.811916   \n",
       "\n",
       "        Comorb_Encntr_For_General_Exam_W_O_Complaint,_Susp_Or_Reprtd_Dx  \\\n",
       "count                                                 3424                \n",
       "unique                                                   2                \n",
       "top                                                      N                \n",
       "freq                                                  2072                \n",
       "percent                                          60.514019                \n",
       "\n",
       "        Comorb_Vitamin_D_Deficiency  \\\n",
       "count                          3424   \n",
       "unique                            2   \n",
       "top                               N   \n",
       "freq                           2331   \n",
       "percent                   68.078271   \n",
       "\n",
       "        Comorb_Other_Joint_Disorder_Not_Elsewhere_Classified  \\\n",
       "count                                                 3424     \n",
       "unique                                                   2     \n",
       "top                                                      N     \n",
       "freq                                                  2425     \n",
       "percent                                          70.823598     \n",
       "\n",
       "        Comorb_Encntr_For_Oth_Sp_Exam_W_O_Complaint_Suspected_Or_Reprtd_Dx  \\\n",
       "count                                                 3424                   \n",
       "unique                                                   2                   \n",
       "top                                                      N                   \n",
       "freq                                                  2633                   \n",
       "percent                                          76.898364                   \n",
       "\n",
       "        Comorb_Long_Term_Current_Drug_Therapy Comorb_Dorsalgia  \\\n",
       "count                                    3424             3424   \n",
       "unique                                      2                2   \n",
       "top                                         N                N   \n",
       "freq                                     2607             2645   \n",
       "percent                             76.139019        77.248832   \n",
       "\n",
       "        Comorb_Personal_History_Of_Other_Diseases_And_Conditions  \\\n",
       "count                                                 3424         \n",
       "unique                                                   2         \n",
       "top                                                      N         \n",
       "freq                                                  2747         \n",
       "percent                                          80.227804         \n",
       "\n",
       "        Comorb_Other_Disorders_Of_Bone_Density_And_Structure  \\\n",
       "count                                                 3424     \n",
       "unique                                                   2     \n",
       "top                                                      N     \n",
       "freq                                                  2906     \n",
       "percent                                          84.871495     \n",
       "\n",
       "        Comorb_Disorders_of_lipoprotein_metabolism_and_other_lipidemias  \\\n",
       "count                                                 3424                \n",
       "unique                                                   2                \n",
       "top                                                      Y                \n",
       "freq                                                  1765                \n",
       "percent                                          51.547897                \n",
       "\n",
       "        Comorb_Osteoporosis_without_current_pathological_fracture  \\\n",
       "count                                                 3424          \n",
       "unique                                                   2          \n",
       "top                                                      N          \n",
       "freq                                                  2507          \n",
       "percent                                          73.218458          \n",
       "\n",
       "        Comorb_Personal_history_of_malignant_neoplasm  \\\n",
       "count                                            3424   \n",
       "unique                                              2   \n",
       "top                                                 N   \n",
       "freq                                             2775   \n",
       "percent                                     81.045561   \n",
       "\n",
       "        Comorb_Gastro_esophageal_reflux_disease  \n",
       "count                                      3424  \n",
       "unique                                        2  \n",
       "top                                           N  \n",
       "freq                                       2794  \n",
       "percent                               81.600467  "
      ]
     },
     "execution_count": 9,
     "metadata": {},
     "output_type": "execute_result"
    }
   ],
   "source": [
    "#Descriptive analysis\n",
    "pd.concat([df_eda.describe(), \n",
    "           pd.DataFrame({'percent': df_eda.describe().loc['freq'] * 100 / len(df_eda)}).transpose()])"
   ]
  },
  {
   "cell_type": "code",
   "execution_count": 10,
   "id": "d2e9b28e",
   "metadata": {
    "hideCode": false,
    "hidePrompt": false
   },
   "outputs": [],
   "source": [
    "#Renaming columns to shorter names with initials\n",
    "import string\n",
    "table = str.maketrans('', '', string.ascii_lowercase)\n",
    "new_names = [i.translate(table).rstrip('_') for i in df_eda.columns]\n",
    "new_names_encode = dict(zip(df_eda.columns, new_names))\n",
    "new_names_decode = dict(zip(new_names, df_eda.columns))\n",
    "df_eda = df_eda.rename(columns=new_names_encode)"
   ]
  },
  {
   "cell_type": "markdown",
   "id": "226c0cc9",
   "metadata": {
    "hideCode": false,
    "hidePrompt": false
   },
   "source": [
    "# Observations from the plot below\n",
    "\n",
    "1. Observations related to comorbidity do have an impact on Count of persistent flags"
   ]
  },
  {
   "cell_type": "code",
   "execution_count": 11,
   "id": "74e123ce",
   "metadata": {
    "hideCode": false,
    "hidePrompt": false
   },
   "outputs": [
    {
     "data": {
      "text/plain": [
       "<matplotlib.legend.Legend at 0x15d1fddcaf0>"
      ]
     },
     "execution_count": 11,
     "metadata": {},
     "output_type": "execute_result"
    },
    {
     "data": {
      "image/png": "[encoded data removed]",
      "text/plain": [
       "<Figure size 432x288 with 1 Axes>"
      ]
     },
     "metadata": {
      "needs_background": "light"
     },
     "output_type": "display_data"
    }
   ],
   "source": [
    "#Plotting counts of persistent and non persistent flags for \"Y\" labeled comorb\n",
    "import matplotlib.pyplot as plt\n",
    "fig1, ax1 = plt.subplots()\n",
    "\n",
    "Y_persist_height=[]\n",
    "N_persist_height=[]\n",
    "#Calculate Counts of persistent flags for each variable\n",
    "for col_name, col_val in df_eda.loc[:, 'C_E_F_S_F_M_N':].iteritems():\n",
    "    #Persistent flag count is scaled by the count of Yes flags.\n",
    "    Y_persist_height.append(pd.crosstab(index=df_eda['P_F'], columns=col_val).loc['Persistent', 'Y'] / col_val.value_counts()['Y'])\n",
    "    #Persistent flag count is scaled by the count of No flags.\n",
    "    N_persist_height.append(pd.crosstab(index=df_eda['P_F'], columns=col_val).loc['Persistent', 'N'] / col_val.value_counts()['N']) \n",
    "\n",
    "x = np.arange(len(df_eda.columns)-2)\n",
    "ax1.bar(x=x-0.35/2, height=Y_persist_height, width=0.3, label='Y', color='deeppink') \n",
    "ax1.bar(x=x+0.35/2, height=N_persist_height, width=0.3, label='N', color='darkorange')\n",
    "\n",
    "ax1.set_title('Persistent Flag counts per Y/N for each variable')\n",
    "ax1.set_xticks(x)\n",
    "ax1.set_ylabel('Ratio')\n",
    "ax1.set_xlabel('Variable Number')\n",
    "plt.legend(loc='best')"
   ]
  },
  {
   "cell_type": "code",
   "execution_count": 12,
   "id": "d733da09",
   "metadata": {
    "hideCode": false,
    "hidePrompt": false,
    "scrolled": true
   },
   "outputs": [
    {
     "name": "stdout",
     "output_type": "stream",
     "text": [
      "Variables with higher Persistent counts when they have values \"Yes\":\n",
      "\n",
      "Comorb_Encounter_For_Screening_For_Malignant_Neoplasms\n",
      "Comorb_Encounter_For_Immunization\n",
      "Comorb_Encntr_For_General_Exam_W_O_Complaint,_Susp_Or_Reprtd_Dx\n",
      "Comorb_Vitamin_D_Deficiency\n",
      "Comorb_Other_Joint_Disorder_Not_Elsewhere_Classified\n",
      "Comorb_Encntr_For_Oth_Sp_Exam_W_O_Complaint_Suspected_Or_Reprtd_Dx\n",
      "Comorb_Long_Term_Current_Drug_Therapy\n",
      "Comorb_Disorders_of_lipoprotein_metabolism_and_other_lipidemias\n",
      "Comorb_Personal_History_Of_Other_Diseases_And_Conditions\n",
      "Comorb_Other_Disorders_Of_Bone_Density_And_Structure\n",
      "Comorb_Disorders_of_lipoprotein_metabolism_and_other_lipidemias\n",
      "Comorb_Osteoporosis_without_current_pathological_fracture\n",
      "Comorb_Personal_history_of_malignant_neoplasm\n",
      "Comorb_Gastro_esophageal_reflux_disease\n",
      "\n",
      "Variables with higher Persistent counts when they have values \"No\":\n",
      "\n"
     ]
    }
   ],
   "source": [
    "print('Variables with higher Persistent counts when they have values \"Yes\":\\n')\n",
    "for col in [col_val for col_idx, col_val in enumerate(df_eda.columns[2:]) if Y_persist_height[col_idx] > N_persist_height[col_idx]]:\n",
    "    print(new_names_decode[col])\n",
    "    \n",
    "print('\\nVariables with higher Persistent counts when they have values \"No\":\\n')    \n",
    "for col in [col_val for col_idx, col_val in enumerate(df_eda.columns[2:]) if Y_persist_height[col_idx] < N_persist_height[col_idx]]:\n",
    "    print(new_names_decode[col])"
   ]
  },
  {
   "cell_type": "code",
   "execution_count": 13,
   "id": "dcac8bdc",
   "metadata": {},
   "outputs": [
    {
     "name": "stdout",
     "output_type": "stream",
     "text": [
      "Testing Dependency of Persistency on  Comorb_Encounter_For_Screening_For_Malignant_Neoplasms\n",
      "Dependent (reject H0)\n",
      "\n",
      "Testing Dependency of Persistency on  Comorb_Encounter_For_Immunization\n",
      "Dependent (reject H0)\n",
      "\n",
      "Testing Dependency of Persistency on  Comorb_Encntr_For_General_Exam_W_O_Complaint,_Susp_Or_Reprtd_Dx\n",
      "Dependent (reject H0)\n",
      "\n",
      "Testing Dependency of Persistency on  Comorb_Vitamin_D_Deficiency\n",
      "Dependent (reject H0)\n",
      "\n",
      "Testing Dependency of Persistency on  Comorb_Other_Joint_Disorder_Not_Elsewhere_Classified\n",
      "Dependent (reject H0)\n",
      "\n",
      "Testing Dependency of Persistency on  Comorb_Encntr_For_Oth_Sp_Exam_W_O_Complaint_Suspected_Or_Reprtd_Dx\n",
      "Dependent (reject H0)\n",
      "\n",
      "Testing Dependency of Persistency on  Comorb_Long_Term_Current_Drug_Therapy\n",
      "Dependent (reject H0)\n",
      "\n",
      "Testing Dependency of Persistency on  Comorb_Disorders_of_lipoprotein_metabolism_and_other_lipidemias\n",
      "Dependent (reject H0)\n",
      "\n",
      "Testing Dependency of Persistency on  Comorb_Personal_History_Of_Other_Diseases_And_Conditions\n",
      "Dependent (reject H0)\n",
      "\n",
      "Testing Dependency of Persistency on  Comorb_Other_Disorders_Of_Bone_Density_And_Structure\n",
      "Dependent (reject H0)\n",
      "\n",
      "Testing Dependency of Persistency on  Comorb_Disorders_of_lipoprotein_metabolism_and_other_lipidemias\n",
      "Dependent (reject H0)\n",
      "\n",
      "Testing Dependency of Persistency on  Comorb_Osteoporosis_without_current_pathological_fracture\n",
      "Dependent (reject H0)\n",
      "\n",
      "Testing Dependency of Persistency on  Comorb_Personal_history_of_malignant_neoplasm\n",
      "Dependent (reject H0)\n",
      "\n",
      "Testing Dependency of Persistency on  Comorb_Gastro_esophageal_reflux_disease\n",
      "Dependent (reject H0)\n",
      "\n"
     ]
    }
   ],
   "source": [
    "#Performing Chi-Square, test of independence\n",
    "from scipy.stats import chi2_contingency\n",
    "from scipy.stats import chi2\n",
    "\n",
    "def independence_test(table):\n",
    "    # interpret test-statistic\n",
    "    stat, p, dof, expected = chi2_contingency(table)\n",
    "    # interpret p-value\n",
    "    alpha = 0.05\n",
    "    if p <= alpha:\n",
    "        print('Dependent (reject H0)')\n",
    "    else:\n",
    "        print('Independent (fail to reject H0)')\n",
    "        \n",
    "for col_name, col_val in df_eda.loc[:, 'C_E_F_S_F_M_N':].iteritems():\n",
    "    table = pd.crosstab(index=df_eda['P_F'], columns=col_val)\n",
    "    print('Testing Dependency of Persistency on ', new_names_decode[col_name])\n",
    "    independence_test(table)\n",
    "    print('')"
   ]
  },
  {
   "cell_type": "code",
   "execution_count": 14,
   "id": "9144f08b",
   "metadata": {
    "scrolled": true
   },
   "outputs": [
    {
     "data": {
      "text/plain": [
       "Text(0, 0.5, 'Ratio')"
      ]
     },
     "execution_count": 14,
     "metadata": {},
     "output_type": "execute_result"
    },
    {
     "data": {
      "image/png": "[encoded data removed]",
      "text/plain": [
       "<Figure size 432x288 with 1 Axes>"
      ]
     },
     "metadata": {
      "needs_background": "light"
     },
     "output_type": "display_data"
    }
   ],
   "source": [
    "#Plotting Persistency flags against adherence\n",
    "fig2, ax2 = plt.subplots()\n",
    "\n",
    "adherent_persist_height= pd.crosstab(index=df_eda['P_F'], columns=df_eda['A_F']).loc['Persistent', 'Adherent'] / df_eda['A_F'].value_counts()['Adherent']\n",
    "non_adherent_persist_height = pd.crosstab(index=df_eda['P_F'], columns=df_eda['A_F']).loc['Persistent', 'Non-Adherent'] / df_eda['A_F'].value_counts()['Non-Adherent']\n",
    "\n",
    "x = np.array([1, 2])\n",
    "ax2.bar(x=x[0], height=adherent_persist_height, width=0.5, color='deeppink') \n",
    "ax2.bar(x=x[1], height=non_adherent_persist_height, width=0.5, color='darkorange')\n",
    "\n",
    "ax2.set_title('Persistent Flag counts per Adherence counts')\n",
    "ax2.set_xticks(x)\n",
    "ax2.set_xticklabels(['Adherent', 'Non-Adherent'])\n",
    "ax2.set_ylabel('Ratio')"
   ]
  },
  {
   "cell_type": "code",
   "execution_count": 15,
   "id": "fda39c98",
   "metadata": {},
   "outputs": [
    {
     "name": "stdout",
     "output_type": "stream",
     "text": [
      "Testing Dependency of Persistency on Adherence\n",
      "Dependent (reject H0)\n"
     ]
    }
   ],
   "source": [
    "table = pd.crosstab(index=df_eda['P_F'], columns=df_eda['A_F'])\n",
    "print('Testing Dependency of Persistency on Adherence')\n",
    "independence_test(table)"
   ]
  },
  {
   "cell_type": "markdown",
   "id": "8ebb1afc",
   "metadata": {},
   "source": [
    "# Machine Learning Model Random Forest"
   ]
  },
  {
   "cell_type": "code",
   "execution_count": 20,
   "id": "9da71519",
   "metadata": {},
   "outputs": [
    {
     "name": "stdout",
     "output_type": "stream",
     "text": [
      "Accuracy: 0.811284046692607\n"
     ]
    }
   ],
   "source": [
    "from sklearn.model_selection import train_test_split\n",
    "from sklearn.ensemble import RandomForestClassifier\n",
    "from sklearn import metrics\n",
    "\n",
    "X = df_filled.loc[:, df_filled.columns.difference(['Ptid', 'Persistency_Flag'])] #Design Matrix\n",
    "y = df_filled['Persistency_Flag'] #Target variable\n",
    "\n",
    "X_train, X_test, y_train, y_test = train_test_split(X, y, test_size=0.3) # 70% training and 30% test\n",
    "\n",
    "#Create a Gaussian Classifier\n",
    "clf=RandomForestClassifier(n_estimators=100)\n",
    "\n",
    "#Train the model using the training sets y_pred=clf.predict(X_test)\n",
    "clf.fit(X_train,y_train)\n",
    "\n",
    "y_pred=clf.predict(X_test)\n",
    "print(\"Accuracy:\",metrics.accuracy_score(y_test, y_pred))"
   ]
  },
  {
   "cell_type": "code",
   "execution_count": 21,
   "id": "46d23d52",
   "metadata": {},
   "outputs": [
    {
     "data": {
      "image/png": "[encoded data removed]",
      "text/plain": [
       "<Figure size 1600x700 with 2 Axes>"
      ]
     },
     "metadata": {
      "needs_background": "light"
     },
     "output_type": "display_data"
    }
   ],
   "source": [
    "#Confusion Matrix\n",
    "matrix = metrics.confusion_matrix(y_test, y_pred)\n",
    "matrix = matrix.astype('float') / matrix.sum(axis=1)[:, np.newaxis]\n",
    "\n",
    "# Build the plot\n",
    "plt.figure(figsize=(16,7))\n",
    "sns.set(font_scale=1.4)\n",
    "sns.heatmap(matrix, annot=True, annot_kws={'size':10},\n",
    "            cmap=plt.cm.Greens, linewidths=0.2)\n",
    "\n",
    "# Add labels to the plot\n",
    "class_names = ['Presistent', 'Non-Persistent']\n",
    "tick_marks = np.arange(len(class_names))\n",
    "tick_marks2 = tick_marks + 0.5\n",
    "plt.xticks(tick_marks, class_names, rotation=25)\n",
    "plt.yticks(tick_marks2, class_names, rotation=0)\n",
    "plt.xlabel('Predicted label')\n",
    "plt.ylabel('True label')\n",
    "plt.title('Confusion Matrix for Random Forest Model')\n",
    "plt.show()"
   ]
  },
  {
   "cell_type": "code",
   "execution_count": 23,
   "id": "fca3c574",
   "metadata": {},
   "outputs": [
    {
     "name": "stdout",
     "output_type": "stream",
     "text": [
      "              precision    recall  f1-score   support\n",
      "\n",
      "         0.0       0.78      0.69      0.73       385\n",
      "         1.0       0.83      0.88      0.85       643\n",
      "\n",
      "    accuracy                           0.81      1028\n",
      "   macro avg       0.80      0.79      0.79      1028\n",
      "weighted avg       0.81      0.81      0.81      1028\n",
      "\n"
     ]
    }
   ],
   "source": [
    "# View the classification report for test data and predictions\n",
    "print(metrics.classification_report(y_test, y_pred))"
   ]
  },
  {
   "cell_type": "code",
   "execution_count": 17,
   "id": "fb0ae6e8",
   "metadata": {},
   "outputs": [
    {
     "data": {
      "image/png": "[encoded data removed]",
      "text/plain": [
       "<Figure size 432x288 with 1 Axes>"
      ]
     },
     "metadata": {
      "needs_background": "light"
     },
     "output_type": "display_data"
    }
   ],
   "source": [
    "#Find most important features to the model\n",
    "import seaborn as sns\n",
    "feature_imp = pd.Series(clf.feature_importances_, index=X_train.columns).sort_values(ascending=False)\n",
    "\n",
    "sns.barplot(x=feature_imp, y=feature_imp.index)\n",
    "\n",
    "plt.rcParams['figure.figsize'] = [18, 6]\n",
    "plt.rcParams['figure.dpi'] = 100\n",
    "\n",
    "plt.xlabel('Feature Importance Score')\n",
    "plt.ylabel('Features')\n",
    "plt.title(\"Visualizing Important Features\")\n",
    "plt.show()"
   ]
  },
  {
   "cell_type": "markdown",
   "id": "897af633",
   "metadata": {
    "hideCode": false,
    "hidePrompt": false
   },
   "source": [
    "# Important Terminology\n",
    "## IDN \n",
    "\n",
    "Stands for **\"Integrated Delivery Methods\".**<br>\n",
    "Think Mayo Clinic, basically it's an organization or a project, that involves more than one aspect of the health care business to ensure efficiency; e.g. health care, health insurance, clinics..etc, all in one. \n",
    "\n",
    "## HCP\n",
    "\n",
    "Stands for **Health care provider**.<br>\n",
    "All paid and unpaid persons serving in healthcare settings who have the potential for direct or indirect exposure to patients or infectious materials. Think Nurses, Physicians...etc.\n",
    "\n",
    "## NTM\n",
    "\n",
    "Stands for **Nontuberculous Mycobacteria** Infections. These are basically pathogens, think **COVID-19**.\n",
    "\n",
    "### Relevant info\n",
    "\n",
    "NTM are opportunistic pathogens placing some groups at **increased risk**, including those with underlying lung disease or depressed immune systems.<br>\n",
    "NTM are **environmental organisms** that can be found in soil, dust, and water including natural water sources and municipal water sources.\n",
    "\n",
    "## Rx\n",
    "\n",
    "A medical prescription. The symbol \"Rx\" is usually said to stand for the Latin word \"recipe\" meaning **\"to take.\"**<br>\n",
    "**rxdate:** My guess, it is the date up to which the Rx is valid for.\n",
    "\n",
    "**T-score:** Standard deviation from median under a T-distribution.\n",
    "\n",
    "## Multiple Risk Factors\n",
    "\n",
    "## Dexa Scan\n",
    "\n",
    "It's a bone density scan. Results are compared to the average adult of same age using T-score.<br>\n",
    "Used to asses body fat loss, as NTM causes loss of appetite and weight loss.\n",
    "\n",
    "## Fragility Fracture\n",
    "\n",
    "**WHO:** \"Equivalent to a fall from a standing height or less\".\n",
    "\n",
    "## Comorbidity\n",
    "\n",
    "The simultaneous presence of two or more diseases or medical conditions in a patient.\n",
    "\n",
    "## Concomitant drug\n",
    "\n",
    "Concomitant drugs are two or more drugs used or given at or almost at the same time (one after the other, on the same day, etc.).\n",
    "\n",
    "# What to Expect: Using Data Analytics\n",
    "\n",
    "From [Improving patient adherence through data-driven insights](https://www.mckinsey.com/industries/pharmaceuticals-and-medical-products/our-insights/improving-patient-adherence-through-data-driven-insights)\n",
    "\n",
    "There are three principle measures of adherence:\n",
    "\n",
    "* **Persistence**. How long patients take a drug before either switching to a new drug or stopping treatment entirely. \n",
    "* **Compliance**. How closely patients follow the prescribed treatment plan. This is measured by how many persistent patients fill their prescribed doses on schedule, based on the approved product label. \n",
    "* **Adherence**. Combined view of compliance and persistence, measured by the share of all patients, who fill their prescribed doses on schedule, based on the approved product label.<br><br>\n",
    "\n",
    "* Adherence varies from one disease to the other. *(What other diseases was the patient suffering from? In dataset)*\n",
    "* Low adherence is typical to chronic diseases.*(May expect low adherence from data)*\n",
    "* Wide variations of persistence levels medication type. *(How was the medicine administered?)*\n",
    "* Brand of drug (its effectiveness) is a pivoting factor. \n",
    "\n",
    "> These findings highlight the importance of identifying specific drivers of adherence for each individual medication or brand—indicating that it is important to understand the specifics of each medication or brand beyond just understanding the broad factors related to the disease category.\n",
    "\n",
    "## Factors that influence adherence\n",
    "\n",
    "<img src=\"https://www.mckinsey.com/~/media/McKinsey/Industries/Pharmaceuticals%20and%20Medical%20Products/Our%20Insights/Improving%20patient%20adherence%20through%20data%20driven%20insights/SVGZ-Improving-patient-adherence-Ex4.svgz\" width=500><br>\n",
    "<br>\n",
    "\n",
    "**Important:**  \n",
    "\n",
    "> Adherence may also be affected by factors linked to the healthcare system, such as the expertise, experience, and **quality of the physicians** and the structure of their practices. Across several different diseases, we found that patient adherence varied greatly by the physicians who treated them.\n",
    "\n",
    "Dataset categorizes the physicians !<br>\n",
    "\n",
    "\n",
    "**Important:**<br>\n",
    "> In addition, the study showed that **comorbidities—conditions** that accompany a disease—tend to negatively correlate with adherence.\n",
    "\n",
    "**Important:**\n",
    "> The sheer number of medications a patient is taking can also be an important factor\n",
    "\n",
    "**Important:**\n",
    "\n",
    "> Recurring trends across diseases show that a patient’s level of involvement in the community and family-related factors are significant influencers."
   ]
  },
  {
   "cell_type": "markdown",
   "id": "3e35863a",
   "metadata": {
    "hideCode": false,
    "hidePrompt": false
   },
   "source": [
    "# Week 8\n",
    "\n",
    "## Dealing with outliers and NAs: Thought process\n",
    "\n",
    "[Guide link](https://www.analyticsvidhya.com/blog/2016/01/guide-data-exploration/#)\n",
    "\n",
    "1. Is the missing data completely random ? Then use deletion; otherwise deletion might cause bias in the model.\n",
    "2. Imputing (Probably using mode value because we have categorical variables)\n",
    "3. Use Prediction models (Train the model with a part of the dataset with no missing values.), e.g. Logistic regression..etc\n",
    "4. KNN Imputation.\n",
    "\n",
    "[KNN Imputing in Python.](https://www.analyticsvidhya.com/blog/2020/07/knnimputer-a-robust-way-to-impute-missing-values-using-scikit-learn/)"
   ]
  }
 ],
 "metadata": {
  "celltoolbar": "Edit Metadata",
  "hide_code_all_hidden": false,
  "kernelspec": {
   "display_name": "Python 3",
   "language": "python",
   "name": "python3"
  },
  "language_info": {
   "codemirror_mode": {
    "name": "ipython",
    "version": 3
   },
   "file_extension": ".py",
   "mimetype": "text/x-python",
   "name": "python",
   "nbconvert_exporter": "python",
   "pygments_lexer": "ipython3",
   "version": "3.8.5"
  }
 },
 "nbformat": 4,
 "nbformat_minor": 5
}
