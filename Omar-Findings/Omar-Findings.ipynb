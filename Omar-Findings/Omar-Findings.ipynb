{
 "cells": [
  {
   "cell_type": "code",
   "execution_count": 1,
   "id": "33abd341",
   "metadata": {},
   "outputs": [],
   "source": [
    "import pandas as pd\n",
    "import re"
   ]
  },
  {
   "cell_type": "code",
   "execution_count": 32,
   "id": "0d714f1f",
   "metadata": {},
   "outputs": [],
   "source": [
    "features = pd.read_excel('Healthcare_dataset.xlsx', engine='openpyxl', sheet_name='Feature Description')\n",
    "data = pd.read_excel('Healthcare_dataset.xlsx', engine='openpyxl', sheet_name='Dataset', na_values=['Uknown', 'Other/Unknown'])"
   ]
  },
  {
   "cell_type": "code",
   "execution_count": null,
   "id": "d28f0aa6",
   "metadata": {},
   "outputs": [],
   "source": [
    "idn = [i for i in data.columns if re.match(\"^idn*\", i.lower()) != None]\n",
    "features.loc[features[\"Variable\"] == 'IDN Indicator']"
   ]
  },
  {
   "cell_type": "code",
   "execution_count": null,
   "id": "347f891d",
   "metadata": {},
   "outputs": [],
   "source": [
    "# Counting rows with NA\n",
    "na_count = data.shape[0] - data.dropna().shape[0]\n",
    "percent_na = na_count / data.shape[0] * 100\n",
    "print(\"Percent of rows with NAs = \", percent_na, \"%\")"
   ]
  },
  {
   "cell_type": "code",
   "execution_count": null,
   "id": "63826a06",
   "metadata": {},
   "outputs": [],
   "source": [
    "#Extract rows with NA values only\n",
    "nan_df = data[data.isna().any(axis=1)]\n",
    "#Count frequency of persistency flag\n",
    "persist_na = nan_df['Persistency_Flag'].value_counts()['Persistent']\n",
    "persist_tot = data['Persistency_Flag'].value_counts()['Persistent']\n",
    "\n",
    "print('How many persistent flags will be removed by deletion method: ', persist_na / persist_tot * 100, '%')"
   ]
  },
  {
   "cell_type": "code",
   "execution_count": 34,
   "id": "163f19ea",
   "metadata": {},
   "outputs": [
    {
     "data": {
      "text/plain": [
       "Not Hispanic    3235\n",
       "Hispanic          98\n",
       "Unknown           91\n",
       "Name: Ethnicity, dtype: int64"
      ]
     },
     "execution_count": 34,
     "metadata": {},
     "output_type": "execute_result"
    }
   ],
   "source": [
    "#Identify variables with NA values\n",
    "#data.isnull().any().loc[data.isnull().any() == True]\n",
    "data['Ethnicity'].value_counts()"
   ]
  },
  {
   "cell_type": "code",
   "execution_count": 3,
   "id": "a92d3b78",
   "metadata": {},
   "outputs": [
    {
     "name": "stdout",
     "output_type": "stream",
     "text": [
      "{'Caucasian': 0, 'Asian': 1, 'African American': 3}\n"
     ]
    }
   ],
   "source": [
    "#Map values to numbers\n",
    "columns_map = {}\n",
    "for col in data.columns:\n",
    "    if str(data[col].dtype) == 'object':  #If it's a categorical variable\n",
    "        val_map = {}\n",
    "        for idx, val in enumerate(data[col].unique()): \n",
    "            if data[col].notna().iloc[idx] == True: #If the value is not NaN add it to the mapping\n",
    "                val_map[val] = idx \n",
    "            columns_map[col] = val_map\n",
    "print(columns_map['Race'])"
   ]
  },
  {
   "cell_type": "markdown",
   "id": "33a6d6a0",
   "metadata": {},
   "source": [
    "# OLD Imputation"
   ]
  },
  {
   "cell_type": "code",
   "execution_count": 4,
   "id": "7ae4d84a",
   "metadata": {
    "scrolled": false
   },
   "outputs": [
    {
     "name": "stderr",
     "output_type": "stream",
     "text": [
      "<ipython-input-4-b141db2e5968>:29: SettingWithCopyWarning: \n",
      "A value is trying to be set on a copy of a slice from a DataFrame\n",
      "\n",
      "See the caveats in the documentation: https://pandas.pydata.org/pandas-docs/stable/user_guide/indexing.html#returning-a-view-versus-a-copy\n",
      "  df_filled[col][idx_missing_before] = dummy[col][idx_missing_after]\n"
     ]
    }
   ],
   "source": [
    "#dealing with missing data\n",
    "from sklearn.impute import KNNImputer\n",
    "\n",
    "df = data.copy()\n",
    "#Using Mapping to encode data\n",
    "for col in df.columns:\n",
    "    if str(df[col].dtype) == 'object':\n",
    "        df[col] = df[col].map(columns_map[col])\n",
    "   \n",
    "\n",
    "imputer= KNNImputer(n_neighbors=5)\n",
    "df_filled = df.copy()\n",
    "\n",
    "for col in df_filled.columns:\n",
    "    dummy = df_filled.copy()\n",
    "    #If that column has any missing values\n",
    "    if df_filled[col].isna().any() == True:\n",
    "        #Get indexes of missing values\n",
    "        idx_missing_before = list(df_filled[col][df_filled[col].isna()].index)\n",
    "        #Drop Na from other columns to be use KNN imputer\n",
    "        dummy.dropna(subset=dummy.columns.difference([col]), inplace=True)\n",
    "        \n",
    "        if dummy[col].isna().any() == True: \n",
    "            #Get indexes of missing values after dropping rows above\n",
    "            idx_missing_after = list(dummy[col][dummy[col].isna()].index)\n",
    "            #Impute missing values and subtitute them in df_filled           \n",
    "            dummy = imputer.fit_transform(dummy)  \n",
    "            dummy = pd.DataFrame(dummy, columns=df_filled.columns).apply(round)  #Convert array from imputer() to pandas\n",
    "            df_filled[col][idx_missing_before] = dummy[col][idx_missing_after]"
   ]
  },
  {
   "cell_type": "markdown",
   "id": "8c01b859",
   "metadata": {},
   "source": [
    "# NEW Imputation"
   ]
  },
  {
   "cell_type": "code",
   "execution_count": 38,
   "id": "85056390",
   "metadata": {},
   "outputs": [],
   "source": [
    "#dealing with missing data\n",
    "from sklearn.impute import KNNImputer\n",
    "\n",
    "df = data.copy()\n",
    "#Using Mapping to encode data\n",
    "for col in df.columns:\n",
    "    if str(df[col].dtype) == 'object':\n",
    "        df[col] = df[col].map(columns_map[col])\n",
    "   \n",
    "\n",
    "imputer= KNNImputer(n_neighbors=5)\n",
    "df_filled = imputer.fit_transform(df_filled)\n",
    "df_filled = pd.DataFrame(df_filled, columns=df.columns).apply(round)"
   ]
  },
  {
   "cell_type": "code",
   "execution_count": null,
   "id": "ff9991b1",
   "metadata": {},
   "outputs": [],
   "source": [
    "\n",
    "#New dataframe without outliers.\n",
    "new_df = df_filled.copy()\n",
    "\n",
    "#Get outliers for every column; outliers are values less than 10% in count\n",
    "outliers = {}\n",
    "n_rows = len(data)\n",
    "for col in new_df.columns[2:]:\n",
    "    #outliers[col] = list()\n",
    "    for val in new_df[col].unique():\n",
    "        first = True\n",
    "        ratio = dict(new_df[col].value_counts())[val] * 100 / n_rows\n",
    "        if ratio < 10:\n",
    "            if first == True:\n",
    "                outliers[col] = [val]\n",
    "                first = False\n",
    "            else:\n",
    "                outliers[col].append(val)\n",
    "\n",
    "#for every outlier, if removing it results in more than a 5% deduction in \"Persistent\" flag, don't remove it\n",
    "persist_mapping = columns_map['Persistency_Flag']['Persistent']\n",
    "for i in outliers.keys():\n",
    "    for j in range(0, len(outliers[i])):\n",
    "        #Count of persistent values before removing outliers\n",
    "        old_count = dict(df_filled['Persistency_Flag'].value_counts())[persist_mapping]\n",
    "        new_count = dict(df_filled.loc[df_filled[i] != outliers[i][j], 'Persistency_Flag'].value_counts())[persist_mapping]\n",
    "        ratio = new_count * 100 / old_count\n",
    "        if ratio < 94:\n",
    "            print(ratio, \" \", i, \" \", j)"
   ]
  },
  {
   "cell_type": "code",
   "execution_count": null,
   "id": "aff5ed6e",
   "metadata": {},
   "outputs": [],
   "source": [
    "#EDA\n"
   ]
  },
  {
   "cell_type": "markdown",
   "id": "897af633",
   "metadata": {},
   "source": [
    "# Important Terminology\n",
    "## IDN \n",
    "\n",
    "Stands for **\"Integrated Delivery Methods\".**<br>\n",
    "Think Mayo Clinic, basically it's an organization or a project, that involves more than one aspect of the health care business to ensure efficiency; e.g. health care, health insurance, clinics..etc, all in one. \n",
    "\n",
    "## HCP\n",
    "\n",
    "Stands for **Health care provider**.<br>\n",
    "All paid and unpaid persons serving in healthcare settings who have the potential for direct or indirect exposure to patients or infectious materials. Think Nurses, Physicians...etc.\n",
    "\n",
    "## NTM\n",
    "\n",
    "Stands for **Nontuberculous Mycobacteria** Infections. These are basically pathogens, think **COVID-19**.\n",
    "\n",
    "### Relevant info\n",
    "\n",
    "NTM are opportunistic pathogens placing some groups at **increased risk**, including those with underlying lung disease or depressed immune systems.<br>\n",
    "NTM are **environmental organisms** that can be found in soil, dust, and water including natural water sources and municipal water sources.\n",
    "\n",
    "## Rx\n",
    "\n",
    "A medical prescription. The symbol \"Rx\" is usually said to stand for the Latin word \"recipe\" meaning **\"to take.\"**<br>\n",
    "**rxdate:** My guess, it is the date up to which the Rx is valid for.\n",
    "\n",
    "**T-score:** Standard deviation from median under a T-distribution.\n",
    "\n",
    "## Multiple Risk Factors\n",
    "\n",
    "## Dexa Scan\n",
    "\n",
    "It's a bone density scan. Results are compared to the average adult of same age using T-score.<br>\n",
    "Used to asses body fat loss, as NTM causes loss of appetite and weight loss.\n",
    "\n",
    "## Fragility Fracture\n",
    "\n",
    "**WHO:** \"Equivalent to a fall from a standing height or less\".\n",
    "\n",
    "## Comorbidity\n",
    "\n",
    "The simultaneous presence of two or more diseases or medical conditions in a patient.\n",
    "\n",
    "## Concomitant drug\n",
    "\n",
    "Concomitant drugs are two or more drugs used or given at or almost at the same time (one after the other, on the same day, etc.).\n",
    "\n",
    "# What to Expect: Using Data Analytics\n",
    "\n",
    "From [Improving patient adherence through data-driven insights](https://www.mckinsey.com/industries/pharmaceuticals-and-medical-products/our-insights/improving-patient-adherence-through-data-driven-insights)\n",
    "\n",
    "There are three principle measures of adherence:\n",
    "\n",
    "* **Persistence**. How long patients take a drug before either switching to a new drug or stopping treatment entirely. \n",
    "* **Compliance**. How closely patients follow the prescribed treatment plan. This is measured by how many persistent patients fill their prescribed doses on schedule, based on the approved product label. \n",
    "* **Adherence**. Combined view of compliance and persistence, measured by the share of all patients, who fill their prescribed doses on schedule, based on the approved product label.<br><br>\n",
    "\n",
    "* Adherence varies from one disease to the other. *(What other diseases was the patient suffering from? In dataset)*\n",
    "* Low adherence is typical to chronic diseases.*(May expect low adherence from data)*\n",
    "* Wide variations of persistence levels medication type. *(How was the medicine administered?)*\n",
    "* Brand of drug (its effectiveness) is a pivoting factor. \n",
    "\n",
    "> These findings highlight the importance of identifying specific drivers of adherence for each individual medication or brand—indicating that it is important to understand the specifics of each medication or brand beyond just understanding the broad factors related to the disease category.\n",
    "\n",
    "## Factors that influence adherence\n",
    "\n",
    "<img src=\"https://www.mckinsey.com/~/media/McKinsey/Industries/Pharmaceuticals%20and%20Medical%20Products/Our%20Insights/Improving%20patient%20adherence%20through%20data%20driven%20insights/SVGZ-Improving-patient-adherence-Ex4.svgz\" width=500><br>\n",
    "<br>\n",
    "\n",
    "**Important:**  \n",
    "\n",
    "> Adherence may also be affected by factors linked to the healthcare system, such as the expertise, experience, and **quality of the physicians** and the structure of their practices. Across several different diseases, we found that patient adherence varied greatly by the physicians who treated them.\n",
    "\n",
    "Dataset categorizes the physicians !<br>\n",
    "\n",
    "\n",
    "**Important:**<br>\n",
    "> In addition, the study showed that **comorbidities—conditions** that accompany a disease—tend to negatively correlate with adherence.\n",
    "\n",
    "**Important:**\n",
    "> The sheer number of medications a patient is taking can also be an important factor\n",
    "\n",
    "**Important:**\n",
    "\n",
    "> Recurring trends across diseases show that a patient’s level of involvement in the community and family-related factors are significant influencers."
   ]
  },
  {
   "cell_type": "markdown",
   "id": "3e35863a",
   "metadata": {},
   "source": [
    "# Week 8\n",
    "\n",
    "## Dealing with outliers and NAs: Thought process\n",
    "\n",
    "[Guide link](https://www.analyticsvidhya.com/blog/2016/01/guide-data-exploration/#)\n",
    "\n",
    "1. Is the missing data completely random ? Then use deletion; otherwise deletion might cause bias in the model.\n",
    "2. Imputing (Probably using mode value because we have categorical variables)\n",
    "3. Use Prediction models (Train the model with a part of the dataset with no missing values.), e.g. Logistic regression..etc\n",
    "4. KNN Imputation.\n",
    "\n",
    "[KNN Imputing in Python.](https://www.analyticsvidhya.com/blog/2020/07/knnimputer-a-robust-way-to-impute-missing-values-using-scikit-learn/)"
   ]
  },
  {
   "cell_type": "code",
   "execution_count": null,
   "id": "aa014347",
   "metadata": {},
   "outputs": [],
   "source": []
  }
 ],
 "metadata": {
  "kernelspec": {
   "display_name": "Python 3",
   "language": "python",
   "name": "python3"
  },
  "language_info": {
   "codemirror_mode": {
    "name": "ipython",
    "version": 3
   },
   "file_extension": ".py",
   "mimetype": "text/x-python",
   "name": "python",
   "nbconvert_exporter": "python",
   "pygments_lexer": "ipython3",
   "version": "3.8.5"
  }
 },
 "nbformat": 4,
 "nbformat_minor": 5
}
