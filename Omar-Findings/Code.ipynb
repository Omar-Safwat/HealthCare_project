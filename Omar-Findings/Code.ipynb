{
 "cells": [
  {
   "cell_type": "code",
   "execution_count": 1,
   "id": "043dc3f6",
   "metadata": {},
   "outputs": [],
   "source": [
    "import pandas as pd\n",
    "import numpy as np"
   ]
  },
  {
   "cell_type": "code",
   "execution_count": 2,
   "id": "5b4212d7",
   "metadata": {},
   "outputs": [],
   "source": [
    "data = pd.read_excel('Healthcare_dataset.xlsx', engine='openpyxl', sheet_name='Dataset', na_values=['Unknown', 'Other/Unknown'])"
   ]
  },
  {
   "cell_type": "code",
   "execution_count": 3,
   "id": "751a5be2",
   "metadata": {},
   "outputs": [
    {
     "name": "stdout",
     "output_type": "stream",
     "text": [
      "Percent of rows with NAs =  69.50934579439252 %\n"
     ]
    }
   ],
   "source": [
    "# Counting rows with NA\n",
    "na_count = data.shape[0] - data.dropna().shape[0]\n",
    "percent_na = na_count / data.shape[0] * 100\n",
    "print(\"Percent of rows with NAs = \", percent_na, \"%\")"
   ]
  },
  {
   "cell_type": "code",
   "execution_count": 4,
   "id": "871a2f09",
   "metadata": {},
   "outputs": [
    {
     "name": "stdout",
     "output_type": "stream",
     "text": [
      "How many persistent flags will be removed by deletion method:  64.70131885182312 %\n"
     ]
    }
   ],
   "source": [
    "#Extract rows with NA values only\n",
    "nan_df = data[data.isna().any(axis=1)]\n",
    "#Count frequency of persistency flag\n",
    "persist_na = nan_df['Persistency_Flag'].value_counts()['Persistent']\n",
    "persist_tot = data['Persistency_Flag'].value_counts()['Persistent']\n",
    "\n",
    "print('How many persistent flags will be removed by deletion method: ', persist_na / persist_tot * 100, '%')"
   ]
  },
  {
   "cell_type": "code",
   "execution_count": 5,
   "id": "10c97242",
   "metadata": {},
   "outputs": [
    {
     "name": "stdout",
     "output_type": "stream",
     "text": [
      "{'Not Hispanic': 0, 'Hispanic': 1}\n"
     ]
    }
   ],
   "source": [
    "#Map values to numbers\n",
    "columns_map = {}\n",
    "for col in data.columns:\n",
    "    if str(data[col].dtype) == 'object':  #If it's a categorical variable\n",
    "        val_map = {}\n",
    "        mapped_value = 0\n",
    "        for idx, val in enumerate(data[col].unique()): \n",
    "            not_na = True\n",
    "            if type(val) == float:\n",
    "                not_na = (np.isnan(val) != True)\n",
    "            if  not_na == True: #If the value is not NaN add it to the mapping\n",
    "                val_map[val] = mapped_value \n",
    "                mapped_value += 1\n",
    "            columns_map[col] = val_map\n",
    "            \n",
    "print(columns_map['Ethnicity'])"
   ]
  },
  {
   "cell_type": "code",
   "execution_count": 8,
   "id": "50f8b679",
   "metadata": {},
   "outputs": [
    {
     "data": {
      "text/plain": [
       "False"
      ]
     },
     "execution_count": 8,
     "metadata": {},
     "output_type": "execute_result"
    }
   ],
   "source": [
    "#dealing with missing data\n",
    "from sklearn.impute import KNNImputer\n",
    "\n",
    "df = data.copy()\n",
    "#Using Mapping to encode data\n",
    "for col in df.columns:\n",
    "    if str(df[col].dtype) == 'object':\n",
    "        df[col] = df[col].map(columns_map[col])\n",
    "   \n",
    "df_filled = df.copy()\n",
    "imputer= KNNImputer(n_neighbors=5)\n",
    "df_filled = imputer.fit_transform(df_filled)\n",
    "df_filled = pd.DataFrame(df_filled, columns=df.columns).apply(round)\n",
    "df_filled.isna().any().any()"
   ]
  }
 ],
 "metadata": {
  "kernelspec": {
   "display_name": "Python 3",
   "language": "python",
   "name": "python3"
  },
  "language_info": {
   "codemirror_mode": {
    "name": "ipython",
    "version": 3
   },
   "file_extension": ".py",
   "mimetype": "text/x-python",
   "name": "python",
   "nbconvert_exporter": "python",
   "pygments_lexer": "ipython3",
   "version": "3.8.5"
  }
 },
 "nbformat": 4,
 "nbformat_minor": 5
}
