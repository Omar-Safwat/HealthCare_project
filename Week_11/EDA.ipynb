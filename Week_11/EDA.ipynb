{
 "cells": [
  {
   "cell_type": "markdown",
   "id": "controlling-revision",
   "metadata": {},
   "source": [
    "**Project title:** Healthcare - Persistency of a drug<br>\n",
    "**Group name:** DG_team_project_PL-RO-KSA-EGY<br>\n",
    "**Github repo:** [https://github.com/Omar-Safwat/HealthCare_project](https://github.com/Omar-Safwat/HealthCare_project)<br>\n",
    "**Week:** 11<br>\n",
    "\n",
    "\n",
    "#### Team members\n",
    "    \n",
    "| Name | Specialization | Country | Email |\n",
    "| :--- | --- | --- | --- | \n",
    "| Ms. Larisa Popa | Data Science | Romania |Larisapopa4@gmail.com |\n",
    "| Ms. Afshan Hashmi | Data Science | Kingdom of Saudi Arabia | afshanhashmi786@gmail.com |\n",
    "| Mr. Omar Safwat | Data Science | Egypt | omarksafwat@gmail.com |\n",
    "| Mr. Roger Burek-Bors | Data Science | Poland | roger.burek-bors@hotmail.com |"
   ]
  },
  {
   "cell_type": "code",
   "execution_count": null,
   "id": "polished-rings",
   "metadata": {},
   "outputs": [],
   "source": []
  }
 ],
 "metadata": {
  "kernelspec": {
   "display_name": "Python 3",
   "language": "python",
   "name": "python3"
  },
  "language_info": {
   "codemirror_mode": {
    "name": "ipython",
    "version": 3
   },
   "file_extension": ".py",
   "mimetype": "text/x-python",
   "name": "python",
   "nbconvert_exporter": "python",
   "pygments_lexer": "ipython3",
   "version": "3.9.2"
  }
 },
 "nbformat": 4,
 "nbformat_minor": 5
}
