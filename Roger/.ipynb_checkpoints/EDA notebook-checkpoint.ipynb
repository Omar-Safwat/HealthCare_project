{
 "cells": [
  {
   "cell_type": "markdown",
   "id": "dominant-acting",
   "metadata": {},
   "source": [
    "# Data Science:: Healthcare - Persistency of a drug:: Group Project"
   ]
  },
  {
   "cell_type": "markdown",
   "id": "wanted-webmaster",
   "metadata": {},
   "source": [
    "## by Roger Burek-Bors, Larisa Popa, .... - April ....., 2021 "
   ]
  },
  {
   "cell_type": "code",
   "execution_count": 2,
   "id": "clear-alcohol",
   "metadata": {},
   "outputs": [
    {
     "name": "stdout",
     "output_type": "stream",
     "text": [
      "Libraries loaded\n"
     ]
    }
   ],
   "source": [
    "# Loading necessary libraries\n",
    "import pandas as pd\n",
    "import numpy as np\n",
    "import matplotlib.pyplot as plt\n",
    "import datetime as dt\n",
    "import sweetviz as sv\n",
    "%matplotlib inline\n",
    "print(\"Libraries loaded\")"
   ]
  },
  {
   "cell_type": "code",
   "execution_count": 9,
   "id": "billion-focus",
   "metadata": {},
   "outputs": [],
   "source": [
    "drug = pd.read_excel('Healthcare_dataset_1.xls')"
   ]
  },
  {
   "cell_type": "code",
   "execution_count": 10,
   "id": "aboriginal-relevance",
   "metadata": {},
   "outputs": [
    {
     "data": {
      "text/plain": [
       "(3424, 69)"
      ]
     },
     "execution_count": 10,
     "metadata": {},
     "output_type": "execute_result"
    }
   ],
   "source": [
    "drug.shape"
   ]
  },
  {
   "cell_type": "code",
   "execution_count": 11,
   "id": "foster-monday",
   "metadata": {},
   "outputs": [
    {
     "data": {
      "text/html": [
       "<div>\n",
       "<style scoped>\n",
       "    .dataframe tbody tr th:only-of-type {\n",
       "        vertical-align: middle;\n",
       "    }\n",
       "\n",
       "    .dataframe tbody tr th {\n",
       "        vertical-align: top;\n",
       "    }\n",
       "\n",
       "    .dataframe thead th {\n",
       "        text-align: right;\n",
       "    }\n",
       "</style>\n",
       "<table border=\"1\" class=\"dataframe\">\n",
       "  <thead>\n",
       "    <tr style=\"text-align: right;\">\n",
       "      <th></th>\n",
       "      <th>Ptid</th>\n",
       "      <th>Persistency_Flag</th>\n",
       "      <th>Gender</th>\n",
       "      <th>Race</th>\n",
       "      <th>Ethnicity</th>\n",
       "      <th>Region</th>\n",
       "      <th>Age_Bucket</th>\n",
       "      <th>Ntm_Speciality</th>\n",
       "      <th>Ntm_Specialist_Flag</th>\n",
       "      <th>Ntm_Speciality_Bucket</th>\n",
       "      <th>...</th>\n",
       "      <th>Risk_Family_History_Of_Osteoporosis</th>\n",
       "      <th>Risk_Low_Calcium_Intake</th>\n",
       "      <th>Risk_Vitamin_D_Insufficiency</th>\n",
       "      <th>Risk_Poor_Health_Frailty</th>\n",
       "      <th>Risk_Excessive_Thinness</th>\n",
       "      <th>Risk_Hysterectomy_Oophorectomy</th>\n",
       "      <th>Risk_Estrogen_Deficiency</th>\n",
       "      <th>Risk_Immobilization</th>\n",
       "      <th>Risk_Recurring_Falls</th>\n",
       "      <th>Count_Of_Risks</th>\n",
       "    </tr>\n",
       "  </thead>\n",
       "  <tbody>\n",
       "    <tr>\n",
       "      <th>0</th>\n",
       "      <td>P1</td>\n",
       "      <td>Persistent</td>\n",
       "      <td>Male</td>\n",
       "      <td>Caucasian</td>\n",
       "      <td>Not Hispanic</td>\n",
       "      <td>West</td>\n",
       "      <td>&gt;75</td>\n",
       "      <td>GENERAL PRACTITIONER</td>\n",
       "      <td>Others</td>\n",
       "      <td>OB/GYN/Others/PCP/Unknown</td>\n",
       "      <td>...</td>\n",
       "      <td>N</td>\n",
       "      <td>N</td>\n",
       "      <td>N</td>\n",
       "      <td>N</td>\n",
       "      <td>N</td>\n",
       "      <td>N</td>\n",
       "      <td>N</td>\n",
       "      <td>N</td>\n",
       "      <td>N</td>\n",
       "      <td>0</td>\n",
       "    </tr>\n",
       "    <tr>\n",
       "      <th>1</th>\n",
       "      <td>P2</td>\n",
       "      <td>Non-Persistent</td>\n",
       "      <td>Male</td>\n",
       "      <td>Asian</td>\n",
       "      <td>Not Hispanic</td>\n",
       "      <td>West</td>\n",
       "      <td>55-65</td>\n",
       "      <td>GENERAL PRACTITIONER</td>\n",
       "      <td>Others</td>\n",
       "      <td>OB/GYN/Others/PCP/Unknown</td>\n",
       "      <td>...</td>\n",
       "      <td>N</td>\n",
       "      <td>N</td>\n",
       "      <td>N</td>\n",
       "      <td>N</td>\n",
       "      <td>N</td>\n",
       "      <td>N</td>\n",
       "      <td>N</td>\n",
       "      <td>N</td>\n",
       "      <td>N</td>\n",
       "      <td>0</td>\n",
       "    </tr>\n",
       "    <tr>\n",
       "      <th>2</th>\n",
       "      <td>P3</td>\n",
       "      <td>Non-Persistent</td>\n",
       "      <td>Female</td>\n",
       "      <td>Other/Unknown</td>\n",
       "      <td>Hispanic</td>\n",
       "      <td>Midwest</td>\n",
       "      <td>65-75</td>\n",
       "      <td>GENERAL PRACTITIONER</td>\n",
       "      <td>Others</td>\n",
       "      <td>OB/GYN/Others/PCP/Unknown</td>\n",
       "      <td>...</td>\n",
       "      <td>N</td>\n",
       "      <td>Y</td>\n",
       "      <td>N</td>\n",
       "      <td>N</td>\n",
       "      <td>N</td>\n",
       "      <td>N</td>\n",
       "      <td>N</td>\n",
       "      <td>N</td>\n",
       "      <td>N</td>\n",
       "      <td>2</td>\n",
       "    </tr>\n",
       "    <tr>\n",
       "      <th>3</th>\n",
       "      <td>P4</td>\n",
       "      <td>Non-Persistent</td>\n",
       "      <td>Female</td>\n",
       "      <td>Caucasian</td>\n",
       "      <td>Not Hispanic</td>\n",
       "      <td>Midwest</td>\n",
       "      <td>&gt;75</td>\n",
       "      <td>GENERAL PRACTITIONER</td>\n",
       "      <td>Others</td>\n",
       "      <td>OB/GYN/Others/PCP/Unknown</td>\n",
       "      <td>...</td>\n",
       "      <td>N</td>\n",
       "      <td>N</td>\n",
       "      <td>N</td>\n",
       "      <td>N</td>\n",
       "      <td>N</td>\n",
       "      <td>N</td>\n",
       "      <td>N</td>\n",
       "      <td>N</td>\n",
       "      <td>N</td>\n",
       "      <td>1</td>\n",
       "    </tr>\n",
       "    <tr>\n",
       "      <th>4</th>\n",
       "      <td>P5</td>\n",
       "      <td>Non-Persistent</td>\n",
       "      <td>Female</td>\n",
       "      <td>Caucasian</td>\n",
       "      <td>Not Hispanic</td>\n",
       "      <td>Midwest</td>\n",
       "      <td>&gt;75</td>\n",
       "      <td>GENERAL PRACTITIONER</td>\n",
       "      <td>Others</td>\n",
       "      <td>OB/GYN/Others/PCP/Unknown</td>\n",
       "      <td>...</td>\n",
       "      <td>N</td>\n",
       "      <td>N</td>\n",
       "      <td>N</td>\n",
       "      <td>N</td>\n",
       "      <td>N</td>\n",
       "      <td>N</td>\n",
       "      <td>N</td>\n",
       "      <td>N</td>\n",
       "      <td>N</td>\n",
       "      <td>1</td>\n",
       "    </tr>\n",
       "  </tbody>\n",
       "</table>\n",
       "<p>5 rows × 69 columns</p>\n",
       "</div>"
      ],
      "text/plain": [
       "  Ptid Persistency_Flag  Gender           Race     Ethnicity   Region  \\\n",
       "0   P1       Persistent    Male      Caucasian  Not Hispanic     West   \n",
       "1   P2   Non-Persistent    Male          Asian  Not Hispanic     West   \n",
       "2   P3   Non-Persistent  Female  Other/Unknown      Hispanic  Midwest   \n",
       "3   P4   Non-Persistent  Female      Caucasian  Not Hispanic  Midwest   \n",
       "4   P5   Non-Persistent  Female      Caucasian  Not Hispanic  Midwest   \n",
       "\n",
       "  Age_Bucket        Ntm_Speciality Ntm_Specialist_Flag  \\\n",
       "0        >75  GENERAL PRACTITIONER              Others   \n",
       "1      55-65  GENERAL PRACTITIONER              Others   \n",
       "2      65-75  GENERAL PRACTITIONER              Others   \n",
       "3        >75  GENERAL PRACTITIONER              Others   \n",
       "4        >75  GENERAL PRACTITIONER              Others   \n",
       "\n",
       "       Ntm_Speciality_Bucket  ... Risk_Family_History_Of_Osteoporosis  \\\n",
       "0  OB/GYN/Others/PCP/Unknown  ...                                   N   \n",
       "1  OB/GYN/Others/PCP/Unknown  ...                                   N   \n",
       "2  OB/GYN/Others/PCP/Unknown  ...                                   N   \n",
       "3  OB/GYN/Others/PCP/Unknown  ...                                   N   \n",
       "4  OB/GYN/Others/PCP/Unknown  ...                                   N   \n",
       "\n",
       "  Risk_Low_Calcium_Intake  Risk_Vitamin_D_Insufficiency  \\\n",
       "0                       N                             N   \n",
       "1                       N                             N   \n",
       "2                       Y                             N   \n",
       "3                       N                             N   \n",
       "4                       N                             N   \n",
       "\n",
       "  Risk_Poor_Health_Frailty Risk_Excessive_Thinness  \\\n",
       "0                        N                       N   \n",
       "1                        N                       N   \n",
       "2                        N                       N   \n",
       "3                        N                       N   \n",
       "4                        N                       N   \n",
       "\n",
       "  Risk_Hysterectomy_Oophorectomy Risk_Estrogen_Deficiency Risk_Immobilization  \\\n",
       "0                              N                        N                   N   \n",
       "1                              N                        N                   N   \n",
       "2                              N                        N                   N   \n",
       "3                              N                        N                   N   \n",
       "4                              N                        N                   N   \n",
       "\n",
       "  Risk_Recurring_Falls Count_Of_Risks  \n",
       "0                    N              0  \n",
       "1                    N              0  \n",
       "2                    N              2  \n",
       "3                    N              1  \n",
       "4                    N              1  \n",
       "\n",
       "[5 rows x 69 columns]"
      ]
     },
     "execution_count": 11,
     "metadata": {},
     "output_type": "execute_result"
    }
   ],
   "source": [
    "drug.head()"
   ]
  },
  {
   "cell_type": "code",
   "execution_count": 12,
   "id": "universal-trash",
   "metadata": {},
   "outputs": [
    {
     "data": {
      "text/plain": [
       "Index(['Ptid', 'Persistency_Flag', 'Gender', 'Race', 'Ethnicity', 'Region',\n",
       "       'Age_Bucket', 'Ntm_Speciality', 'Ntm_Specialist_Flag',\n",
       "       'Ntm_Speciality_Bucket', 'Gluco_Record_Prior_Ntm',\n",
       "       'Gluco_Record_During_Rx', 'Dexa_Freq_During_Rx', 'Dexa_During_Rx',\n",
       "       'Frag_Frac_Prior_Ntm', 'Frag_Frac_During_Rx', 'Risk_Segment_Prior_Ntm',\n",
       "       'Tscore_Bucket_Prior_Ntm', 'Risk_Segment_During_Rx',\n",
       "       'Tscore_Bucket_During_Rx', 'Change_T_Score', 'Change_Risk_Segment',\n",
       "       'Adherent_Flag', 'Idn_Indicator', 'Injectable_Experience_During_Rx',\n",
       "       'Comorb_Encounter_For_Screening_For_Malignant_Neoplasms',\n",
       "       'Comorb_Encounter_For_Immunization',\n",
       "       'Comorb_Encntr_For_General_Exam_W_O_Complaint,_Susp_Or_Reprtd_Dx',\n",
       "       'Comorb_Vitamin_D_Deficiency',\n",
       "       'Comorb_Other_Joint_Disorder_Not_Elsewhere_Classified',\n",
       "       'Comorb_Encntr_For_Oth_Sp_Exam_W_O_Complaint_Suspected_Or_Reprtd_Dx',\n",
       "       'Comorb_Long_Term_Current_Drug_Therapy', 'Comorb_Dorsalgia',\n",
       "       'Comorb_Personal_History_Of_Other_Diseases_And_Conditions',\n",
       "       'Comorb_Other_Disorders_Of_Bone_Density_And_Structure',\n",
       "       'Comorb_Disorders_of_lipoprotein_metabolism_and_other_lipidemias',\n",
       "       'Comorb_Osteoporosis_without_current_pathological_fracture',\n",
       "       'Comorb_Personal_history_of_malignant_neoplasm',\n",
       "       'Comorb_Gastro_esophageal_reflux_disease',\n",
       "       'Concom_Cholesterol_And_Triglyceride_Regulating_Preparations',\n",
       "       'Concom_Narcotics', 'Concom_Systemic_Corticosteroids_Plain',\n",
       "       'Concom_Anti_Depressants_And_Mood_Stabilisers',\n",
       "       'Concom_Fluoroquinolones', 'Concom_Cephalosporins',\n",
       "       'Concom_Macrolides_And_Similar_Types',\n",
       "       'Concom_Broad_Spectrum_Penicillins', 'Concom_Anaesthetics_General',\n",
       "       'Concom_Viral_Vaccines', 'Risk_Type_1_Insulin_Dependent_Diabetes',\n",
       "       'Risk_Osteogenesis_Imperfecta', 'Risk_Rheumatoid_Arthritis',\n",
       "       'Risk_Untreated_Chronic_Hyperthyroidism',\n",
       "       'Risk_Untreated_Chronic_Hypogonadism', 'Risk_Untreated_Early_Menopause',\n",
       "       'Risk_Patient_Parent_Fractured_Their_Hip', 'Risk_Smoking_Tobacco',\n",
       "       'Risk_Chronic_Malnutrition_Or_Malabsorption',\n",
       "       'Risk_Chronic_Liver_Disease', 'Risk_Family_History_Of_Osteoporosis',\n",
       "       'Risk_Low_Calcium_Intake', 'Risk_Vitamin_D_Insufficiency',\n",
       "       'Risk_Poor_Health_Frailty', 'Risk_Excessive_Thinness',\n",
       "       'Risk_Hysterectomy_Oophorectomy', 'Risk_Estrogen_Deficiency',\n",
       "       'Risk_Immobilization', 'Risk_Recurring_Falls', 'Count_Of_Risks'],\n",
       "      dtype='object')"
      ]
     },
     "execution_count": 12,
     "metadata": {},
     "output_type": "execute_result"
    }
   ],
   "source": [
    "drug.columns"
   ]
  },
  {
   "cell_type": "code",
   "execution_count": 13,
   "id": "conditional-guidance",
   "metadata": {},
   "outputs": [
    {
     "data": {
      "application/vnd.jupyter.widget-view+json": {
       "model_id": "f55ab7d7d3e545f3a23215f992f90748",
       "version_major": 2,
       "version_minor": 0
      },
      "text/plain": [
       "                                             |                                             | [  0%]   00:00 ->…"
      ]
     },
     "metadata": {},
     "output_type": "display_data"
    },
    {
     "name": "stdout",
     "output_type": "stream",
     "text": [
      "Report SWEETVIZ_REPORT.html was generated! NOTEBOOK/COLAB USERS: the web browser MAY not pop up, regardless, the report IS saved in your notebook/colab files.\n"
     ]
    }
   ],
   "source": [
    "my_report = sv.analyze(drug)\n",
    "my_report.show_html()"
   ]
  },
  {
   "cell_type": "code",
   "execution_count": 14,
   "id": "confident-peeing",
   "metadata": {},
   "outputs": [
    {
     "data": {
      "text/plain": [
       "Ptid                              object\n",
       "Persistency_Flag                  object\n",
       "Gender                            object\n",
       "Race                              object\n",
       "Ethnicity                         object\n",
       "                                   ...  \n",
       "Risk_Hysterectomy_Oophorectomy    object\n",
       "Risk_Estrogen_Deficiency          object\n",
       "Risk_Immobilization               object\n",
       "Risk_Recurring_Falls              object\n",
       "Count_Of_Risks                     int64\n",
       "Length: 69, dtype: object"
      ]
     },
     "execution_count": 14,
     "metadata": {},
     "output_type": "execute_result"
    }
   ],
   "source": [
    "drug.dtypes"
   ]
  },
  {
   "cell_type": "code",
   "execution_count": 20,
   "id": "superior-strength",
   "metadata": {},
   "outputs": [
    {
     "data": {
      "text/plain": [
       "0"
      ]
     },
     "execution_count": 20,
     "metadata": {},
     "output_type": "execute_result"
    }
   ],
   "source": [
    "drug.duplicated(subset=None, keep='first').sum()"
   ]
  },
  {
   "cell_type": "code",
   "execution_count": null,
   "id": "accepted-bathroom",
   "metadata": {},
   "outputs": [],
   "source": []
  }
 ],
 "metadata": {
  "kernelspec": {
   "display_name": "Python 3",
   "language": "python",
   "name": "python3"
  },
  "language_info": {
   "codemirror_mode": {
    "name": "ipython",
    "version": 3
   },
   "file_extension": ".py",
   "mimetype": "text/x-python",
   "name": "python",
   "nbconvert_exporter": "python",
   "pygments_lexer": "ipython3",
   "version": "3.9.2"
  }
 },
 "nbformat": 4,
 "nbformat_minor": 5
}
