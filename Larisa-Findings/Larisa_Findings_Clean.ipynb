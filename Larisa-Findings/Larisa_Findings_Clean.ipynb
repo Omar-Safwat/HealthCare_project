{
 "cells": [
  {
   "cell_type": "markdown",
   "id": "sustained-occurrence",
   "metadata": {},
   "source": [
    "# Problem Statement:\n",
    "\n",
    "Persistency of drug as per the physician prescription\n",
    "\n",
    "# ML Problem: Classification\n",
    "\n",
    "# Target Variable: Persistency_Flag\n",
    "\n",
    "Feature Description:\n",
    "\n",
    "Unique Row Id\t\n",
    "Patient ID\t\n",
    "Persistency_Flag\t\n",
    "Demographics:\n",
    " - Age\t\n",
    " - Race\t\n",
    " - Region\n",
    " - Ethnicity\t\n",
    " - Gender\t\n",
    " - IDN Indicator\t---Flag indicating patients mapped to IDN\n",
    "\n",
    "Provider Attributes\t\n",
    "\n",
    " - NTM - Physician Specialty -----\tSpecialty of the HCP that prescribed the NTM Rx\n",
    " - NTM - T-Score \t\n",
    " - T Score       ------        at the time of the NTM Rx (within 2 years prior from rxdate)\n",
    " - Change in T Score \t------ before starting with any therapy and after receiving therapy  \n",
    "                         (Worsened, Remained Same, Improved, Unknown)\n",
    " - NTM Risk Segment\t---- at the time of the NTM Rx (within 2 years days prior from rxdate)\n",
    " - Change in Risk Segment\tbefore starting with any therapy and after receiving therapy\n",
    "                         (Worsened, Remained Same, Improved, Unknown)\n",
    " - NTM Multiple Risk Factors -----\tif  patient falls under multiple risk category (having more than 1 risk) at the time of the NTM Rx (within 365 days prior from rxdate)\n",
    "\n",
    "Clinical Factors:\n",
    "\n",
    " - NTM - Dexa Scan Frequency\t----Number of DEXA scans taken prior to the first NTM Rx date (within 365 days prior from rxdate)\n",
    " - NTM - Dexa Scan Recency\t ----   the presence of Dexa Scan before the NTM Rx (within 2 years prior from rxdate or between their first Rx and Switched Rx; whichever is smaller and applicable)\n",
    " - Dexa During Therapy\t  -----      if the patient had a Dexa Scan during their first continuous therapy\n",
    " - NTM - Fragility Fracture Recency\tif the patient had a recent fragility fracture (within 365 days prior from rxdate)\n",
    " - Fragility Fracture During Therapy ----\tif the patient had fragility fracture  during their first continuous therapy\n",
    " - NTM - Glucocorticoid Recency\t  usage of Glucocorticoids (>=7.5mg strength) in the one year look-back from the first NTM Rx\n",
    " - Glucocorticoid Usage During Therapy\t---if the patient had a Glucocorticoid usage during the first continuous therapy\n",
    " - NTM - Injectable Experience\t-----any injectable drug usage in the recent 12 months before the NTM OP Rx\n",
    " - NTM - Risk Factors\t------- Risk Factors that the patient is falling into. \n",
    "                                for chronic Risk Factors complete lookback to be applied \n",
    "                                for non-chronic Risk Factors, one year lookback from the date of first OP Rx \n",
    " \n",
    " \n",
    "Disease/Treatment Factor\n",
    "\n",
    " - NTM - Comorbidity \t-----Comorbidities are divided into two main categories based on the ICD codes\n",
    "                               Acute \n",
    "                               Chronic --- For chronic disease we are taking complete look back from the first Rx date of NTM therapy and for acute diseases, time period  before the NTM OP Rx with one year lookback has been applied\n",
    "                              \n",
    " - NTM - Concomitancy\tConcomitant drugs recorded prior to starting with a therapy(within 365 days prior from first rxdate)\n",
    " - Adherence\tAdherence for the therapies"
   ]
  },
  {
   "cell_type": "code",
   "execution_count": 24,
   "id": "complete-herald",
   "metadata": {},
   "outputs": [],
   "source": [
    "import pandas as pd\n",
    "import seaborn as sns\n",
    "import matplotlib.pyplot as plt\n",
    "from sklearn.linear_model import LogisticRegression\n",
    "import numpy as np\n",
    "from sklearn import preprocessing\n",
    "import copy\n",
    "from sklearn.model_selection import train_test_split"
   ]
  },
  {
   "cell_type": "code",
   "execution_count": 25,
   "id": "active-ticket",
   "metadata": {},
   "outputs": [
    {
     "name": "stderr",
     "output_type": "stream",
     "text": [
      "The system cannot find the path specified.\n"
     ]
    }
   ],
   "source": [
    "!/usr/bin/env python -W ignore::DeprecationWarning"
   ]
  },
  {
   "cell_type": "code",
   "execution_count": 26,
   "id": "passing-landing",
   "metadata": {},
   "outputs": [],
   "source": [
    "import warnings\n",
    "warnings.filterwarnings(\"ignore\")"
   ]
  },
  {
   "cell_type": "markdown",
   "id": "instant-weight",
   "metadata": {},
   "source": [
    "# NAN values"
   ]
  },
  {
   "cell_type": "code",
   "execution_count": 56,
   "id": "given-baseline",
   "metadata": {},
   "outputs": [],
   "source": [
    "na_values = ['Unknown','Other/Unknown'] # add all values that should be converted to np.nan\n",
    "ds = pd.read_excel('C:\\\\Users\\\\user\\\\Downloads\\\\git_v3\\\\HealthCare_project\\\\Healthcare_dataset.xlsx', \n",
    "                   'Dataset', index_col=None,na_values= na_values, keep_default_na = False)\n"
   ]
  },
  {
   "cell_type": "code",
   "execution_count": 57,
   "id": "artificial-omaha",
   "metadata": {},
   "outputs": [],
   "source": [
    "def chec_nan_values(dataset):\n",
    "    found = False\n",
    "    list_column_nan = []\n",
    "    for column in ds.columns:\n",
    "        if ds[column].isnull().sum() != 0:\n",
    "            found = True\n",
    "            print('Column',column, 'has', ds[column].isnull().sum(),' null values')\n",
    "            list_column_nan.append(column)\n",
    "    if found  == False:\n",
    "        print('The dataset does not contain empty values')\n",
    "    return list_column_nan"
   ]
  },
  {
   "cell_type": "code",
   "execution_count": 58,
   "id": "medieval-edgar",
   "metadata": {},
   "outputs": [
    {
     "name": "stdout",
     "output_type": "stream",
     "text": [
      "Column Race has 97  null values\n",
      "Column Ethnicity has 91  null values\n",
      "Column Region has 60  null values\n",
      "Column Ntm_Speciality has 310  null values\n",
      "Column Risk_Segment_During_Rx has 1497  null values\n",
      "Column Tscore_Bucket_During_Rx has 1497  null values\n",
      "Column Change_T_Score has 1497  null values\n",
      "Column Change_Risk_Segment has 2229  null values\n"
     ]
    }
   ],
   "source": [
    "list_column_nan = chec_nan_values(ds)"
   ]
  },
  {
   "cell_type": "markdown",
   "id": "portable-wallace",
   "metadata": {},
   "source": [
    "See plots how many NaN points are, related to other column categories.\n",
    "![image info](./change_risk_Segment.png)\n",
    "![image info](./change_t_score.png)\n",
    "![image info](./ethnicity.png)\n",
    "![image info](./ntm_specialty.png)\n",
    "![image info](./risk_segment_during_rx.png)\n",
    "![image info](./tscore_bucket_during_rx.png)"
   ]
  },
  {
   "cell_type": "markdown",
   "id": "sapphire-employer",
   "metadata": {},
   "source": [
    "# Predicting unknown values"
   ]
  },
  {
   "cell_type": "markdown",
   "id": "irish-school",
   "metadata": {},
   "source": [
    "Reading with unknown values original plot"
   ]
  },
  {
   "cell_type": "code",
   "execution_count": 59,
   "id": "committed-reducing",
   "metadata": {},
   "outputs": [],
   "source": [
    "ds = ds.replace(['N','Y'],[0,1])"
   ]
  },
  {
   "cell_type": "code",
   "execution_count": 60,
   "id": "focused-backup",
   "metadata": {},
   "outputs": [],
   "source": [
    "list_columns_need_labelling = ['Persistency_Flag', 'Gender', 'Race','Ethnicity','Region','Age_Bucket','Ntm_Speciality','Ntm_Specialist_Flag','Ntm_Speciality_Bucket','Risk_Segment_Prior_Ntm', 'Tscore_Bucket_Prior_Ntm', 'Risk_Segment_During_Rx', 'Tscore_Bucket_During_Rx', 'Change_T_Score', 'Change_Risk_Segment', 'Adherent_Flag']"
   ]
  },
  {
   "cell_type": "code",
   "execution_count": 61,
   "id": "lucky-breeding",
   "metadata": {
    "scrolled": true
   },
   "outputs": [
    {
     "data": {
      "image/png": "[encoded data removed]",
      "text/plain": [
       "<Figure size 720x360 with 1 Axes>"
      ]
     },
     "metadata": {
      "needs_background": "light"
     },
     "output_type": "display_data"
    },
    {
     "data": {
      "image/png": "[encoded data removed]",
      "text/plain": [
       "<Figure size 720x360 with 1 Axes>"
      ]
     },
     "metadata": {
      "needs_background": "light"
     },
     "output_type": "display_data"
    },
    {
     "data": {
      "image/png": "[encoded data removed]",
      "text/plain": [
       "<Figure size 720x360 with 1 Axes>"
      ]
     },
     "metadata": {
      "needs_background": "light"
     },
     "output_type": "display_data"
    },
    {
     "data": {
      "image/png": "[encoded data removed]",
      "text/plain": [
       "<Figure size 720x360 with 1 Axes>"
      ]
     },
     "metadata": {
      "needs_background": "light"
     },
     "output_type": "display_data"
    },
    {
     "data": {
      "image/png": "[encoded data removed]",
      "text/plain": [
       "<Figure size 720x360 with 1 Axes>"
      ]
     },
     "metadata": {
      "needs_background": "light"
     },
     "output_type": "display_data"
    },
    {
     "data": {
      "image/png": "[encoded data removed]",
      "text/plain": [
       "<Figure size 720x360 with 1 Axes>"
      ]
     },
     "metadata": {
      "needs_background": "light"
     },
     "output_type": "display_data"
    },
    {
     "data": {
      "image/png": "[encoded data removed]",
      "text/plain": [
       "<Figure size 720x360 with 1 Axes>"
      ]
     },
     "metadata": {
      "needs_background": "light"
     },
     "output_type": "display_data"
    },
    {
     "data": {
      "image/png": "[encoded data removed]",
      "text/plain": [
       "<Figure size 720x360 with 1 Axes>"
      ]
     },
     "metadata": {
      "needs_background": "light"
     },
     "output_type": "display_data"
    }
   ],
   "source": [
    "lr  = LogisticRegression(solver='newton-cg', random_state=0,class_weight=None)\n",
    "\n",
    "for column_predict in list_column_nan:\n",
    "    ds_copy = ds.copy()\n",
    "    dict_labels = {}\n",
    "    list_column_to_be_deleted = [i for i in list_column_nan if i!= column_predict ]\n",
    "    ds_copy.drop( list_column_to_be_deleted, axis=1, inplace=True)\n",
    "        \n",
    "    X_train = ds_copy[ds_copy[column_predict].notnull()]    \n",
    "    X_train.drop('Ptid', axis=1, inplace=True)\n",
    "    X_test = ds_copy[pd.isnull(ds_copy[column_predict])]\n",
    "    new_predicted_df = pd.DataFrame (X_test['Ptid'])\n",
    "    X_test.drop('Ptid', axis=1, inplace=True)\n",
    "    \n",
    "    list_column_label = [x for x in list_columns_need_labelling if x not in list_column_to_be_deleted ]\n",
    "    \n",
    "    le = preprocessing.LabelEncoder()\n",
    "\n",
    "    for column in list_column_label:\n",
    "        new_column_name = \"{}_labels\".format(column)\n",
    "        if column != column_predict:\n",
    "            X_train[new_column_name] = le.fit_transform(X_train[[column]])\n",
    "            X_test[new_column_name] = le.fit_transform(X_test[[column]])\n",
    "        else:\n",
    "            y_train = pd.DataFrame(le.fit_transform(X_train[[column]]))\n",
    "        \n",
    "            for k in range(len(le.classes_)):\n",
    "                dict_labels[le.transform(le.classes_)[k]] =  le.classes_[k]\n",
    "\n",
    "            \n",
    "    X_train = X_train.select_dtypes(include= np.number)\n",
    "    X_test =  X_test.select_dtypes(include= np.number)\n",
    "        \n",
    "    lr.fit(X_train, y_train)\n",
    "    predictions = lr.predict(X_test)\n",
    "    \n",
    "    new_predicted_df['{}'.format(column_predict)] = [dict_labels[j] for j in predictions]\n",
    "    new_predicted_df.to_csv(\"predicted_{}_df.csv\".format(column_predict), index = None)\n",
    "    \n",
    "   \n",
    "    plt.figure(figsize=(10, 5))\n",
    "    sns.countplot(new_predicted_df[column_predict])\n",
    "    plt.title(column_predict)\n"
   ]
  },
  {
   "cell_type": "markdown",
   "id": "considerable-sunday",
   "metadata": {},
   "source": [
    "# Merge predictions dataframe"
   ]
  },
  {
   "cell_type": "code",
   "execution_count": 62,
   "id": "western-guide",
   "metadata": {},
   "outputs": [],
   "source": [
    "for column_predict in list_column_nan:\n",
    "    df = pd.read_csv(\"predicted_{}_df.csv\".format(column_predict))\n",
    "    ds.loc[pd.isnull(ds[column_predict]),[column_predict]]= df[column_predict].values"
   ]
  },
  {
   "cell_type": "code",
   "execution_count": 63,
   "id": "coordinated-wallace",
   "metadata": {},
   "outputs": [
    {
     "data": {
      "text/plain": [
       "(3424, 69)"
      ]
     },
     "execution_count": 63,
     "metadata": {},
     "output_type": "execute_result"
    }
   ],
   "source": [
    "ds.shape"
   ]
  },
  {
   "cell_type": "code",
   "execution_count": 64,
   "id": "above-barbados",
   "metadata": {},
   "outputs": [
    {
     "name": "stdout",
     "output_type": "stream",
     "text": [
      "The dataset does not contain empty values\n"
     ]
    },
    {
     "data": {
      "text/plain": [
       "[]"
      ]
     },
     "execution_count": 64,
     "metadata": {},
     "output_type": "execute_result"
    }
   ],
   "source": [
    "chec_nan_values(ds)"
   ]
  },
  {
   "cell_type": "code",
   "execution_count": 65,
   "id": "retained-region",
   "metadata": {},
   "outputs": [
    {
     "name": "stdout",
     "output_type": "stream",
     "text": [
      "Risk_Segment_Prior_Ntm\n",
      "VLR_LR    1931\n",
      "HR_VHR    1493\n",
      "dtype: int64\n",
      "Risk_Segment_During_Rx\n",
      "VLR_LR    1830\n",
      "HR_VHR    1594\n",
      "dtype: int64\n",
      "Change_Risk_Segment\n",
      "No change    3224\n",
      "Worsened      178\n",
      "Improved       22\n",
      "dtype: int64\n",
      "Count_Of_Risks\n",
      "1    1242\n",
      "0     970\n",
      "2     781\n",
      "3     317\n",
      "4      91\n",
      "5      15\n",
      "6       6\n",
      "7       2\n",
      "dtype: int64\n"
     ]
    },
    {
     "data": {
      "text/html": [
       "<div>\n",
       "<style scoped>\n",
       "    .dataframe tbody tr th:only-of-type {\n",
       "        vertical-align: middle;\n",
       "    }\n",
       "\n",
       "    .dataframe tbody tr th {\n",
       "        vertical-align: top;\n",
       "    }\n",
       "\n",
       "    .dataframe thead th {\n",
       "        text-align: right;\n",
       "    }\n",
       "</style>\n",
       "<table border=\"1\" class=\"dataframe\">\n",
       "  <thead>\n",
       "    <tr style=\"text-align: right;\">\n",
       "      <th></th>\n",
       "      <th>columns</th>\n",
       "      <th>True</th>\n",
       "      <th>False</th>\n",
       "    </tr>\n",
       "  </thead>\n",
       "  <tbody>\n",
       "    <tr>\n",
       "      <th>0</th>\n",
       "      <td>Risk_Type_1_Insulin_Dependent_Diabetes</td>\n",
       "      <td>139</td>\n",
       "      <td>3285</td>\n",
       "    </tr>\n",
       "    <tr>\n",
       "      <th>1</th>\n",
       "      <td>Risk_Osteogenesis_Imperfecta</td>\n",
       "      <td>3</td>\n",
       "      <td>3421</td>\n",
       "    </tr>\n",
       "    <tr>\n",
       "      <th>2</th>\n",
       "      <td>Risk_Rheumatoid_Arthritis</td>\n",
       "      <td>130</td>\n",
       "      <td>3294</td>\n",
       "    </tr>\n",
       "    <tr>\n",
       "      <th>3</th>\n",
       "      <td>Risk_Untreated_Chronic_Hyperthyroidism</td>\n",
       "      <td>2</td>\n",
       "      <td>3422</td>\n",
       "    </tr>\n",
       "    <tr>\n",
       "      <th>4</th>\n",
       "      <td>Risk_Untreated_Chronic_Hypogonadism</td>\n",
       "      <td>127</td>\n",
       "      <td>3297</td>\n",
       "    </tr>\n",
       "    <tr>\n",
       "      <th>5</th>\n",
       "      <td>Risk_Untreated_Early_Menopause</td>\n",
       "      <td>12</td>\n",
       "      <td>3412</td>\n",
       "    </tr>\n",
       "    <tr>\n",
       "      <th>6</th>\n",
       "      <td>Risk_Patient_Parent_Fractured_Their_Hip</td>\n",
       "      <td>256</td>\n",
       "      <td>3168</td>\n",
       "    </tr>\n",
       "    <tr>\n",
       "      <th>7</th>\n",
       "      <td>Risk_Smoking_Tobacco</td>\n",
       "      <td>644</td>\n",
       "      <td>2780</td>\n",
       "    </tr>\n",
       "    <tr>\n",
       "      <th>8</th>\n",
       "      <td>Risk_Chronic_Malnutrition_Or_Malabsorption</td>\n",
       "      <td>470</td>\n",
       "      <td>2954</td>\n",
       "    </tr>\n",
       "    <tr>\n",
       "      <th>9</th>\n",
       "      <td>Risk_Chronic_Liver_Disease</td>\n",
       "      <td>18</td>\n",
       "      <td>3406</td>\n",
       "    </tr>\n",
       "    <tr>\n",
       "      <th>10</th>\n",
       "      <td>Risk_Family_History_Of_Osteoporosis</td>\n",
       "      <td>358</td>\n",
       "      <td>3066</td>\n",
       "    </tr>\n",
       "    <tr>\n",
       "      <th>11</th>\n",
       "      <td>Risk_Low_Calcium_Intake</td>\n",
       "      <td>42</td>\n",
       "      <td>3382</td>\n",
       "    </tr>\n",
       "    <tr>\n",
       "      <th>12</th>\n",
       "      <td>Risk_Vitamin_D_Insufficiency</td>\n",
       "      <td>1636</td>\n",
       "      <td>1788</td>\n",
       "    </tr>\n",
       "    <tr>\n",
       "      <th>13</th>\n",
       "      <td>Risk_Poor_Health_Frailty</td>\n",
       "      <td>192</td>\n",
       "      <td>3232</td>\n",
       "    </tr>\n",
       "    <tr>\n",
       "      <th>14</th>\n",
       "      <td>Risk_Excessive_Thinness</td>\n",
       "      <td>67</td>\n",
       "      <td>3357</td>\n",
       "    </tr>\n",
       "    <tr>\n",
       "      <th>15</th>\n",
       "      <td>Risk_Hysterectomy_Oophorectomy</td>\n",
       "      <td>54</td>\n",
       "      <td>3370</td>\n",
       "    </tr>\n",
       "    <tr>\n",
       "      <th>16</th>\n",
       "      <td>Risk_Estrogen_Deficiency</td>\n",
       "      <td>11</td>\n",
       "      <td>3413</td>\n",
       "    </tr>\n",
       "    <tr>\n",
       "      <th>17</th>\n",
       "      <td>Risk_Immobilization</td>\n",
       "      <td>14</td>\n",
       "      <td>3410</td>\n",
       "    </tr>\n",
       "    <tr>\n",
       "      <th>18</th>\n",
       "      <td>Risk_Recurring_Falls</td>\n",
       "      <td>69</td>\n",
       "      <td>3355</td>\n",
       "    </tr>\n",
       "  </tbody>\n",
       "</table>\n",
       "</div>"
      ],
      "text/plain": [
       "                                       columns  True  False\n",
       "0       Risk_Type_1_Insulin_Dependent_Diabetes   139   3285\n",
       "1                 Risk_Osteogenesis_Imperfecta     3   3421\n",
       "2                    Risk_Rheumatoid_Arthritis   130   3294\n",
       "3       Risk_Untreated_Chronic_Hyperthyroidism     2   3422\n",
       "4          Risk_Untreated_Chronic_Hypogonadism   127   3297\n",
       "5               Risk_Untreated_Early_Menopause    12   3412\n",
       "6      Risk_Patient_Parent_Fractured_Their_Hip   256   3168\n",
       "7                         Risk_Smoking_Tobacco   644   2780\n",
       "8   Risk_Chronic_Malnutrition_Or_Malabsorption   470   2954\n",
       "9                   Risk_Chronic_Liver_Disease    18   3406\n",
       "10         Risk_Family_History_Of_Osteoporosis   358   3066\n",
       "11                     Risk_Low_Calcium_Intake    42   3382\n",
       "12                Risk_Vitamin_D_Insufficiency  1636   1788\n",
       "13                    Risk_Poor_Health_Frailty   192   3232\n",
       "14                     Risk_Excessive_Thinness    67   3357\n",
       "15              Risk_Hysterectomy_Oophorectomy    54   3370\n",
       "16                    Risk_Estrogen_Deficiency    11   3413\n",
       "17                         Risk_Immobilization    14   3410\n",
       "18                        Risk_Recurring_Falls    69   3355"
      ]
     },
     "execution_count": 65,
     "metadata": {},
     "output_type": "execute_result"
    }
   ],
   "source": [
    "columns_risks = []\n",
    "columns_true = []\n",
    "columns_false = []\n",
    "for column in ds.columns: \n",
    "    if \"Risk\" in column and len(ds.value_counts(column).index) ==2 and ds.value_counts(column).index[0] == 0:\n",
    "        columns_risks.append(column)\n",
    "        columns_true.append(ds.value_counts(column)[1])\n",
    "        columns_false.append(ds.value_counts(column)[0])\n",
    "    elif  \"Risk\" in column: \n",
    "        print(ds.value_counts(column))\n",
    "\n",
    "table = pd.DataFrame({'columns':columns_risks ,'True': columns_true, \"False\": columns_false})    \n",
    "table"
   ]
  },
  {
   "cell_type": "code",
   "execution_count": 66,
   "id": "statewide-montreal",
   "metadata": {},
   "outputs": [
    {
     "data": {
      "text/plain": [
       "<matplotlib.axes._subplots.AxesSubplot at 0x1e6ba869888>"
      ]
     },
     "execution_count": 66,
     "metadata": {},
     "output_type": "execute_result"
    },
    {
     "data": {
      "image/png": "[encoded data removed]",
      "text/plain": [
       "<Figure size 432x288 with 1 Axes>"
      ]
     },
     "metadata": {
      "needs_background": "light"
     },
     "output_type": "display_data"
    }
   ],
   "source": [
    "sns.countplot(cleaned_data['Change_Risk_Segment'])"
   ]
  },
  {
   "cell_type": "markdown",
   "id": "gothic-october",
   "metadata": {},
   "source": [
    "## Outliers"
   ]
  },
  {
   "cell_type": "markdown",
   "id": "immediate-environment",
   "metadata": {},
   "source": [
    "# Delete uncesessary columns"
   ]
  },
  {
   "cell_type": "code",
   "execution_count": 38,
   "id": "coral-reward",
   "metadata": {},
   "outputs": [
    {
     "data": {
      "text/plain": [
       "69"
      ]
     },
     "execution_count": 38,
     "metadata": {},
     "output_type": "execute_result"
    }
   ],
   "source": [
    "len(ds.columns)"
   ]
  },
  {
   "cell_type": "code",
   "execution_count": 39,
   "id": "intense-induction",
   "metadata": {},
   "outputs": [],
   "source": [
    "list_columns_deleted = ['Ptid', 'Gender','Risk_Type_1_Insulin_Dependent_Diabetes','Risk_Osteogenesis_Imperfecta','Risk_Rheumatoid_Arthritis','Risk_Untreated_Chronic_Hyperthyroidism','Risk_Untreated_Chronic_Hypogonadism','Risk_Untreated_Early_Menopause','Risk_Patient_Parent_Fractured_Their_Hip','Risk_Chronic_Liver_Disease','Risk_Low_Calcium_Intake','Risk_Poor_Health_Frailty','Risk_Excessive_Thinness','Risk_Hysterectomy_Oophorectomy','Risk_Estrogen_Deficiency','Risk_Immobilization','Risk_Recurring_Falls']\n"
   ]
  },
  {
   "cell_type": "code",
   "execution_count": 40,
   "id": "official-painting",
   "metadata": {},
   "outputs": [],
   "source": [
    "ds.drop(list_columns_deleted, axis=1, inplace=True)"
   ]
  },
  {
   "cell_type": "code",
   "execution_count": 41,
   "id": "positive-pennsylvania",
   "metadata": {},
   "outputs": [
    {
     "data": {
      "text/plain": [
       "52"
      ]
     },
     "execution_count": 41,
     "metadata": {},
     "output_type": "execute_result"
    }
   ],
   "source": [
    "len(ds.columns)"
   ]
  },
  {
   "cell_type": "markdown",
   "id": "thorough-salad",
   "metadata": {},
   "source": [
    "# Label categorical columns as numerical values"
   ]
  },
  {
   "cell_type": "code",
   "execution_count": 42,
   "id": "finnish-robinson",
   "metadata": {},
   "outputs": [],
   "source": [
    "list_columns_need_labelling = ['Persistency_Flag', 'Race','Ethnicity','Region','Age_Bucket','Ntm_Speciality','Ntm_Specialist_Flag','Ntm_Speciality_Bucket','Risk_Segment_Prior_Ntm', 'Tscore_Bucket_Prior_Ntm', 'Tscore_Bucket_During_Rx', 'Change_T_Score', 'Change_Risk_Segment', 'Adherent_Flag']"
   ]
  },
  {
   "cell_type": "code",
   "execution_count": 43,
   "id": "sustainable-serum",
   "metadata": {},
   "outputs": [],
   "source": [
    "from sklearn.preprocessing import OrdinalEncoder\n",
    "\n",
    "ord_enc = OrdinalEncoder()\n",
    "\n",
    "for column in list_columns_need_labelling:\n",
    "    new_column_name = \"{}_labels\".format(column)\n",
    "    ds[new_column_name] = ord_enc.fit_transform(ds[[column]])"
   ]
  },
  {
   "cell_type": "code",
   "execution_count": 44,
   "id": "economic-compact",
   "metadata": {},
   "outputs": [
    {
     "data": {
      "text/plain": [
       "66"
      ]
     },
     "execution_count": 44,
     "metadata": {},
     "output_type": "execute_result"
    }
   ],
   "source": [
    "len(ds.columns)"
   ]
  },
  {
   "cell_type": "markdown",
   "id": "lightweight-badge",
   "metadata": {},
   "source": [
    "# Delete outliers"
   ]
  },
  {
   "cell_type": "code",
   "execution_count": 45,
   "id": "figured-ultimate",
   "metadata": {},
   "outputs": [],
   "source": [
    "list_columns_contain_outliers = ['Race_labels','Ethnicity_labels','Region_labels', 'Ntm_Speciality_labels', 'Dexa_Freq_During_Rx', 'Adherent_Flag_labels']"
   ]
  },
  {
   "cell_type": "code",
   "execution_count": 46,
   "id": "hidden-split",
   "metadata": {},
   "outputs": [
    {
     "data": {
      "text/plain": [
       "(3424, 66)"
      ]
     },
     "execution_count": 46,
     "metadata": {},
     "output_type": "execute_result"
    }
   ],
   "source": [
    "ds.shape"
   ]
  },
  {
   "cell_type": "code",
   "execution_count": 47,
   "id": "fifty-million",
   "metadata": {
    "scrolled": false
   },
   "outputs": [],
   "source": [
    "for column in list_columns_contain_outliers:\n",
    "    category_counts = ds.value_counts(column)\n",
    "    values_category_counts = list(category_counts)                                          \n",
    "    for element in range(len(values_category_counts)):\n",
    "        if values_category_counts[element] < 100:\n",
    "            ds.drop(ds.loc[ds[column]==category_counts.index[element]].index, inplace=True)"
   ]
  },
  {
   "cell_type": "code",
   "execution_count": 48,
   "id": "nearby-bikini",
   "metadata": {},
   "outputs": [
    {
     "data": {
      "text/plain": [
       "(2004, 66)"
      ]
     },
     "execution_count": 48,
     "metadata": {},
     "output_type": "execute_result"
    }
   ],
   "source": [
    "ds.shape"
   ]
  },
  {
   "cell_type": "markdown",
   "id": "caroline-bones",
   "metadata": {},
   "source": [
    "Save data including labeled columns but also original categories column with no Nan values and no outliers\n",
    "\n",
    "Ready for EDA"
   ]
  },
  {
   "cell_type": "code",
   "execution_count": 106,
   "id": "worldwide-millennium",
   "metadata": {},
   "outputs": [],
   "source": [
    "ds.to_csv('cleaned_data.csv', index = False)"
   ]
  },
  {
   "cell_type": "code",
   "execution_count": 50,
   "id": "worst-major",
   "metadata": {},
   "outputs": [],
   "source": [
    "cleaned_data = pd.read_csv('cleaned_data.csv')"
   ]
  },
  {
   "cell_type": "code",
   "execution_count": 51,
   "id": "orange-viewer",
   "metadata": {},
   "outputs": [
    {
     "data": {
      "text/plain": [
       "<matplotlib.axes._subplots.AxesSubplot at 0x1e6ffee1588>"
      ]
     },
     "execution_count": 51,
     "metadata": {},
     "output_type": "execute_result"
    },
    {
     "data": {
      "image/png": "[encoded data removed]",
      "text/plain": [
       "<Figure size 432x288 with 1 Axes>"
      ]
     },
     "metadata": {
      "needs_background": "light"
     },
     "output_type": "display_data"
    }
   ],
   "source": [
    "sns.countplot(cleaned_data['Count_Of_Risks'])"
   ]
  },
  {
   "cell_type": "code",
   "execution_count": 54,
   "id": "delayed-favorite",
   "metadata": {},
   "outputs": [
    {
     "data": {
      "text/plain": [
       "<matplotlib.axes._subplots.AxesSubplot at 0x1e6fff5fbc8>"
      ]
     },
     "execution_count": 54,
     "metadata": {},
     "output_type": "execute_result"
    },
    {
     "data": {
      "image/png": "[encoded data removed]",
      "text/plain": [
       "<Figure size 432x288 with 1 Axes>"
      ]
     },
     "metadata": {
      "needs_background": "light"
     },
     "output_type": "display_data"
    }
   ],
   "source": [
    "sns.countplot(cleaned_data['Risk_Segment_During_Rx'])"
   ]
  },
  {
   "cell_type": "code",
   "execution_count": 55,
   "id": "individual-apple",
   "metadata": {},
   "outputs": [
    {
     "data": {
      "text/plain": [
       "<matplotlib.axes._subplots.AxesSubplot at 0x1e6fff43108>"
      ]
     },
     "execution_count": 55,
     "metadata": {},
     "output_type": "execute_result"
    },
    {
     "data": {
      "image/png": "[encoded data removed]",
      "text/plain": [
       "<Figure size 432x288 with 1 Axes>"
      ]
     },
     "metadata": {
      "needs_background": "light"
     },
     "output_type": "display_data"
    }
   ],
   "source": [
    "sns.countplot(cleaned_data['Risk_Segment_Prior_Ntm'])"
   ]
  },
  {
   "cell_type": "code",
   "execution_count": null,
   "id": "political-advance",
   "metadata": {},
   "outputs": [],
   "source": []
  },
  {
   "cell_type": "code",
   "execution_count": null,
   "id": "excess-facial",
   "metadata": {},
   "outputs": [],
   "source": []
  },
  {
   "cell_type": "code",
   "execution_count": null,
   "id": "variable-double",
   "metadata": {},
   "outputs": [],
   "source": []
  }
 ],
 "metadata": {
  "kernelspec": {
   "display_name": "Python [conda env:envi] *",
   "language": "python",
   "name": "conda-env-envi-py"
  },
  "language_info": {
   "codemirror_mode": {
    "name": "ipython",
    "version": 3
   },
   "file_extension": ".py",
   "mimetype": "text/x-python",
   "name": "python",
   "nbconvert_exporter": "python",
   "pygments_lexer": "ipython3",
   "version": "3.7.10"
  }
 },
 "nbformat": 4,
 "nbformat_minor": 5
}
