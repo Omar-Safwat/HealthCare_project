{
 "cells": [
  {
   "cell_type": "markdown",
   "id": "controlling-revision",
   "metadata": {},
   "source": [
    "**Project title:** Healthcare - Persistency of a drug<br>\n",
    "**Group name:** DG_team_project_PL-RO-KSA-EGY<br>\n",
    "**Github repo:** [https://github.com/Omar-Safwat/HealthCare_project](https://github.com/Omar-Safwat/HealthCare_project)<br>\n",
    "**Week:** 11<br>\n",
    "\n",
    "\n",
    "#### Team members\n",
    "    \n",
    "| Name | Specialization | Country | Email |\n",
    "| :--- | --- | --- | --- | \n",
    "| Ms. Larisa Popa | Data Science | Romania |Larisapopa4@gmail.com |\n",
    "| Ms. Afshan Hashmi | Data Science | Kingdom of Saudi Arabia | afshanhashmi786@gmail.com |\n",
    "| Mr. Omar Safwat | Data Science | Egypt | omarksafwat@gmail.com |\n",
    "| Mr. Roger Burek-Bors | Data Science | Poland | roger.burek-bors@hotmail.com |"
   ]
  },
  {
   "cell_type": "code",
   "execution_count": 10,
   "id": "polished-rings",
   "metadata": {},
   "outputs": [
    {
     "name": "stdout",
     "output_type": "stream",
     "text": [
      "Libraries loaded\n"
     ]
    }
   ],
   "source": [
    "# Loading necessary libraries\n",
    "import pandas as pd\n",
    "import numpy as np\n",
    "import matplotlib.pyplot as plt\n",
    "import sweetviz as sv\n",
    "import seaborn as sns\n",
    "%matplotlib inline\n",
    "print(\"Libraries loaded\")"
   ]
  },
  {
   "cell_type": "code",
   "execution_count": 11,
   "id": "fifty-habitat",
   "metadata": {},
   "outputs": [
    {
     "name": "stdout",
     "output_type": "stream",
     "text": [
      "Dataset loaded\n"
     ]
    }
   ],
   "source": [
    "# Loading dataset cleaned for EDA\n",
    "df = pd.read_csv('clean_data.csv')\n",
    "print(\"Dataset loaded\")"
   ]
  },
  {
   "cell_type": "code",
   "execution_count": 12,
   "id": "registered-border",
   "metadata": {},
   "outputs": [
    {
     "data": {
      "text/html": [
       "<div>\n",
       "<style scoped>\n",
       "    .dataframe tbody tr th:only-of-type {\n",
       "        vertical-align: middle;\n",
       "    }\n",
       "\n",
       "    .dataframe tbody tr th {\n",
       "        vertical-align: top;\n",
       "    }\n",
       "\n",
       "    .dataframe thead th {\n",
       "        text-align: right;\n",
       "    }\n",
       "</style>\n",
       "<table border=\"1\" class=\"dataframe\">\n",
       "  <thead>\n",
       "    <tr style=\"text-align: right;\">\n",
       "      <th></th>\n",
       "      <th>Ptid</th>\n",
       "      <th>Persistency_Flag</th>\n",
       "      <th>Gender</th>\n",
       "      <th>Race</th>\n",
       "      <th>Ethnicity</th>\n",
       "      <th>Region</th>\n",
       "      <th>Age_Bucket</th>\n",
       "      <th>Ntm_Speciality</th>\n",
       "      <th>Ntm_Specialist_Flag</th>\n",
       "      <th>Ntm_Speciality_Bucket</th>\n",
       "      <th>...</th>\n",
       "      <th>Risk_Family_History_Of_Osteoporosis</th>\n",
       "      <th>Risk_Low_Calcium_Intake</th>\n",
       "      <th>Risk_Vitamin_D_Insufficiency</th>\n",
       "      <th>Risk_Poor_Health_Frailty</th>\n",
       "      <th>Risk_Excessive_Thinness</th>\n",
       "      <th>Risk_Hysterectomy_Oophorectomy</th>\n",
       "      <th>Risk_Estrogen_Deficiency</th>\n",
       "      <th>Risk_Immobilization</th>\n",
       "      <th>Risk_Recurring_Falls</th>\n",
       "      <th>Count_Of_Risks</th>\n",
       "    </tr>\n",
       "  </thead>\n",
       "  <tbody>\n",
       "    <tr>\n",
       "      <th>0</th>\n",
       "      <td>P1</td>\n",
       "      <td>Persistent</td>\n",
       "      <td>Male</td>\n",
       "      <td>Caucasian</td>\n",
       "      <td>Not Hispanic</td>\n",
       "      <td>West</td>\n",
       "      <td>&gt;75</td>\n",
       "      <td>GENERAL PRACTITIONER</td>\n",
       "      <td>Others</td>\n",
       "      <td>OB/GYN/Others/PCP/Unknown</td>\n",
       "      <td>...</td>\n",
       "      <td>0</td>\n",
       "      <td>0</td>\n",
       "      <td>0</td>\n",
       "      <td>0</td>\n",
       "      <td>0</td>\n",
       "      <td>0</td>\n",
       "      <td>0</td>\n",
       "      <td>0</td>\n",
       "      <td>0</td>\n",
       "      <td>0</td>\n",
       "    </tr>\n",
       "    <tr>\n",
       "      <th>1</th>\n",
       "      <td>P2</td>\n",
       "      <td>Non-Persistent</td>\n",
       "      <td>Male</td>\n",
       "      <td>Asian</td>\n",
       "      <td>Not Hispanic</td>\n",
       "      <td>West</td>\n",
       "      <td>55-65</td>\n",
       "      <td>GENERAL PRACTITIONER</td>\n",
       "      <td>Others</td>\n",
       "      <td>OB/GYN/Others/PCP/Unknown</td>\n",
       "      <td>...</td>\n",
       "      <td>0</td>\n",
       "      <td>0</td>\n",
       "      <td>0</td>\n",
       "      <td>0</td>\n",
       "      <td>0</td>\n",
       "      <td>0</td>\n",
       "      <td>0</td>\n",
       "      <td>0</td>\n",
       "      <td>0</td>\n",
       "      <td>0</td>\n",
       "    </tr>\n",
       "    <tr>\n",
       "      <th>2</th>\n",
       "      <td>P3</td>\n",
       "      <td>Non-Persistent</td>\n",
       "      <td>Female</td>\n",
       "      <td>Caucasian</td>\n",
       "      <td>Hispanic</td>\n",
       "      <td>Midwest</td>\n",
       "      <td>65-75</td>\n",
       "      <td>GENERAL PRACTITIONER</td>\n",
       "      <td>Others</td>\n",
       "      <td>OB/GYN/Others/PCP/Unknown</td>\n",
       "      <td>...</td>\n",
       "      <td>0</td>\n",
       "      <td>1</td>\n",
       "      <td>0</td>\n",
       "      <td>0</td>\n",
       "      <td>0</td>\n",
       "      <td>0</td>\n",
       "      <td>0</td>\n",
       "      <td>0</td>\n",
       "      <td>0</td>\n",
       "      <td>2</td>\n",
       "    </tr>\n",
       "    <tr>\n",
       "      <th>3</th>\n",
       "      <td>P4</td>\n",
       "      <td>Non-Persistent</td>\n",
       "      <td>Female</td>\n",
       "      <td>Caucasian</td>\n",
       "      <td>Not Hispanic</td>\n",
       "      <td>Midwest</td>\n",
       "      <td>&gt;75</td>\n",
       "      <td>GENERAL PRACTITIONER</td>\n",
       "      <td>Others</td>\n",
       "      <td>OB/GYN/Others/PCP/Unknown</td>\n",
       "      <td>...</td>\n",
       "      <td>0</td>\n",
       "      <td>0</td>\n",
       "      <td>0</td>\n",
       "      <td>0</td>\n",
       "      <td>0</td>\n",
       "      <td>0</td>\n",
       "      <td>0</td>\n",
       "      <td>0</td>\n",
       "      <td>0</td>\n",
       "      <td>1</td>\n",
       "    </tr>\n",
       "    <tr>\n",
       "      <th>4</th>\n",
       "      <td>P5</td>\n",
       "      <td>Non-Persistent</td>\n",
       "      <td>Female</td>\n",
       "      <td>Caucasian</td>\n",
       "      <td>Not Hispanic</td>\n",
       "      <td>Midwest</td>\n",
       "      <td>&gt;75</td>\n",
       "      <td>GENERAL PRACTITIONER</td>\n",
       "      <td>Others</td>\n",
       "      <td>OB/GYN/Others/PCP/Unknown</td>\n",
       "      <td>...</td>\n",
       "      <td>0</td>\n",
       "      <td>0</td>\n",
       "      <td>0</td>\n",
       "      <td>0</td>\n",
       "      <td>0</td>\n",
       "      <td>0</td>\n",
       "      <td>0</td>\n",
       "      <td>0</td>\n",
       "      <td>0</td>\n",
       "      <td>1</td>\n",
       "    </tr>\n",
       "  </tbody>\n",
       "</table>\n",
       "<p>5 rows × 69 columns</p>\n",
       "</div>"
      ],
      "text/plain": [
       "  Ptid Persistency_Flag  Gender       Race     Ethnicity   Region Age_Bucket  \\\n",
       "0   P1       Persistent    Male  Caucasian  Not Hispanic     West        >75   \n",
       "1   P2   Non-Persistent    Male      Asian  Not Hispanic     West      55-65   \n",
       "2   P3   Non-Persistent  Female  Caucasian      Hispanic  Midwest      65-75   \n",
       "3   P4   Non-Persistent  Female  Caucasian  Not Hispanic  Midwest        >75   \n",
       "4   P5   Non-Persistent  Female  Caucasian  Not Hispanic  Midwest        >75   \n",
       "\n",
       "         Ntm_Speciality Ntm_Specialist_Flag      Ntm_Speciality_Bucket  ...  \\\n",
       "0  GENERAL PRACTITIONER              Others  OB/GYN/Others/PCP/Unknown  ...   \n",
       "1  GENERAL PRACTITIONER              Others  OB/GYN/Others/PCP/Unknown  ...   \n",
       "2  GENERAL PRACTITIONER              Others  OB/GYN/Others/PCP/Unknown  ...   \n",
       "3  GENERAL PRACTITIONER              Others  OB/GYN/Others/PCP/Unknown  ...   \n",
       "4  GENERAL PRACTITIONER              Others  OB/GYN/Others/PCP/Unknown  ...   \n",
       "\n",
       "   Risk_Family_History_Of_Osteoporosis  Risk_Low_Calcium_Intake  \\\n",
       "0                                    0                        0   \n",
       "1                                    0                        0   \n",
       "2                                    0                        1   \n",
       "3                                    0                        0   \n",
       "4                                    0                        0   \n",
       "\n",
       "   Risk_Vitamin_D_Insufficiency  Risk_Poor_Health_Frailty  \\\n",
       "0                             0                         0   \n",
       "1                             0                         0   \n",
       "2                             0                         0   \n",
       "3                             0                         0   \n",
       "4                             0                         0   \n",
       "\n",
       "   Risk_Excessive_Thinness  Risk_Hysterectomy_Oophorectomy  \\\n",
       "0                        0                               0   \n",
       "1                        0                               0   \n",
       "2                        0                               0   \n",
       "3                        0                               0   \n",
       "4                        0                               0   \n",
       "\n",
       "  Risk_Estrogen_Deficiency Risk_Immobilization Risk_Recurring_Falls  \\\n",
       "0                        0                   0                    0   \n",
       "1                        0                   0                    0   \n",
       "2                        0                   0                    0   \n",
       "3                        0                   0                    0   \n",
       "4                        0                   0                    0   \n",
       "\n",
       "  Count_Of_Risks  \n",
       "0              0  \n",
       "1              0  \n",
       "2              2  \n",
       "3              1  \n",
       "4              1  \n",
       "\n",
       "[5 rows x 69 columns]"
      ]
     },
     "execution_count": 12,
     "metadata": {},
     "output_type": "execute_result"
    }
   ],
   "source": [
    "df.head()"
   ]
  },
  {
   "cell_type": "code",
   "execution_count": 13,
   "id": "informal-beads",
   "metadata": {},
   "outputs": [
    {
     "data": {
      "text/plain": [
       "(3424, 69)"
      ]
     },
     "execution_count": 13,
     "metadata": {},
     "output_type": "execute_result"
    }
   ],
   "source": [
    "df.shape"
   ]
  },
  {
   "cell_type": "markdown",
   "id": "august-restriction",
   "metadata": {},
   "source": [
    "**Hypothesis no 1: Since pulmonary NTM disease diagnosis requires a high-resolution CT scan of the lungs, features related to dexa scan (i.e. Dexa_Freq_During_Rx, Dexa_During_Rx) should contribute to drug persistency classification?**"
   ]
  },
  {
   "cell_type": "code",
   "execution_count": 14,
   "id": "upset-gender",
   "metadata": {},
   "outputs": [
    {
     "data": {
      "text/html": [
       "<div>\n",
       "<style scoped>\n",
       "    .dataframe tbody tr th:only-of-type {\n",
       "        vertical-align: middle;\n",
       "    }\n",
       "\n",
       "    .dataframe tbody tr th {\n",
       "        vertical-align: top;\n",
       "    }\n",
       "\n",
       "    .dataframe thead th {\n",
       "        text-align: right;\n",
       "    }\n",
       "</style>\n",
       "<table border=\"1\" class=\"dataframe\">\n",
       "  <thead>\n",
       "    <tr style=\"text-align: right;\">\n",
       "      <th></th>\n",
       "      <th>Dexa_Freq_During_Rx</th>\n",
       "      <th>Dexa_During_Rx</th>\n",
       "    </tr>\n",
       "  </thead>\n",
       "  <tbody>\n",
       "    <tr>\n",
       "      <th>0</th>\n",
       "      <td>0</td>\n",
       "      <td>0</td>\n",
       "    </tr>\n",
       "    <tr>\n",
       "      <th>1</th>\n",
       "      <td>0</td>\n",
       "      <td>0</td>\n",
       "    </tr>\n",
       "    <tr>\n",
       "      <th>2</th>\n",
       "      <td>0</td>\n",
       "      <td>0</td>\n",
       "    </tr>\n",
       "    <tr>\n",
       "      <th>3</th>\n",
       "      <td>0</td>\n",
       "      <td>0</td>\n",
       "    </tr>\n",
       "    <tr>\n",
       "      <th>4</th>\n",
       "      <td>0</td>\n",
       "      <td>0</td>\n",
       "    </tr>\n",
       "    <tr>\n",
       "      <th>...</th>\n",
       "      <td>...</td>\n",
       "      <td>...</td>\n",
       "    </tr>\n",
       "    <tr>\n",
       "      <th>3419</th>\n",
       "      <td>0</td>\n",
       "      <td>0</td>\n",
       "    </tr>\n",
       "    <tr>\n",
       "      <th>3420</th>\n",
       "      <td>0</td>\n",
       "      <td>0</td>\n",
       "    </tr>\n",
       "    <tr>\n",
       "      <th>3421</th>\n",
       "      <td>7</td>\n",
       "      <td>1</td>\n",
       "    </tr>\n",
       "    <tr>\n",
       "      <th>3422</th>\n",
       "      <td>0</td>\n",
       "      <td>0</td>\n",
       "    </tr>\n",
       "    <tr>\n",
       "      <th>3423</th>\n",
       "      <td>0</td>\n",
       "      <td>0</td>\n",
       "    </tr>\n",
       "  </tbody>\n",
       "</table>\n",
       "<p>3424 rows × 2 columns</p>\n",
       "</div>"
      ],
      "text/plain": [
       "      Dexa_Freq_During_Rx  Dexa_During_Rx\n",
       "0                       0               0\n",
       "1                       0               0\n",
       "2                       0               0\n",
       "3                       0               0\n",
       "4                       0               0\n",
       "...                   ...             ...\n",
       "3419                    0               0\n",
       "3420                    0               0\n",
       "3421                    7               1\n",
       "3422                    0               0\n",
       "3423                    0               0\n",
       "\n",
       "[3424 rows x 2 columns]"
      ]
     },
     "execution_count": 14,
     "metadata": {},
     "output_type": "execute_result"
    }
   ],
   "source": [
    "df_dexa = df[['Dexa_Freq_During_Rx', 'Dexa_During_Rx']]\n",
    "df_dexa"
   ]
  },
  {
   "cell_type": "code",
   "execution_count": 15,
   "id": "standing-strengthening",
   "metadata": {},
   "outputs": [
    {
     "data": {
      "text/html": [
       "<div>\n",
       "<style scoped>\n",
       "    .dataframe tbody tr th:only-of-type {\n",
       "        vertical-align: middle;\n",
       "    }\n",
       "\n",
       "    .dataframe tbody tr th {\n",
       "        vertical-align: top;\n",
       "    }\n",
       "\n",
       "    .dataframe thead th {\n",
       "        text-align: right;\n",
       "    }\n",
       "</style>\n",
       "<table border=\"1\" class=\"dataframe\">\n",
       "  <thead>\n",
       "    <tr style=\"text-align: right;\">\n",
       "      <th></th>\n",
       "      <th>Dexa_During_Rx</th>\n",
       "    </tr>\n",
       "    <tr>\n",
       "      <th>Dexa_Freq_During_Rx</th>\n",
       "      <th></th>\n",
       "    </tr>\n",
       "  </thead>\n",
       "  <tbody>\n",
       "    <tr>\n",
       "      <th>0</th>\n",
       "      <td>2488</td>\n",
       "    </tr>\n",
       "    <tr>\n",
       "      <th>1</th>\n",
       "      <td>24</td>\n",
       "    </tr>\n",
       "    <tr>\n",
       "      <th>2</th>\n",
       "      <td>24</td>\n",
       "    </tr>\n",
       "    <tr>\n",
       "      <th>3</th>\n",
       "      <td>46</td>\n",
       "    </tr>\n",
       "    <tr>\n",
       "      <th>4</th>\n",
       "      <td>68</td>\n",
       "    </tr>\n",
       "    <tr>\n",
       "      <th>5</th>\n",
       "      <td>114</td>\n",
       "    </tr>\n",
       "    <tr>\n",
       "      <th>6</th>\n",
       "      <td>107</td>\n",
       "    </tr>\n",
       "    <tr>\n",
       "      <th>7</th>\n",
       "      <td>93</td>\n",
       "    </tr>\n",
       "    <tr>\n",
       "      <th>8</th>\n",
       "      <td>71</td>\n",
       "    </tr>\n",
       "    <tr>\n",
       "      <th>9</th>\n",
       "      <td>32</td>\n",
       "    </tr>\n",
       "    <tr>\n",
       "      <th>10</th>\n",
       "      <td>55</td>\n",
       "    </tr>\n",
       "    <tr>\n",
       "      <th>11</th>\n",
       "      <td>30</td>\n",
       "    </tr>\n",
       "    <tr>\n",
       "      <th>12</th>\n",
       "      <td>52</td>\n",
       "    </tr>\n",
       "    <tr>\n",
       "      <th>13</th>\n",
       "      <td>19</td>\n",
       "    </tr>\n",
       "    <tr>\n",
       "      <th>14</th>\n",
       "      <td>38</td>\n",
       "    </tr>\n",
       "    <tr>\n",
       "      <th>15</th>\n",
       "      <td>9</td>\n",
       "    </tr>\n",
       "    <tr>\n",
       "      <th>16</th>\n",
       "      <td>14</td>\n",
       "    </tr>\n",
       "    <tr>\n",
       "      <th>17</th>\n",
       "      <td>7</td>\n",
       "    </tr>\n",
       "    <tr>\n",
       "      <th>18</th>\n",
       "      <td>14</td>\n",
       "    </tr>\n",
       "    <tr>\n",
       "      <th>19</th>\n",
       "      <td>3</td>\n",
       "    </tr>\n",
       "    <tr>\n",
       "      <th>20</th>\n",
       "      <td>15</td>\n",
       "    </tr>\n",
       "    <tr>\n",
       "      <th>21</th>\n",
       "      <td>7</td>\n",
       "    </tr>\n",
       "    <tr>\n",
       "      <th>22</th>\n",
       "      <td>13</td>\n",
       "    </tr>\n",
       "    <tr>\n",
       "      <th>23</th>\n",
       "      <td>1</td>\n",
       "    </tr>\n",
       "    <tr>\n",
       "      <th>24</th>\n",
       "      <td>10</td>\n",
       "    </tr>\n",
       "    <tr>\n",
       "      <th>25</th>\n",
       "      <td>2</td>\n",
       "    </tr>\n",
       "    <tr>\n",
       "      <th>26</th>\n",
       "      <td>10</td>\n",
       "    </tr>\n",
       "    <tr>\n",
       "      <th>27</th>\n",
       "      <td>1</td>\n",
       "    </tr>\n",
       "    <tr>\n",
       "      <th>28</th>\n",
       "      <td>7</td>\n",
       "    </tr>\n",
       "    <tr>\n",
       "      <th>29</th>\n",
       "      <td>1</td>\n",
       "    </tr>\n",
       "    <tr>\n",
       "      <th>30</th>\n",
       "      <td>7</td>\n",
       "    </tr>\n",
       "    <tr>\n",
       "      <th>32</th>\n",
       "      <td>3</td>\n",
       "    </tr>\n",
       "    <tr>\n",
       "      <th>33</th>\n",
       "      <td>1</td>\n",
       "    </tr>\n",
       "    <tr>\n",
       "      <th>34</th>\n",
       "      <td>3</td>\n",
       "    </tr>\n",
       "    <tr>\n",
       "      <th>35</th>\n",
       "      <td>1</td>\n",
       "    </tr>\n",
       "    <tr>\n",
       "      <th>36</th>\n",
       "      <td>5</td>\n",
       "    </tr>\n",
       "    <tr>\n",
       "      <th>37</th>\n",
       "      <td>1</td>\n",
       "    </tr>\n",
       "    <tr>\n",
       "      <th>38</th>\n",
       "      <td>1</td>\n",
       "    </tr>\n",
       "    <tr>\n",
       "      <th>39</th>\n",
       "      <td>2</td>\n",
       "    </tr>\n",
       "    <tr>\n",
       "      <th>40</th>\n",
       "      <td>1</td>\n",
       "    </tr>\n",
       "    <tr>\n",
       "      <th>42</th>\n",
       "      <td>3</td>\n",
       "    </tr>\n",
       "    <tr>\n",
       "      <th>44</th>\n",
       "      <td>1</td>\n",
       "    </tr>\n",
       "    <tr>\n",
       "      <th>45</th>\n",
       "      <td>1</td>\n",
       "    </tr>\n",
       "    <tr>\n",
       "      <th>48</th>\n",
       "      <td>2</td>\n",
       "    </tr>\n",
       "    <tr>\n",
       "      <th>50</th>\n",
       "      <td>1</td>\n",
       "    </tr>\n",
       "    <tr>\n",
       "      <th>52</th>\n",
       "      <td>2</td>\n",
       "    </tr>\n",
       "    <tr>\n",
       "      <th>54</th>\n",
       "      <td>1</td>\n",
       "    </tr>\n",
       "    <tr>\n",
       "      <th>58</th>\n",
       "      <td>2</td>\n",
       "    </tr>\n",
       "    <tr>\n",
       "      <th>66</th>\n",
       "      <td>1</td>\n",
       "    </tr>\n",
       "    <tr>\n",
       "      <th>68</th>\n",
       "      <td>1</td>\n",
       "    </tr>\n",
       "    <tr>\n",
       "      <th>69</th>\n",
       "      <td>1</td>\n",
       "    </tr>\n",
       "    <tr>\n",
       "      <th>72</th>\n",
       "      <td>1</td>\n",
       "    </tr>\n",
       "    <tr>\n",
       "      <th>81</th>\n",
       "      <td>1</td>\n",
       "    </tr>\n",
       "    <tr>\n",
       "      <th>88</th>\n",
       "      <td>2</td>\n",
       "    </tr>\n",
       "    <tr>\n",
       "      <th>108</th>\n",
       "      <td>1</td>\n",
       "    </tr>\n",
       "    <tr>\n",
       "      <th>110</th>\n",
       "      <td>1</td>\n",
       "    </tr>\n",
       "    <tr>\n",
       "      <th>118</th>\n",
       "      <td>1</td>\n",
       "    </tr>\n",
       "    <tr>\n",
       "      <th>146</th>\n",
       "      <td>1</td>\n",
       "    </tr>\n",
       "  </tbody>\n",
       "</table>\n",
       "</div>"
      ],
      "text/plain": [
       "                     Dexa_During_Rx\n",
       "Dexa_Freq_During_Rx                \n",
       "0                              2488\n",
       "1                                24\n",
       "2                                24\n",
       "3                                46\n",
       "4                                68\n",
       "5                               114\n",
       "6                               107\n",
       "7                                93\n",
       "8                                71\n",
       "9                                32\n",
       "10                               55\n",
       "11                               30\n",
       "12                               52\n",
       "13                               19\n",
       "14                               38\n",
       "15                                9\n",
       "16                               14\n",
       "17                                7\n",
       "18                               14\n",
       "19                                3\n",
       "20                               15\n",
       "21                                7\n",
       "22                               13\n",
       "23                                1\n",
       "24                               10\n",
       "25                                2\n",
       "26                               10\n",
       "27                                1\n",
       "28                                7\n",
       "29                                1\n",
       "30                                7\n",
       "32                                3\n",
       "33                                1\n",
       "34                                3\n",
       "35                                1\n",
       "36                                5\n",
       "37                                1\n",
       "38                                1\n",
       "39                                2\n",
       "40                                1\n",
       "42                                3\n",
       "44                                1\n",
       "45                                1\n",
       "48                                2\n",
       "50                                1\n",
       "52                                2\n",
       "54                                1\n",
       "58                                2\n",
       "66                                1\n",
       "68                                1\n",
       "69                                1\n",
       "72                                1\n",
       "81                                1\n",
       "88                                2\n",
       "108                               1\n",
       "110                               1\n",
       "118                               1\n",
       "146                               1"
      ]
     },
     "execution_count": 15,
     "metadata": {},
     "output_type": "execute_result"
    }
   ],
   "source": [
    "df_dexa.groupby(['Dexa_Freq_During_Rx']).count()"
   ]
  },
  {
   "cell_type": "code",
   "execution_count": 16,
   "id": "african-hydrogen",
   "metadata": {},
   "outputs": [
    {
     "data": {
      "text/html": [
       "<div>\n",
       "<style scoped>\n",
       "    .dataframe tbody tr th:only-of-type {\n",
       "        vertical-align: middle;\n",
       "    }\n",
       "\n",
       "    .dataframe tbody tr th {\n",
       "        vertical-align: top;\n",
       "    }\n",
       "\n",
       "    .dataframe thead th {\n",
       "        text-align: right;\n",
       "    }\n",
       "</style>\n",
       "<table border=\"1\" class=\"dataframe\">\n",
       "  <thead>\n",
       "    <tr style=\"text-align: right;\">\n",
       "      <th></th>\n",
       "      <th>Dexa_Freq_During_Rx</th>\n",
       "    </tr>\n",
       "    <tr>\n",
       "      <th>Dexa_During_Rx</th>\n",
       "      <th></th>\n",
       "    </tr>\n",
       "  </thead>\n",
       "  <tbody>\n",
       "    <tr>\n",
       "      <th>0</th>\n",
       "      <td>2488</td>\n",
       "    </tr>\n",
       "    <tr>\n",
       "      <th>1</th>\n",
       "      <td>936</td>\n",
       "    </tr>\n",
       "  </tbody>\n",
       "</table>\n",
       "</div>"
      ],
      "text/plain": [
       "                Dexa_Freq_During_Rx\n",
       "Dexa_During_Rx                     \n",
       "0                              2488\n",
       "1                               936"
      ]
     },
     "execution_count": 16,
     "metadata": {},
     "output_type": "execute_result"
    }
   ],
   "source": [
    "df_dexa.groupby(['Dexa_During_Rx']).count()"
   ]
  },
  {
   "cell_type": "markdown",
   "id": "uniform-colleague",
   "metadata": {},
   "source": [
    "Unfortunately, after removing outliers remaining data related to dexa scan is useless for modelling. Both features Dexa_Freq_During_Rx and Dexa_During_Rx give 100% negative. These features should not contribute to modeling."
   ]
  },
  {
   "cell_type": "markdown",
   "id": "amino-hydrogen",
   "metadata": {},
   "source": [
    "**Hypothesis no 2: Features associated with “Risk” in data set are very important classifier of drug persistency?**"
   ]
  },
  {
   "cell_type": "code",
   "execution_count": 17,
   "id": "worse-graphic",
   "metadata": {},
   "outputs": [
    {
     "data": {
      "text/plain": [
       "Index(['Ptid', 'Persistency_Flag', 'Gender', 'Race', 'Ethnicity', 'Region',\n",
       "       'Age_Bucket', 'Ntm_Speciality', 'Ntm_Specialist_Flag',\n",
       "       'Ntm_Speciality_Bucket', 'Gluco_Record_Prior_Ntm',\n",
       "       'Gluco_Record_During_Rx', 'Dexa_Freq_During_Rx', 'Dexa_During_Rx',\n",
       "       'Frag_Frac_Prior_Ntm', 'Frag_Frac_During_Rx', 'Risk_Segment_Prior_Ntm',\n",
       "       'Tscore_Bucket_Prior_Ntm', 'Risk_Segment_During_Rx',\n",
       "       'Tscore_Bucket_During_Rx', 'Change_T_Score', 'Change_Risk_Segment',\n",
       "       'Adherent_Flag', 'Idn_Indicator', 'Injectable_Experience_During_Rx',\n",
       "       'Comorb_Encounter_For_Screening_For_Malignant_Neoplasms',\n",
       "       'Comorb_Encounter_For_Immunization',\n",
       "       'Comorb_Encntr_For_General_Exam_W_O_Complaint,_Susp_Or_Reprtd_Dx',\n",
       "       'Comorb_Vitamin_D_Deficiency',\n",
       "       'Comorb_Other_Joint_Disorder_Not_Elsewhere_Classified',\n",
       "       'Comorb_Encntr_For_Oth_Sp_Exam_W_O_Complaint_Suspected_Or_Reprtd_Dx',\n",
       "       'Comorb_Long_Term_Current_Drug_Therapy', 'Comorb_Dorsalgia',\n",
       "       'Comorb_Personal_History_Of_Other_Diseases_And_Conditions',\n",
       "       'Comorb_Other_Disorders_Of_Bone_Density_And_Structure',\n",
       "       'Comorb_Disorders_of_lipoprotein_metabolism_and_other_lipidemias',\n",
       "       'Comorb_Osteoporosis_without_current_pathological_fracture',\n",
       "       'Comorb_Personal_history_of_malignant_neoplasm',\n",
       "       'Comorb_Gastro_esophageal_reflux_disease',\n",
       "       'Concom_Cholesterol_And_Triglyceride_Regulating_Preparations',\n",
       "       'Concom_Narcotics', 'Concom_Systemic_Corticosteroids_Plain',\n",
       "       'Concom_Anti_Depressants_And_Mood_Stabilisers',\n",
       "       'Concom_Fluoroquinolones', 'Concom_Cephalosporins',\n",
       "       'Concom_Macrolides_And_Similar_Types',\n",
       "       'Concom_Broad_Spectrum_Penicillins', 'Concom_Anaesthetics_General',\n",
       "       'Concom_Viral_Vaccines', 'Risk_Type_1_Insulin_Dependent_Diabetes',\n",
       "       'Risk_Osteogenesis_Imperfecta', 'Risk_Rheumatoid_Arthritis',\n",
       "       'Risk_Untreated_Chronic_Hyperthyroidism',\n",
       "       'Risk_Untreated_Chronic_Hypogonadism', 'Risk_Untreated_Early_Menopause',\n",
       "       'Risk_Patient_Parent_Fractured_Their_Hip', 'Risk_Smoking_Tobacco',\n",
       "       'Risk_Chronic_Malnutrition_Or_Malabsorption',\n",
       "       'Risk_Chronic_Liver_Disease', 'Risk_Family_History_Of_Osteoporosis',\n",
       "       'Risk_Low_Calcium_Intake', 'Risk_Vitamin_D_Insufficiency',\n",
       "       'Risk_Poor_Health_Frailty', 'Risk_Excessive_Thinness',\n",
       "       'Risk_Hysterectomy_Oophorectomy', 'Risk_Estrogen_Deficiency',\n",
       "       'Risk_Immobilization', 'Risk_Recurring_Falls', 'Count_Of_Risks'],\n",
       "      dtype='object')"
      ]
     },
     "execution_count": 17,
     "metadata": {},
     "output_type": "execute_result"
    }
   ],
   "source": [
    "df.columns"
   ]
  },
  {
   "cell_type": "code",
   "execution_count": 27,
   "id": "precious-bikini",
   "metadata": {},
   "outputs": [
    {
     "data": {
      "text/html": [
       "<div>\n",
       "<style scoped>\n",
       "    .dataframe tbody tr th:only-of-type {\n",
       "        vertical-align: middle;\n",
       "    }\n",
       "\n",
       "    .dataframe tbody tr th {\n",
       "        vertical-align: top;\n",
       "    }\n",
       "\n",
       "    .dataframe thead th {\n",
       "        text-align: right;\n",
       "    }\n",
       "</style>\n",
       "<table border=\"1\" class=\"dataframe\">\n",
       "  <thead>\n",
       "    <tr style=\"text-align: right;\">\n",
       "      <th></th>\n",
       "      <th>Persistency_Flag</th>\n",
       "      <th>Risk_Segment_Prior_Ntm</th>\n",
       "      <th>Risk_Segment_During_Rx</th>\n",
       "      <th>Change_Risk_Segment</th>\n",
       "      <th>Risk_Smoking_Tobacco</th>\n",
       "      <th>Risk_Chronic_Malnutrition_Or_Malabsorption</th>\n",
       "      <th>Risk_Family_History_Of_Osteoporosis</th>\n",
       "      <th>Risk_Vitamin_D_Insufficiency</th>\n",
       "      <th>Count_Of_Risks</th>\n",
       "    </tr>\n",
       "  </thead>\n",
       "  <tbody>\n",
       "    <tr>\n",
       "      <th>0</th>\n",
       "      <td>Persistent</td>\n",
       "      <td>VLR_LR</td>\n",
       "      <td>VLR_LR</td>\n",
       "      <td>No change</td>\n",
       "      <td>0</td>\n",
       "      <td>0</td>\n",
       "      <td>0</td>\n",
       "      <td>0</td>\n",
       "      <td>0</td>\n",
       "    </tr>\n",
       "    <tr>\n",
       "      <th>1</th>\n",
       "      <td>Non-Persistent</td>\n",
       "      <td>VLR_LR</td>\n",
       "      <td>VLR_LR</td>\n",
       "      <td>No change</td>\n",
       "      <td>0</td>\n",
       "      <td>0</td>\n",
       "      <td>0</td>\n",
       "      <td>0</td>\n",
       "      <td>0</td>\n",
       "    </tr>\n",
       "    <tr>\n",
       "      <th>2</th>\n",
       "      <td>Non-Persistent</td>\n",
       "      <td>HR_VHR</td>\n",
       "      <td>HR_VHR</td>\n",
       "      <td>No change</td>\n",
       "      <td>0</td>\n",
       "      <td>0</td>\n",
       "      <td>0</td>\n",
       "      <td>0</td>\n",
       "      <td>2</td>\n",
       "    </tr>\n",
       "    <tr>\n",
       "      <th>3</th>\n",
       "      <td>Non-Persistent</td>\n",
       "      <td>HR_VHR</td>\n",
       "      <td>HR_VHR</td>\n",
       "      <td>No change</td>\n",
       "      <td>1</td>\n",
       "      <td>0</td>\n",
       "      <td>0</td>\n",
       "      <td>0</td>\n",
       "      <td>1</td>\n",
       "    </tr>\n",
       "    <tr>\n",
       "      <th>4</th>\n",
       "      <td>Non-Persistent</td>\n",
       "      <td>HR_VHR</td>\n",
       "      <td>HR_VHR</td>\n",
       "      <td>No change</td>\n",
       "      <td>1</td>\n",
       "      <td>0</td>\n",
       "      <td>0</td>\n",
       "      <td>0</td>\n",
       "      <td>1</td>\n",
       "    </tr>\n",
       "    <tr>\n",
       "      <th>...</th>\n",
       "      <td>...</td>\n",
       "      <td>...</td>\n",
       "      <td>...</td>\n",
       "      <td>...</td>\n",
       "      <td>...</td>\n",
       "      <td>...</td>\n",
       "      <td>...</td>\n",
       "      <td>...</td>\n",
       "      <td>...</td>\n",
       "    </tr>\n",
       "    <tr>\n",
       "      <th>3419</th>\n",
       "      <td>Persistent</td>\n",
       "      <td>VLR_LR</td>\n",
       "      <td>VLR_LR</td>\n",
       "      <td>No change</td>\n",
       "      <td>0</td>\n",
       "      <td>0</td>\n",
       "      <td>0</td>\n",
       "      <td>1</td>\n",
       "      <td>1</td>\n",
       "    </tr>\n",
       "    <tr>\n",
       "      <th>3420</th>\n",
       "      <td>Persistent</td>\n",
       "      <td>HR_VHR</td>\n",
       "      <td>HR_VHR</td>\n",
       "      <td>No change</td>\n",
       "      <td>0</td>\n",
       "      <td>0</td>\n",
       "      <td>0</td>\n",
       "      <td>0</td>\n",
       "      <td>0</td>\n",
       "    </tr>\n",
       "    <tr>\n",
       "      <th>3421</th>\n",
       "      <td>Persistent</td>\n",
       "      <td>VLR_LR</td>\n",
       "      <td>HR_VHR</td>\n",
       "      <td>Worsened</td>\n",
       "      <td>0</td>\n",
       "      <td>0</td>\n",
       "      <td>0</td>\n",
       "      <td>1</td>\n",
       "      <td>1</td>\n",
       "    </tr>\n",
       "    <tr>\n",
       "      <th>3422</th>\n",
       "      <td>Non-Persistent</td>\n",
       "      <td>VLR_LR</td>\n",
       "      <td>VLR_LR</td>\n",
       "      <td>Worsened</td>\n",
       "      <td>0</td>\n",
       "      <td>0</td>\n",
       "      <td>0</td>\n",
       "      <td>0</td>\n",
       "      <td>0</td>\n",
       "    </tr>\n",
       "    <tr>\n",
       "      <th>3423</th>\n",
       "      <td>Non-Persistent</td>\n",
       "      <td>VLR_LR</td>\n",
       "      <td>VLR_LR</td>\n",
       "      <td>No change</td>\n",
       "      <td>0</td>\n",
       "      <td>0</td>\n",
       "      <td>0</td>\n",
       "      <td>1</td>\n",
       "      <td>1</td>\n",
       "    </tr>\n",
       "  </tbody>\n",
       "</table>\n",
       "<p>3424 rows × 9 columns</p>\n",
       "</div>"
      ],
      "text/plain": [
       "     Persistency_Flag Risk_Segment_Prior_Ntm Risk_Segment_During_Rx  \\\n",
       "0          Persistent                 VLR_LR                 VLR_LR   \n",
       "1      Non-Persistent                 VLR_LR                 VLR_LR   \n",
       "2      Non-Persistent                 HR_VHR                 HR_VHR   \n",
       "3      Non-Persistent                 HR_VHR                 HR_VHR   \n",
       "4      Non-Persistent                 HR_VHR                 HR_VHR   \n",
       "...               ...                    ...                    ...   \n",
       "3419       Persistent                 VLR_LR                 VLR_LR   \n",
       "3420       Persistent                 HR_VHR                 HR_VHR   \n",
       "3421       Persistent                 VLR_LR                 HR_VHR   \n",
       "3422   Non-Persistent                 VLR_LR                 VLR_LR   \n",
       "3423   Non-Persistent                 VLR_LR                 VLR_LR   \n",
       "\n",
       "     Change_Risk_Segment  Risk_Smoking_Tobacco  \\\n",
       "0              No change                     0   \n",
       "1              No change                     0   \n",
       "2              No change                     0   \n",
       "3              No change                     1   \n",
       "4              No change                     1   \n",
       "...                  ...                   ...   \n",
       "3419           No change                     0   \n",
       "3420           No change                     0   \n",
       "3421            Worsened                     0   \n",
       "3422            Worsened                     0   \n",
       "3423           No change                     0   \n",
       "\n",
       "      Risk_Chronic_Malnutrition_Or_Malabsorption  \\\n",
       "0                                              0   \n",
       "1                                              0   \n",
       "2                                              0   \n",
       "3                                              0   \n",
       "4                                              0   \n",
       "...                                          ...   \n",
       "3419                                           0   \n",
       "3420                                           0   \n",
       "3421                                           0   \n",
       "3422                                           0   \n",
       "3423                                           0   \n",
       "\n",
       "      Risk_Family_History_Of_Osteoporosis  Risk_Vitamin_D_Insufficiency  \\\n",
       "0                                       0                             0   \n",
       "1                                       0                             0   \n",
       "2                                       0                             0   \n",
       "3                                       0                             0   \n",
       "4                                       0                             0   \n",
       "...                                   ...                           ...   \n",
       "3419                                    0                             1   \n",
       "3420                                    0                             0   \n",
       "3421                                    0                             1   \n",
       "3422                                    0                             0   \n",
       "3423                                    0                             1   \n",
       "\n",
       "      Count_Of_Risks  \n",
       "0                  0  \n",
       "1                  0  \n",
       "2                  2  \n",
       "3                  1  \n",
       "4                  1  \n",
       "...              ...  \n",
       "3419               1  \n",
       "3420               0  \n",
       "3421               1  \n",
       "3422               0  \n",
       "3423               1  \n",
       "\n",
       "[3424 rows x 9 columns]"
      ]
     },
     "execution_count": 27,
     "metadata": {},
     "output_type": "execute_result"
    }
   ],
   "source": [
    "df_risks = df[['Persistency_Flag', 'Risk_Segment_Prior_Ntm', 'Risk_Segment_During_Rx',\n",
    "       'Change_Risk_Segment', 'Risk_Smoking_Tobacco',\n",
    "       'Risk_Chronic_Malnutrition_Or_Malabsorption',\n",
    "       'Risk_Family_History_Of_Osteoporosis', 'Risk_Vitamin_D_Insufficiency',\n",
    "       'Count_Of_Risks']]\n",
    "df_risks"
   ]
  },
  {
   "cell_type": "code",
   "execution_count": 28,
   "id": "religious-control",
   "metadata": {},
   "outputs": [
    {
     "data": {
      "text/html": [
       "<div>\n",
       "<style scoped>\n",
       "    .dataframe tbody tr th:only-of-type {\n",
       "        vertical-align: middle;\n",
       "    }\n",
       "\n",
       "    .dataframe tbody tr th {\n",
       "        vertical-align: top;\n",
       "    }\n",
       "\n",
       "    .dataframe thead th {\n",
       "        text-align: right;\n",
       "    }\n",
       "</style>\n",
       "<table border=\"1\" class=\"dataframe\">\n",
       "  <thead>\n",
       "    <tr style=\"text-align: right;\">\n",
       "      <th></th>\n",
       "      <th>Risk_Segment_Prior_Ntm</th>\n",
       "      <th>Risk_Segment_During_Rx</th>\n",
       "    </tr>\n",
       "  </thead>\n",
       "  <tbody>\n",
       "    <tr>\n",
       "      <th>0</th>\n",
       "      <td>VLR_LR</td>\n",
       "      <td>VLR_LR</td>\n",
       "    </tr>\n",
       "    <tr>\n",
       "      <th>1</th>\n",
       "      <td>VLR_LR</td>\n",
       "      <td>VLR_LR</td>\n",
       "    </tr>\n",
       "    <tr>\n",
       "      <th>2</th>\n",
       "      <td>HR_VHR</td>\n",
       "      <td>HR_VHR</td>\n",
       "    </tr>\n",
       "    <tr>\n",
       "      <th>3</th>\n",
       "      <td>HR_VHR</td>\n",
       "      <td>HR_VHR</td>\n",
       "    </tr>\n",
       "    <tr>\n",
       "      <th>4</th>\n",
       "      <td>HR_VHR</td>\n",
       "      <td>HR_VHR</td>\n",
       "    </tr>\n",
       "    <tr>\n",
       "      <th>...</th>\n",
       "      <td>...</td>\n",
       "      <td>...</td>\n",
       "    </tr>\n",
       "    <tr>\n",
       "      <th>3419</th>\n",
       "      <td>VLR_LR</td>\n",
       "      <td>VLR_LR</td>\n",
       "    </tr>\n",
       "    <tr>\n",
       "      <th>3420</th>\n",
       "      <td>HR_VHR</td>\n",
       "      <td>HR_VHR</td>\n",
       "    </tr>\n",
       "    <tr>\n",
       "      <th>3421</th>\n",
       "      <td>VLR_LR</td>\n",
       "      <td>HR_VHR</td>\n",
       "    </tr>\n",
       "    <tr>\n",
       "      <th>3422</th>\n",
       "      <td>VLR_LR</td>\n",
       "      <td>VLR_LR</td>\n",
       "    </tr>\n",
       "    <tr>\n",
       "      <th>3423</th>\n",
       "      <td>VLR_LR</td>\n",
       "      <td>VLR_LR</td>\n",
       "    </tr>\n",
       "  </tbody>\n",
       "</table>\n",
       "<p>3424 rows × 2 columns</p>\n",
       "</div>"
      ],
      "text/plain": [
       "     Risk_Segment_Prior_Ntm Risk_Segment_During_Rx\n",
       "0                    VLR_LR                 VLR_LR\n",
       "1                    VLR_LR                 VLR_LR\n",
       "2                    HR_VHR                 HR_VHR\n",
       "3                    HR_VHR                 HR_VHR\n",
       "4                    HR_VHR                 HR_VHR\n",
       "...                     ...                    ...\n",
       "3419                 VLR_LR                 VLR_LR\n",
       "3420                 HR_VHR                 HR_VHR\n",
       "3421                 VLR_LR                 HR_VHR\n",
       "3422                 VLR_LR                 VLR_LR\n",
       "3423                 VLR_LR                 VLR_LR\n",
       "\n",
       "[3424 rows x 2 columns]"
      ]
     },
     "execution_count": 28,
     "metadata": {},
     "output_type": "execute_result"
    }
   ],
   "source": [
    "df_risks2 = df_risks[['Risk_Segment_Prior_Ntm', 'Risk_Segment_During_Rx']]\n",
    "df_risks2"
   ]
  },
  {
   "cell_type": "code",
   "execution_count": 29,
   "id": "proper-power",
   "metadata": {
    "scrolled": true
   },
   "outputs": [
    {
     "name": "stderr",
     "output_type": "stream",
     "text": [
      "<ipython-input-29-3e34765b03a9>:1: SettingWithCopyWarning: \n",
      "A value is trying to be set on a copy of a slice from a DataFrame.\n",
      "Try using .loc[row_indexer,col_indexer] = value instead\n",
      "\n",
      "See the caveats in the documentation: https://pandas.pydata.org/pandas-docs/stable/user_guide/indexing.html#returning-a-view-versus-a-copy\n",
      "  df_risks2['comparison'] = np.where(df_risks2['Risk_Segment_Prior_Ntm'] == df_risks2['Risk_Segment_During_Rx'], 1, 0)\n"
     ]
    }
   ],
   "source": [
    "df_risks2['comparison'] = np.where(df_risks2['Risk_Segment_Prior_Ntm'] == df_risks2['Risk_Segment_During_Rx'], 1, 0)"
   ]
  },
  {
   "cell_type": "code",
   "execution_count": 30,
   "id": "moved-calculator",
   "metadata": {
    "scrolled": true
   },
   "outputs": [
    {
     "data": {
      "text/html": [
       "<div>\n",
       "<style scoped>\n",
       "    .dataframe tbody tr th:only-of-type {\n",
       "        vertical-align: middle;\n",
       "    }\n",
       "\n",
       "    .dataframe tbody tr th {\n",
       "        vertical-align: top;\n",
       "    }\n",
       "\n",
       "    .dataframe thead th {\n",
       "        text-align: right;\n",
       "    }\n",
       "</style>\n",
       "<table border=\"1\" class=\"dataframe\">\n",
       "  <thead>\n",
       "    <tr style=\"text-align: right;\">\n",
       "      <th></th>\n",
       "      <th>Risk_Segment_Prior_Ntm</th>\n",
       "      <th>Risk_Segment_During_Rx</th>\n",
       "    </tr>\n",
       "    <tr>\n",
       "      <th>comparison</th>\n",
       "      <th></th>\n",
       "      <th></th>\n",
       "    </tr>\n",
       "  </thead>\n",
       "  <tbody>\n",
       "    <tr>\n",
       "      <th>0</th>\n",
       "      <td>153</td>\n",
       "      <td>153</td>\n",
       "    </tr>\n",
       "    <tr>\n",
       "      <th>1</th>\n",
       "      <td>3271</td>\n",
       "      <td>3271</td>\n",
       "    </tr>\n",
       "  </tbody>\n",
       "</table>\n",
       "</div>"
      ],
      "text/plain": [
       "            Risk_Segment_Prior_Ntm  Risk_Segment_During_Rx\n",
       "comparison                                                \n",
       "0                              153                     153\n",
       "1                             3271                    3271"
      ]
     },
     "execution_count": 30,
     "metadata": {},
     "output_type": "execute_result"
    }
   ],
   "source": [
    "df_risks2.groupby(['comparison']).count()"
   ]
  },
  {
   "cell_type": "markdown",
   "id": "helpful-screw",
   "metadata": {},
   "source": [
    "Features: \"Risk_Segment_Prior_Ntm\" and \"Risk_Segment_During_Rx\" have nearly same values. Difference between this 2 features is around 3%. Therefore suggestion is to take only one of this features for modeling."
   ]
  },
  {
   "cell_type": "code",
   "execution_count": 31,
   "id": "smoking-bulletin",
   "metadata": {},
   "outputs": [
    {
     "data": {
      "text/html": [
       "<div>\n",
       "<style scoped>\n",
       "    .dataframe tbody tr th:only-of-type {\n",
       "        vertical-align: middle;\n",
       "    }\n",
       "\n",
       "    .dataframe tbody tr th {\n",
       "        vertical-align: top;\n",
       "    }\n",
       "\n",
       "    .dataframe thead th {\n",
       "        text-align: right;\n",
       "    }\n",
       "</style>\n",
       "<table border=\"1\" class=\"dataframe\">\n",
       "  <thead>\n",
       "    <tr style=\"text-align: right;\">\n",
       "      <th></th>\n",
       "      <th>Risk_Smoking_Tobacco</th>\n",
       "      <th>Risk_Chronic_Malnutrition_Or_Malabsorption</th>\n",
       "      <th>Risk_Family_History_Of_Osteoporosis</th>\n",
       "      <th>Risk_Vitamin_D_Insufficiency</th>\n",
       "      <th>Count_Of_Risks</th>\n",
       "    </tr>\n",
       "    <tr>\n",
       "      <th>Persistency_Flag</th>\n",
       "      <th></th>\n",
       "      <th></th>\n",
       "      <th></th>\n",
       "      <th></th>\n",
       "      <th></th>\n",
       "    </tr>\n",
       "  </thead>\n",
       "  <tbody>\n",
       "    <tr>\n",
       "      <th>Non-Persistent</th>\n",
       "      <td>338</td>\n",
       "      <td>265</td>\n",
       "      <td>225</td>\n",
       "      <td>954</td>\n",
       "      <td>2497</td>\n",
       "    </tr>\n",
       "    <tr>\n",
       "      <th>Persistent</th>\n",
       "      <td>306</td>\n",
       "      <td>205</td>\n",
       "      <td>133</td>\n",
       "      <td>682</td>\n",
       "      <td>1747</td>\n",
       "    </tr>\n",
       "  </tbody>\n",
       "</table>\n",
       "</div>"
      ],
      "text/plain": [
       "                  Risk_Smoking_Tobacco  \\\n",
       "Persistency_Flag                         \n",
       "Non-Persistent                     338   \n",
       "Persistent                         306   \n",
       "\n",
       "                  Risk_Chronic_Malnutrition_Or_Malabsorption  \\\n",
       "Persistency_Flag                                               \n",
       "Non-Persistent                                           265   \n",
       "Persistent                                               205   \n",
       "\n",
       "                  Risk_Family_History_Of_Osteoporosis  \\\n",
       "Persistency_Flag                                        \n",
       "Non-Persistent                                    225   \n",
       "Persistent                                        133   \n",
       "\n",
       "                  Risk_Vitamin_D_Insufficiency  Count_Of_Risks  \n",
       "Persistency_Flag                                                \n",
       "Non-Persistent                             954            2497  \n",
       "Persistent                                 682            1747  "
      ]
     },
     "execution_count": 31,
     "metadata": {},
     "output_type": "execute_result"
    }
   ],
   "source": [
    "df_risks3 = df_risks.groupby(['Persistency_Flag']).sum()\n",
    "df_risks3"
   ]
  },
  {
   "cell_type": "code",
   "execution_count": 32,
   "id": "graphic-partner",
   "metadata": {},
   "outputs": [
    {
     "data": {
      "text/plain": [
       "<AxesSubplot:ylabel='Persistency_Flag'>"
      ]
     },
     "execution_count": 32,
     "metadata": {},
     "output_type": "execute_result"
    },
    {
     "data": {
      "image/png": "[encoded data removed]",
      "text/plain": [
       "<Figure size 1440x720 with 1 Axes>"
      ]
     },
     "metadata": {
      "needs_background": "light"
     },
     "output_type": "display_data"
    }
   ],
   "source": [
    "df_risks3.plot.barh(figsize=(20,10))"
   ]
  },
  {
   "cell_type": "markdown",
   "id": "adjacent-beads",
   "metadata": {},
   "source": [
    "For modeling should be taken all of the features from df_risks apart “Risk_Segment_During_Rx_labels”."
   ]
  },
  {
   "cell_type": "markdown",
   "id": "chemical-quebec",
   "metadata": {},
   "source": [
    "**Hypothesis no 3: Effects of Demographics on persistency of drugs?**"
   ]
  },
  {
   "cell_type": "code",
   "execution_count": 33,
   "id": "nasty-executive",
   "metadata": {},
   "outputs": [
    {
     "data": {
      "text/plain": [
       "<AxesSubplot:xlabel='Age_Bucket', ylabel='count'>"
      ]
     },
     "execution_count": 33,
     "metadata": {},
     "output_type": "execute_result"
    },
    {
     "data": {
      "image/png": "[encoded data removed]",
      "text/plain": [
       "<Figure size 432x288 with 1 Axes>"
      ]
     },
     "metadata": {},
     "output_type": "display_data"
    }
   ],
   "source": [
    "sns.set_style('whitegrid')\n",
    "sns.countplot(x='Age_Bucket',hue='Persistency_Flag',data=df,palette='RdBu_r')"
   ]
  },
  {
   "cell_type": "markdown",
   "id": "cardiovascular-aquarium",
   "metadata": {},
   "source": [
    "#### Result Older patients are more persistent"
   ]
  },
  {
   "cell_type": "code",
   "execution_count": 34,
   "id": "committed-exclusion",
   "metadata": {},
   "outputs": [
    {
     "data": {
      "text/plain": [
       "<AxesSubplot:xlabel='Region', ylabel='count'>"
      ]
     },
     "execution_count": 34,
     "metadata": {},
     "output_type": "execute_result"
    },
    {
     "data": {
      "image/png": "[encoded data removed]",
      "text/plain": [
       "<Figure size 432x288 with 1 Axes>"
      ]
     },
     "metadata": {},
     "output_type": "display_data"
    }
   ],
   "source": [
    "sns.set_style('whitegrid')\n",
    "sns.countplot(x='Region',hue='Persistency_Flag',data=df,palette='RdBu_r')"
   ]
  },
  {
   "cell_type": "markdown",
   "id": "going-information",
   "metadata": {},
   "source": [
    "#### Result: People from south is more Persistent followed by midwest\n",
    "\n",
    "#### IDNs are large healthcare delivery organizations that either own or manage multiple points of patient care - from hospitals to physician practices to long term care facilities, and everything in between. "
   ]
  },
  {
   "cell_type": "code",
   "execution_count": 35,
   "id": "amino-account",
   "metadata": {},
   "outputs": [
    {
     "data": {
      "text/plain": [
       "<AxesSubplot:xlabel='Idn_Indicator', ylabel='count'>"
      ]
     },
     "execution_count": 35,
     "metadata": {},
     "output_type": "execute_result"
    },
    {
     "data": {
      "image/png": "[encoded data removed]",
      "text/plain": [
       "<Figure size 432x288 with 1 Axes>"
      ]
     },
     "metadata": {},
     "output_type": "display_data"
    }
   ],
   "source": [
    "sns.set_style('whitegrid')\n",
    "sns.countplot(x='Idn_Indicator',hue='Persistency_Flag',data=df,palette='RdBu_r')"
   ]
  },
  {
   "cell_type": "markdown",
   "id": "million-plymouth",
   "metadata": {},
   "source": [
    "#### Result: Patients associated with IDN are more persistent as compared to others"
   ]
  },
  {
   "cell_type": "markdown",
   "id": "closing-height",
   "metadata": {},
   "source": [
    "**Hypothesis no 4: Effects of provider attributes on the persistency?**"
   ]
  },
  {
   "cell_type": "code",
   "execution_count": 36,
   "id": "moral-equipment",
   "metadata": {},
   "outputs": [
    {
     "data": {
      "text/plain": [
       "<AxesSubplot:xlabel='Ntm_Speciality', ylabel='count'>"
      ]
     },
     "execution_count": 36,
     "metadata": {},
     "output_type": "execute_result"
    },
    {
     "data": {
      "image/png": "[encoded data removed]",
      "text/plain": [
       "<Figure size 432x288 with 1 Axes>"
      ]
     },
     "metadata": {},
     "output_type": "display_data"
    }
   ],
   "source": [
    "sns.set_style('whitegrid')\n",
    "sns.countplot(x='Ntm_Speciality',hue='Persistency_Flag',data=df,palette='RdBu_r')"
   ]
  },
  {
   "cell_type": "markdown",
   "id": "reduced-sugar",
   "metadata": {},
   "source": [
    "#### Visualizing as percentage"
   ]
  },
  {
   "cell_type": "code",
   "execution_count": 37,
   "id": "straight-burns",
   "metadata": {},
   "outputs": [
    {
     "data": {
      "text/plain": [
       "<seaborn.axisgrid.FacetGrid at 0x24e760bb760>"
      ]
     },
     "execution_count": 37,
     "metadata": {},
     "output_type": "execute_result"
    },
    {
     "data": {
      "image/png": "[encoded data removed]",
      "text/plain": [
       "<Figure size 462.75x360 with 1 Axes>"
      ]
     },
     "metadata": {},
     "output_type": "display_data"
    }
   ],
   "source": [
    "x,y = 'Ntm_Speciality', 'Persistency_Flag'\n",
    "\n",
    "(df\n",
    ".groupby(x)[y]\n",
    ".value_counts(normalize=True)\n",
    ".mul(100)\n",
    ".rename('percent')\n",
    ".reset_index()\n",
    ".pipe((sns.catplot,'data'), x=x,y='percent',hue=y,kind='bar'))"
   ]
  },
  {
   "cell_type": "markdown",
   "id": "stopped-religious",
   "metadata": {},
   "source": [
    "#### Result 2: Oncology followed by Endocrinology drugs are more persistent¶\n",
    "\n",
    "#### In general terms Cancer patients are more persistent in taking medicines followed by diabetes and thyroid patient"
   ]
  },
  {
   "cell_type": "markdown",
   "id": "executed-federal",
   "metadata": {},
   "source": [
    "**Hypothesis no 5: Effects of Glucose record During Rx?**"
   ]
  },
  {
   "cell_type": "code",
   "execution_count": 38,
   "id": "handled-burden",
   "metadata": {},
   "outputs": [
    {
     "data": {
      "text/plain": [
       "<AxesSubplot:xlabel='Gluco_Record_During_Rx', ylabel='count'>"
      ]
     },
     "execution_count": 38,
     "metadata": {},
     "output_type": "execute_result"
    },
    {
     "data": {
      "image/png": "[encoded data removed]",
      "text/plain": [
       "<Figure size 432x288 with 1 Axes>"
      ]
     },
     "metadata": {},
     "output_type": "display_data"
    }
   ],
   "source": [
    "sns.set_style('whitegrid')\n",
    "sns.countplot(x='Gluco_Record_During_Rx',hue='Persistency_Flag',data=df,palette='RdBu_r')"
   ]
  },
  {
   "cell_type": "code",
   "execution_count": 39,
   "id": "still-fifth",
   "metadata": {},
   "outputs": [
    {
     "data": {
      "text/plain": [
       "<seaborn.axisgrid.FacetGrid at 0x24e766f0af0>"
      ]
     },
     "execution_count": 39,
     "metadata": {},
     "output_type": "execute_result"
    },
    {
     "data": {
      "image/png": "[encoded data removed]",
      "text/plain": [
       "<Figure size 462.75x360 with 1 Axes>"
      ]
     },
     "metadata": {},
     "output_type": "display_data"
    }
   ],
   "source": [
    "x,y = 'Gluco_Record_During_Rx', 'Persistency_Flag'\n",
    "\n",
    "(df\n",
    ".groupby(x)[y]\n",
    ".value_counts(normalize=True)\n",
    ".mul(100)\n",
    ".rename('percent')\n",
    ".reset_index()\n",
    ".pipe((sns.catplot,'data'), x=x,y='percent',hue=y,kind='bar'))"
   ]
  },
  {
   "cell_type": "markdown",
   "id": "original-attack",
   "metadata": {},
   "source": [
    "#### Result When glucose record is considered during RX persistency increases from 18 to 38 %"
   ]
  },
  {
   "cell_type": "markdown",
   "id": "obvious-uzbekistan",
   "metadata": {},
   "source": [
    "**Hypothesis no 7: Most frequent risks?**"
   ]
  },
  {
   "cell_type": "code",
   "execution_count": 40,
   "id": "regional-flashing",
   "metadata": {},
   "outputs": [
    {
     "name": "stderr",
     "output_type": "stream",
     "text": [
      "D:\\ProgramData\\Miniconda3\\lib\\site-packages\\seaborn\\_decorators.py:36: FutureWarning: Pass the following variable as a keyword arg: x. From version 0.12, the only valid positional argument will be `data`, and passing other arguments without an explicit keyword will result in an error or misinterpretation.\n",
      "  warnings.warn(\n"
     ]
    },
    {
     "data": {
      "text/plain": [
       "<AxesSubplot:xlabel='Count_Of_Risks', ylabel='count'>"
      ]
     },
     "execution_count": 40,
     "metadata": {},
     "output_type": "execute_result"
    },
    {
     "data": {
      "image/png": "[encoded data removed]",
      "text/plain": [
       "<Figure size 432x288 with 1 Axes>"
      ]
     },
     "metadata": {},
     "output_type": "display_data"
    }
   ],
   "source": [
    "sns.countplot(df['Count_Of_Risks'])"
   ]
  },
  {
   "cell_type": "code",
   "execution_count": 41,
   "id": "verbal-accordance",
   "metadata": {},
   "outputs": [
    {
     "name": "stderr",
     "output_type": "stream",
     "text": [
      "D:\\ProgramData\\Miniconda3\\lib\\site-packages\\seaborn\\_decorators.py:36: FutureWarning: Pass the following variable as a keyword arg: x. From version 0.12, the only valid positional argument will be `data`, and passing other arguments without an explicit keyword will result in an error or misinterpretation.\n",
      "  warnings.warn(\n"
     ]
    },
    {
     "data": {
      "text/plain": [
       "<AxesSubplot:xlabel='Risk_Segment_During_Rx', ylabel='count'>"
      ]
     },
     "execution_count": 41,
     "metadata": {},
     "output_type": "execute_result"
    },
    {
     "data": {
      "image/png": "[encoded data removed]",
      "text/plain": [
       "<Figure size 432x288 with 1 Axes>"
      ]
     },
     "metadata": {},
     "output_type": "display_data"
    }
   ],
   "source": [
    "sns.countplot(df['Risk_Segment_During_Rx'])"
   ]
  },
  {
   "cell_type": "code",
   "execution_count": 42,
   "id": "religious-democrat",
   "metadata": {},
   "outputs": [
    {
     "name": "stderr",
     "output_type": "stream",
     "text": [
      "D:\\ProgramData\\Miniconda3\\lib\\site-packages\\seaborn\\_decorators.py:36: FutureWarning: Pass the following variable as a keyword arg: x. From version 0.12, the only valid positional argument will be `data`, and passing other arguments without an explicit keyword will result in an error or misinterpretation.\n",
      "  warnings.warn(\n"
     ]
    },
    {
     "data": {
      "text/plain": [
       "<AxesSubplot:xlabel='Risk_Segment_Prior_Ntm', ylabel='count'>"
      ]
     },
     "execution_count": 42,
     "metadata": {},
     "output_type": "execute_result"
    },
    {
     "data": {
      "image/png": "[encoded data removed]",
      "text/plain": [
       "<Figure size 432x288 with 1 Axes>"
      ]
     },
     "metadata": {},
     "output_type": "display_data"
    }
   ],
   "source": [
    "sns.countplot(df['Risk_Segment_Prior_Ntm'])"
   ]
  },
  {
   "cell_type": "markdown",
   "id": "9b3609e1",
   "metadata": {},
   "source": [
    "## Investigating the effect of Comorbidities on Persistence"
   ]
  },
  {
   "cell_type": "code",
   "execution_count": 43,
   "id": "a82fd5eb",
   "metadata": {
    "scrolled": true
   },
   "outputs": [
    {
     "data": {
      "text/plain": [
       "Adherent        3251\n",
       "Non-Adherent     173\n",
       "Name: Adherent_Flag, dtype: int64"
      ]
     },
     "execution_count": 43,
     "metadata": {},
     "output_type": "execute_result"
    }
   ],
   "source": [
    "#Preparing dataset for EDA\n",
    "df_eda_omar = df.filter(regex='^Comorb*|^Adherent_Flag$|^Persistency_Flag$').copy()\n",
    "#Restoring all columns back to object type.\n",
    "for col in df_eda_omar.columns[2:]:\n",
    "    df_eda_omar[col] = df_eda_omar[col].map({0:'N', 1:'Y'})\n",
    "df_eda_omar['Adherent_Flag'].value_counts()"
   ]
  },
  {
   "cell_type": "code",
   "execution_count": 44,
   "id": "7a23f7dc",
   "metadata": {
    "scrolled": true
   },
   "outputs": [
    {
     "name": "stdout",
     "output_type": "stream",
     "text": [
      "Investigating Comorbidity and Adherence accounts for 16 variables out of 67\n"
     ]
    }
   ],
   "source": [
    "#Filter data variables related to comorbidity\n",
    "print(f'Investigating Comorbidity and Adherence accounts for {df_eda_omar.shape[1]} variables out of 67')\n",
    "columns_map = {}\n",
    "columns_decode = {}\n",
    "for col in df_eda_omar.columns:\n",
    "    if str(df_eda_omar[col].dtype) == 'object':  #If it's a categorical variable\n",
    "        val_map = {}\n",
    "        val_decode = {}\n",
    "        mapped_value = 0\n",
    "        for idx, val in enumerate(df_eda_omar[col].unique()): \n",
    "            not_na = True\n",
    "            if type(val) == float:\n",
    "                not_na = (np.isnan(val) != True)\n",
    "            if  not_na == True: #If the value is not NaN add it to the mapping\n",
    "                val_map[val] = mapped_value \n",
    "                val_decode[mapped_value] = val\n",
    "                mapped_value += 1\n",
    "            columns_map[col] = val_map\n",
    "            columns_decode[col] = val_decode"
   ]
  },
  {
   "cell_type": "code",
   "execution_count": 45,
   "id": "5fc404bf",
   "metadata": {
    "scrolled": true
   },
   "outputs": [
    {
     "data": {
      "text/html": [
       "<div>\n",
       "<style scoped>\n",
       "    .dataframe tbody tr th:only-of-type {\n",
       "        vertical-align: middle;\n",
       "    }\n",
       "\n",
       "    .dataframe tbody tr th {\n",
       "        vertical-align: top;\n",
       "    }\n",
       "\n",
       "    .dataframe thead th {\n",
       "        text-align: right;\n",
       "    }\n",
       "</style>\n",
       "<table border=\"1\" class=\"dataframe\">\n",
       "  <thead>\n",
       "    <tr style=\"text-align: right;\">\n",
       "      <th></th>\n",
       "      <th>Persistency_Flag</th>\n",
       "      <th>Adherent_Flag</th>\n",
       "      <th>Comorb_Encounter_For_Screening_For_Malignant_Neoplasms</th>\n",
       "      <th>Comorb_Encounter_For_Immunization</th>\n",
       "      <th>Comorb_Encntr_For_General_Exam_W_O_Complaint,_Susp_Or_Reprtd_Dx</th>\n",
       "      <th>Comorb_Vitamin_D_Deficiency</th>\n",
       "      <th>Comorb_Other_Joint_Disorder_Not_Elsewhere_Classified</th>\n",
       "      <th>Comorb_Encntr_For_Oth_Sp_Exam_W_O_Complaint_Suspected_Or_Reprtd_Dx</th>\n",
       "      <th>Comorb_Long_Term_Current_Drug_Therapy</th>\n",
       "      <th>Comorb_Dorsalgia</th>\n",
       "      <th>Comorb_Personal_History_Of_Other_Diseases_And_Conditions</th>\n",
       "      <th>Comorb_Other_Disorders_Of_Bone_Density_And_Structure</th>\n",
       "      <th>Comorb_Disorders_of_lipoprotein_metabolism_and_other_lipidemias</th>\n",
       "      <th>Comorb_Osteoporosis_without_current_pathological_fracture</th>\n",
       "      <th>Comorb_Personal_history_of_malignant_neoplasm</th>\n",
       "      <th>Comorb_Gastro_esophageal_reflux_disease</th>\n",
       "    </tr>\n",
       "  </thead>\n",
       "  <tbody>\n",
       "    <tr>\n",
       "      <th>count</th>\n",
       "      <td>3424</td>\n",
       "      <td>3424</td>\n",
       "      <td>3424</td>\n",
       "      <td>3424</td>\n",
       "      <td>3424</td>\n",
       "      <td>3424</td>\n",
       "      <td>3424</td>\n",
       "      <td>3424</td>\n",
       "      <td>3424</td>\n",
       "      <td>3424</td>\n",
       "      <td>3424</td>\n",
       "      <td>3424</td>\n",
       "      <td>3424</td>\n",
       "      <td>3424</td>\n",
       "      <td>3424</td>\n",
       "      <td>3424</td>\n",
       "    </tr>\n",
       "    <tr>\n",
       "      <th>unique</th>\n",
       "      <td>2</td>\n",
       "      <td>2</td>\n",
       "      <td>2</td>\n",
       "      <td>2</td>\n",
       "      <td>2</td>\n",
       "      <td>2</td>\n",
       "      <td>2</td>\n",
       "      <td>2</td>\n",
       "      <td>2</td>\n",
       "      <td>2</td>\n",
       "      <td>2</td>\n",
       "      <td>2</td>\n",
       "      <td>2</td>\n",
       "      <td>2</td>\n",
       "      <td>2</td>\n",
       "      <td>2</td>\n",
       "    </tr>\n",
       "    <tr>\n",
       "      <th>top</th>\n",
       "      <td>Non-Persistent</td>\n",
       "      <td>Adherent</td>\n",
       "      <td>N</td>\n",
       "      <td>N</td>\n",
       "      <td>N</td>\n",
       "      <td>N</td>\n",
       "      <td>N</td>\n",
       "      <td>N</td>\n",
       "      <td>N</td>\n",
       "      <td>N</td>\n",
       "      <td>N</td>\n",
       "      <td>N</td>\n",
       "      <td>Y</td>\n",
       "      <td>N</td>\n",
       "      <td>N</td>\n",
       "      <td>N</td>\n",
       "    </tr>\n",
       "    <tr>\n",
       "      <th>freq</th>\n",
       "      <td>2135</td>\n",
       "      <td>3251</td>\n",
       "      <td>1891</td>\n",
       "      <td>1911</td>\n",
       "      <td>2072</td>\n",
       "      <td>2331</td>\n",
       "      <td>2425</td>\n",
       "      <td>2633</td>\n",
       "      <td>2607</td>\n",
       "      <td>2645</td>\n",
       "      <td>2747</td>\n",
       "      <td>2906</td>\n",
       "      <td>1765</td>\n",
       "      <td>2507</td>\n",
       "      <td>2775</td>\n",
       "      <td>2794</td>\n",
       "    </tr>\n",
       "    <tr>\n",
       "      <th>percent</th>\n",
       "      <td>62.353972</td>\n",
       "      <td>94.94743</td>\n",
       "      <td>55.227804</td>\n",
       "      <td>55.811916</td>\n",
       "      <td>60.514019</td>\n",
       "      <td>68.078271</td>\n",
       "      <td>70.823598</td>\n",
       "      <td>76.898364</td>\n",
       "      <td>76.139019</td>\n",
       "      <td>77.248832</td>\n",
       "      <td>80.227804</td>\n",
       "      <td>84.871495</td>\n",
       "      <td>51.547897</td>\n",
       "      <td>73.218458</td>\n",
       "      <td>81.045561</td>\n",
       "      <td>81.600467</td>\n",
       "    </tr>\n",
       "  </tbody>\n",
       "</table>\n",
       "</div>"
      ],
      "text/plain": [
       "        Persistency_Flag Adherent_Flag  \\\n",
       "count               3424          3424   \n",
       "unique                 2             2   \n",
       "top       Non-Persistent      Adherent   \n",
       "freq                2135          3251   \n",
       "percent        62.353972      94.94743   \n",
       "\n",
       "        Comorb_Encounter_For_Screening_For_Malignant_Neoplasms  \\\n",
       "count                                                 3424       \n",
       "unique                                                   2       \n",
       "top                                                      N       \n",
       "freq                                                  1891       \n",
       "percent                                          55.227804       \n",
       "\n",
       "        Comorb_Encounter_For_Immunization  \\\n",
       "count                                3424   \n",
       "unique                                  2   \n",
       "top                                     N   \n",
       "freq                                 1911   \n",
       "percent                         55.811916   \n",
       "\n",
       "        Comorb_Encntr_For_General_Exam_W_O_Complaint,_Susp_Or_Reprtd_Dx  \\\n",
       "count                                                 3424                \n",
       "unique                                                   2                \n",
       "top                                                      N                \n",
       "freq                                                  2072                \n",
       "percent                                          60.514019                \n",
       "\n",
       "        Comorb_Vitamin_D_Deficiency  \\\n",
       "count                          3424   \n",
       "unique                            2   \n",
       "top                               N   \n",
       "freq                           2331   \n",
       "percent                   68.078271   \n",
       "\n",
       "        Comorb_Other_Joint_Disorder_Not_Elsewhere_Classified  \\\n",
       "count                                                 3424     \n",
       "unique                                                   2     \n",
       "top                                                      N     \n",
       "freq                                                  2425     \n",
       "percent                                          70.823598     \n",
       "\n",
       "        Comorb_Encntr_For_Oth_Sp_Exam_W_O_Complaint_Suspected_Or_Reprtd_Dx  \\\n",
       "count                                                 3424                   \n",
       "unique                                                   2                   \n",
       "top                                                      N                   \n",
       "freq                                                  2633                   \n",
       "percent                                          76.898364                   \n",
       "\n",
       "        Comorb_Long_Term_Current_Drug_Therapy Comorb_Dorsalgia  \\\n",
       "count                                    3424             3424   \n",
       "unique                                      2                2   \n",
       "top                                         N                N   \n",
       "freq                                     2607             2645   \n",
       "percent                             76.139019        77.248832   \n",
       "\n",
       "        Comorb_Personal_History_Of_Other_Diseases_And_Conditions  \\\n",
       "count                                                 3424         \n",
       "unique                                                   2         \n",
       "top                                                      N         \n",
       "freq                                                  2747         \n",
       "percent                                          80.227804         \n",
       "\n",
       "        Comorb_Other_Disorders_Of_Bone_Density_And_Structure  \\\n",
       "count                                                 3424     \n",
       "unique                                                   2     \n",
       "top                                                      N     \n",
       "freq                                                  2906     \n",
       "percent                                          84.871495     \n",
       "\n",
       "        Comorb_Disorders_of_lipoprotein_metabolism_and_other_lipidemias  \\\n",
       "count                                                 3424                \n",
       "unique                                                   2                \n",
       "top                                                      Y                \n",
       "freq                                                  1765                \n",
       "percent                                          51.547897                \n",
       "\n",
       "        Comorb_Osteoporosis_without_current_pathological_fracture  \\\n",
       "count                                                 3424          \n",
       "unique                                                   2          \n",
       "top                                                      N          \n",
       "freq                                                  2507          \n",
       "percent                                          73.218458          \n",
       "\n",
       "        Comorb_Personal_history_of_malignant_neoplasm  \\\n",
       "count                                            3424   \n",
       "unique                                              2   \n",
       "top                                                 N   \n",
       "freq                                             2775   \n",
       "percent                                     81.045561   \n",
       "\n",
       "        Comorb_Gastro_esophageal_reflux_disease  \n",
       "count                                      3424  \n",
       "unique                                        2  \n",
       "top                                           N  \n",
       "freq                                       2794  \n",
       "percent                               81.600467  "
      ]
     },
     "execution_count": 45,
     "metadata": {},
     "output_type": "execute_result"
    }
   ],
   "source": [
    "#Descriptive analysis\n",
    "pd.concat([df_eda_omar.describe(), \n",
    "           pd.DataFrame({'percent': df_eda_omar.describe().loc['freq'] * 100 / len(df_eda_omar)}).transpose()])"
   ]
  },
  {
   "cell_type": "code",
   "execution_count": 46,
   "id": "39cfa577",
   "metadata": {},
   "outputs": [
    {
     "data": {
      "text/plain": [
       "<matplotlib.legend.Legend at 0x24e76263df0>"
      ]
     },
     "execution_count": 46,
     "metadata": {},
     "output_type": "execute_result"
    },
    {
     "data": {
      "image/png": "[encoded data removed]",
      "text/plain": [
       "<Figure size 432x288 with 1 Axes>"
      ]
     },
     "metadata": {},
     "output_type": "display_data"
    }
   ],
   "source": [
    "#Renaming columns to shorter names with initials\n",
    "import string\n",
    "table = str.maketrans('', '', string.ascii_lowercase)\n",
    "new_names = [i.translate(table).rstrip('_') for i in df_eda_omar.columns]\n",
    "new_names_encode = dict(zip(df_eda_omar.columns, new_names))\n",
    "new_names_decode = dict(zip(new_names, df_eda_omar.columns))\n",
    "df_eda_omar = df_eda_omar.rename(columns=new_names_encode)\n",
    "\n",
    "#Plotting counts of persistent and non persistent flags for \"Y\" labeled comorb\n",
    "fig1, ax1 = plt.subplots()\n",
    "\n",
    "Y_persist_height=[]\n",
    "N_persist_height=[]\n",
    "#Calculate Counts of persistent flags for each variable\n",
    "for col_name, col_val in df_eda_omar.loc[:, 'C_E_F_S_F_M_N':].iteritems():\n",
    "    #Persistent flag count is scaled by the count of Yes flags.\n",
    "    Y_persist_height.append(pd.crosstab(index=df_eda_omar['P_F'], columns=col_val).loc['Persistent', 'Y'] / col_val.value_counts()['Y'])\n",
    "    #Persistent flag count is scaled by the count of No flags.\n",
    "    N_persist_height.append(pd.crosstab(index=df_eda_omar['P_F'], columns=col_val).loc['Persistent', 'N'] / col_val.value_counts()['N']) \n",
    "\n",
    "x = np.arange(len(df_eda_omar.columns)-2)\n",
    "ax1.bar(x=x-0.35/2, height=Y_persist_height, width=0.3, label='Y', color='deeppink') \n",
    "ax1.bar(x=x+0.35/2, height=N_persist_height, width=0.3, label='N', color='darkorange')\n",
    "\n",
    "ax1.set_title('Persistent Flag counts per Y/N for each variable')\n",
    "ax1.set_xticks(x)\n",
    "ax1.set_ylabel('Ratio')\n",
    "ax1.set_xlabel('Variable Number')\n",
    "plt.legend(loc='best')"
   ]
  },
  {
   "cell_type": "code",
   "execution_count": 47,
   "id": "8f72ed67",
   "metadata": {
    "scrolled": true
   },
   "outputs": [
    {
     "name": "stdout",
     "output_type": "stream",
     "text": [
      "Testing Dependency of Persistency on  Comorb_Encounter_For_Screening_For_Malignant_Neoplasms\n",
      "Dependent (reject H0)\n",
      "\n",
      "Testing Dependency of Persistency on  Comorb_Encounter_For_Immunization\n",
      "Dependent (reject H0)\n",
      "\n",
      "Testing Dependency of Persistency on  Comorb_Encntr_For_General_Exam_W_O_Complaint,_Susp_Or_Reprtd_Dx\n",
      "Dependent (reject H0)\n",
      "\n",
      "Testing Dependency of Persistency on  Comorb_Vitamin_D_Deficiency\n",
      "Dependent (reject H0)\n",
      "\n",
      "Testing Dependency of Persistency on  Comorb_Other_Joint_Disorder_Not_Elsewhere_Classified\n",
      "Dependent (reject H0)\n",
      "\n",
      "Testing Dependency of Persistency on  Comorb_Encntr_For_Oth_Sp_Exam_W_O_Complaint_Suspected_Or_Reprtd_Dx\n",
      "Dependent (reject H0)\n",
      "\n",
      "Testing Dependency of Persistency on  Comorb_Long_Term_Current_Drug_Therapy\n",
      "Dependent (reject H0)\n",
      "\n",
      "Testing Dependency of Persistency on  Comorb_Disorders_of_lipoprotein_metabolism_and_other_lipidemias\n",
      "Dependent (reject H0)\n",
      "\n",
      "Testing Dependency of Persistency on  Comorb_Personal_History_Of_Other_Diseases_And_Conditions\n",
      "Dependent (reject H0)\n",
      "\n",
      "Testing Dependency of Persistency on  Comorb_Other_Disorders_Of_Bone_Density_And_Structure\n",
      "Dependent (reject H0)\n",
      "\n",
      "Testing Dependency of Persistency on  Comorb_Disorders_of_lipoprotein_metabolism_and_other_lipidemias\n",
      "Dependent (reject H0)\n",
      "\n",
      "Testing Dependency of Persistency on  Comorb_Osteoporosis_without_current_pathological_fracture\n",
      "Dependent (reject H0)\n",
      "\n",
      "Testing Dependency of Persistency on  Comorb_Personal_history_of_malignant_neoplasm\n",
      "Dependent (reject H0)\n",
      "\n",
      "Testing Dependency of Persistency on  Comorb_Gastro_esophageal_reflux_disease\n",
      "Dependent (reject H0)\n",
      "\n"
     ]
    }
   ],
   "source": [
    "#Performing Chi-Square, test of independence\n",
    "from scipy.stats import chi2_contingency\n",
    "from scipy.stats import chi2\n",
    "\n",
    "def independence_test(table):\n",
    "    # interpret test-statistic\n",
    "    stat, p, dof, expected = chi2_contingency(table)\n",
    "    # interpret p-value\n",
    "    alpha = 0.05\n",
    "    if p <= alpha:\n",
    "        print('Dependent (reject H0)')\n",
    "    else:\n",
    "        print('Independent (fail to reject H0)')\n",
    "        \n",
    "for col_name, col_val in df_eda_omar.loc[:, 'C_E_F_S_F_M_N':].iteritems():\n",
    "    table = pd.crosstab(index=df_eda_omar['P_F'], columns=col_val)\n",
    "    print('Testing Dependency of Persistency on ', new_names_decode[col_name])\n",
    "    independence_test(table)\n",
    "    print('')"
   ]
  },
  {
   "cell_type": "code",
   "execution_count": 48,
   "id": "38f511ba",
   "metadata": {},
   "outputs": [
    {
     "data": {
      "text/plain": [
       "Text(0, 0.5, 'Ratio')"
      ]
     },
     "execution_count": 48,
     "metadata": {},
     "output_type": "execute_result"
    },
    {
     "data": {
      "image/png": "[encoded data removed]",
      "text/plain": [
       "<Figure size 432x288 with 1 Axes>"
      ]
     },
     "metadata": {},
     "output_type": "display_data"
    }
   ],
   "source": [
    "#Plotting Persistency flags against adherence\n",
    "fig2, ax2 = plt.subplots()\n",
    "\n",
    "adherent_persist_height= pd.crosstab(index=df_eda_omar['P_F'], columns=df_eda_omar['A_F']).loc['Persistent', 'Adherent'] / df_eda_omar['A_F'].value_counts()['Adherent']\n",
    "non_adherent_persist_height = pd.crosstab(index=df_eda_omar['P_F'], columns=df_eda_omar['A_F']).loc['Persistent', 'Non-Adherent'] / df_eda_omar['A_F'].value_counts()['Non-Adherent']\n",
    "\n",
    "x = np.array([1, 2])\n",
    "ax2.bar(x=x[0], height=adherent_persist_height, width=0.5, color='deeppink') \n",
    "ax2.bar(x=x[1], height=non_adherent_persist_height, width=0.5, color='darkorange')\n",
    "\n",
    "ax2.set_title('Persistent Flag counts per Adherence counts')\n",
    "ax2.set_xticks(x)\n",
    "ax2.set_xticklabels(['Adherent', 'Non-Adherent'])\n",
    "ax2.set_ylabel('Ratio')"
   ]
  },
  {
   "cell_type": "code",
   "execution_count": 49,
   "id": "193d6958",
   "metadata": {},
   "outputs": [
    {
     "name": "stdout",
     "output_type": "stream",
     "text": [
      "Testing Dependency of Persistency on Adherence\n",
      "Dependent (reject H0)\n"
     ]
    }
   ],
   "source": [
    "table = pd.crosstab(index=df_eda_omar['P_F'], columns=df_eda_omar['A_F'])\n",
    "print('Testing Dependency of Persistency on Adherence')\n",
    "independence_test(table)"
   ]
  }
 ],
 "metadata": {
  "kernelspec": {
   "display_name": "Python 3",
   "language": "python",
   "name": "python3"
  },
  "language_info": {
   "codemirror_mode": {
    "name": "ipython",
    "version": 3
   },
   "file_extension": ".py",
   "mimetype": "text/x-python",
   "name": "python",
   "nbconvert_exporter": "python",
   "pygments_lexer": "ipython3",
   "version": "3.8.5"
  }
 },
 "nbformat": 4,
 "nbformat_minor": 5
}
