{
 "cells": [
  {
   "cell_type": "markdown",
   "id": "controlling-revision",
   "metadata": {},
   "source": [
    "**Project title:** Healthcare - Persistency of a drug<br>\n",
    "**Group name:** DG_team_project_PL-RO-KSA-EGY<br>\n",
    "**Github repo:** [https://github.com/Omar-Safwat/HealthCare_project](https://github.com/Omar-Safwat/HealthCare_project)<br>\n",
    "**Week:** 11<br>\n",
    "\n",
    "\n",
    "#### Team members\n",
    "    \n",
    "| Name | Specialization | Country | Email |\n",
    "| :--- | --- | --- | --- | \n",
    "| Ms. Larisa Popa | Data Science | Romania |Larisapopa4@gmail.com |\n",
    "| Ms. Afshan Hashmi | Data Science | Kingdom of Saudi Arabia | afshanhashmi786@gmail.com |\n",
    "| Mr. Omar Safwat | Data Science | Egypt | omarksafwat@gmail.com |\n",
    "| Mr. Roger Burek-Bors | Data Science | Poland | roger.burek-bors@hotmail.com |"
   ]
  },
  {
   "cell_type": "code",
   "execution_count": 1,
   "id": "polished-rings",
   "metadata": {},
   "outputs": [
    {
     "name": "stdout",
     "output_type": "stream",
     "text": [
      "Libraries loaded\n"
     ]
    }
   ],
   "source": [
    "# Loading necessary libraries\n",
    "import pandas as pd\n",
    "import numpy as np\n",
    "import matplotlib.pyplot as plt\n",
    "import sweetviz as sv\n",
    "import seaborn as sns\n",
    "%matplotlib inline\n",
    "print(\"Libraries loaded\")"
   ]
  },
  {
   "cell_type": "code",
   "execution_count": 2,
   "id": "fifty-habitat",
   "metadata": {},
   "outputs": [
    {
     "name": "stdout",
     "output_type": "stream",
     "text": [
      "Dataset loaded\n"
     ]
    }
   ],
   "source": [
    "# Loading dataset cleaned for EDA\n",
    "df = pd.read_csv('cleaned_data.csv')\n",
    "print(\"Dataset loaded\")"
   ]
  },
  {
   "cell_type": "code",
   "execution_count": 3,
   "id": "registered-border",
   "metadata": {},
   "outputs": [
    {
     "data": {
      "text/html": [
       "<div>\n",
       "<style scoped>\n",
       "    .dataframe tbody tr th:only-of-type {\n",
       "        vertical-align: middle;\n",
       "    }\n",
       "\n",
       "    .dataframe tbody tr th {\n",
       "        vertical-align: top;\n",
       "    }\n",
       "\n",
       "    .dataframe thead th {\n",
       "        text-align: right;\n",
       "    }\n",
       "</style>\n",
       "<table border=\"1\" class=\"dataframe\">\n",
       "  <thead>\n",
       "    <tr style=\"text-align: right;\">\n",
       "      <th></th>\n",
       "      <th>Persistency_Flag</th>\n",
       "      <th>Race</th>\n",
       "      <th>Ethnicity</th>\n",
       "      <th>Region</th>\n",
       "      <th>Age_Bucket</th>\n",
       "      <th>Ntm_Speciality</th>\n",
       "      <th>Ntm_Specialist_Flag</th>\n",
       "      <th>Ntm_Speciality_Bucket</th>\n",
       "      <th>Gluco_Record_Prior_Ntm</th>\n",
       "      <th>Gluco_Record_During_Rx</th>\n",
       "      <th>...</th>\n",
       "      <th>Ntm_Speciality_labels</th>\n",
       "      <th>Ntm_Specialist_Flag_labels</th>\n",
       "      <th>Ntm_Speciality_Bucket_labels</th>\n",
       "      <th>Risk_Segment_Prior_Ntm_labels</th>\n",
       "      <th>Tscore_Bucket_Prior_Ntm_labels</th>\n",
       "      <th>Risk_Segment_During_Rx_labels</th>\n",
       "      <th>Tscore_Bucket_During_Rx_labels</th>\n",
       "      <th>Change_T_Score_labels</th>\n",
       "      <th>Change_Risk_Segment_labels</th>\n",
       "      <th>Adherent_Flag_labels</th>\n",
       "    </tr>\n",
       "  </thead>\n",
       "  <tbody>\n",
       "    <tr>\n",
       "      <th>0</th>\n",
       "      <td>Persistent</td>\n",
       "      <td>Caucasian</td>\n",
       "      <td>Not Hispanic</td>\n",
       "      <td>West</td>\n",
       "      <td>&gt;75</td>\n",
       "      <td>GENERAL PRACTITIONER</td>\n",
       "      <td>Others</td>\n",
       "      <td>OB/GYN/Others/PCP/Unknown</td>\n",
       "      <td>0</td>\n",
       "      <td>0</td>\n",
       "      <td>...</td>\n",
       "      <td>5.0</td>\n",
       "      <td>0.0</td>\n",
       "      <td>1.0</td>\n",
       "      <td>1.0</td>\n",
       "      <td>1.0</td>\n",
       "      <td>1.0</td>\n",
       "      <td>0.0</td>\n",
       "      <td>1.0</td>\n",
       "      <td>1.0</td>\n",
       "      <td>0.0</td>\n",
       "    </tr>\n",
       "    <tr>\n",
       "      <th>1</th>\n",
       "      <td>Non-Persistent</td>\n",
       "      <td>Caucasian</td>\n",
       "      <td>Not Hispanic</td>\n",
       "      <td>Midwest</td>\n",
       "      <td>&gt;75</td>\n",
       "      <td>GENERAL PRACTITIONER</td>\n",
       "      <td>Others</td>\n",
       "      <td>OB/GYN/Others/PCP/Unknown</td>\n",
       "      <td>0</td>\n",
       "      <td>1</td>\n",
       "      <td>...</td>\n",
       "      <td>5.0</td>\n",
       "      <td>0.0</td>\n",
       "      <td>1.0</td>\n",
       "      <td>0.0</td>\n",
       "      <td>1.0</td>\n",
       "      <td>0.0</td>\n",
       "      <td>0.0</td>\n",
       "      <td>1.0</td>\n",
       "      <td>1.0</td>\n",
       "      <td>0.0</td>\n",
       "    </tr>\n",
       "    <tr>\n",
       "      <th>2</th>\n",
       "      <td>Non-Persistent</td>\n",
       "      <td>Caucasian</td>\n",
       "      <td>Not Hispanic</td>\n",
       "      <td>Midwest</td>\n",
       "      <td>&gt;75</td>\n",
       "      <td>GENERAL PRACTITIONER</td>\n",
       "      <td>Others</td>\n",
       "      <td>OB/GYN/Others/PCP/Unknown</td>\n",
       "      <td>1</td>\n",
       "      <td>1</td>\n",
       "      <td>...</td>\n",
       "      <td>5.0</td>\n",
       "      <td>0.0</td>\n",
       "      <td>1.0</td>\n",
       "      <td>0.0</td>\n",
       "      <td>0.0</td>\n",
       "      <td>0.0</td>\n",
       "      <td>0.0</td>\n",
       "      <td>1.0</td>\n",
       "      <td>1.0</td>\n",
       "      <td>0.0</td>\n",
       "    </tr>\n",
       "    <tr>\n",
       "      <th>3</th>\n",
       "      <td>Non-Persistent</td>\n",
       "      <td>Caucasian</td>\n",
       "      <td>Not Hispanic</td>\n",
       "      <td>Midwest</td>\n",
       "      <td>&gt;75</td>\n",
       "      <td>GENERAL PRACTITIONER</td>\n",
       "      <td>Others</td>\n",
       "      <td>OB/GYN/Others/PCP/Unknown</td>\n",
       "      <td>0</td>\n",
       "      <td>0</td>\n",
       "      <td>...</td>\n",
       "      <td>5.0</td>\n",
       "      <td>0.0</td>\n",
       "      <td>1.0</td>\n",
       "      <td>0.0</td>\n",
       "      <td>0.0</td>\n",
       "      <td>0.0</td>\n",
       "      <td>0.0</td>\n",
       "      <td>1.0</td>\n",
       "      <td>1.0</td>\n",
       "      <td>0.0</td>\n",
       "    </tr>\n",
       "    <tr>\n",
       "      <th>4</th>\n",
       "      <td>Non-Persistent</td>\n",
       "      <td>Caucasian</td>\n",
       "      <td>Not Hispanic</td>\n",
       "      <td>Midwest</td>\n",
       "      <td>&gt;75</td>\n",
       "      <td>GENERAL PRACTITIONER</td>\n",
       "      <td>Others</td>\n",
       "      <td>OB/GYN/Others/PCP/Unknown</td>\n",
       "      <td>1</td>\n",
       "      <td>1</td>\n",
       "      <td>...</td>\n",
       "      <td>5.0</td>\n",
       "      <td>0.0</td>\n",
       "      <td>1.0</td>\n",
       "      <td>0.0</td>\n",
       "      <td>0.0</td>\n",
       "      <td>0.0</td>\n",
       "      <td>0.0</td>\n",
       "      <td>1.0</td>\n",
       "      <td>1.0</td>\n",
       "      <td>0.0</td>\n",
       "    </tr>\n",
       "  </tbody>\n",
       "</table>\n",
       "<p>5 rows × 67 columns</p>\n",
       "</div>"
      ],
      "text/plain": [
       "  Persistency_Flag       Race     Ethnicity   Region Age_Bucket  \\\n",
       "0       Persistent  Caucasian  Not Hispanic     West        >75   \n",
       "1   Non-Persistent  Caucasian  Not Hispanic  Midwest        >75   \n",
       "2   Non-Persistent  Caucasian  Not Hispanic  Midwest        >75   \n",
       "3   Non-Persistent  Caucasian  Not Hispanic  Midwest        >75   \n",
       "4   Non-Persistent  Caucasian  Not Hispanic  Midwest        >75   \n",
       "\n",
       "         Ntm_Speciality Ntm_Specialist_Flag      Ntm_Speciality_Bucket  \\\n",
       "0  GENERAL PRACTITIONER              Others  OB/GYN/Others/PCP/Unknown   \n",
       "1  GENERAL PRACTITIONER              Others  OB/GYN/Others/PCP/Unknown   \n",
       "2  GENERAL PRACTITIONER              Others  OB/GYN/Others/PCP/Unknown   \n",
       "3  GENERAL PRACTITIONER              Others  OB/GYN/Others/PCP/Unknown   \n",
       "4  GENERAL PRACTITIONER              Others  OB/GYN/Others/PCP/Unknown   \n",
       "\n",
       "   Gluco_Record_Prior_Ntm  Gluco_Record_During_Rx  ...  Ntm_Speciality_labels  \\\n",
       "0                       0                       0  ...                    5.0   \n",
       "1                       0                       1  ...                    5.0   \n",
       "2                       1                       1  ...                    5.0   \n",
       "3                       0                       0  ...                    5.0   \n",
       "4                       1                       1  ...                    5.0   \n",
       "\n",
       "   Ntm_Specialist_Flag_labels  Ntm_Speciality_Bucket_labels  \\\n",
       "0                         0.0                           1.0   \n",
       "1                         0.0                           1.0   \n",
       "2                         0.0                           1.0   \n",
       "3                         0.0                           1.0   \n",
       "4                         0.0                           1.0   \n",
       "\n",
       "   Risk_Segment_Prior_Ntm_labels Tscore_Bucket_Prior_Ntm_labels  \\\n",
       "0                            1.0                            1.0   \n",
       "1                            0.0                            1.0   \n",
       "2                            0.0                            0.0   \n",
       "3                            0.0                            0.0   \n",
       "4                            0.0                            0.0   \n",
       "\n",
       "  Risk_Segment_During_Rx_labels Tscore_Bucket_During_Rx_labels  \\\n",
       "0                           1.0                            0.0   \n",
       "1                           0.0                            0.0   \n",
       "2                           0.0                            0.0   \n",
       "3                           0.0                            0.0   \n",
       "4                           0.0                            0.0   \n",
       "\n",
       "  Change_T_Score_labels Change_Risk_Segment_labels Adherent_Flag_labels  \n",
       "0                   1.0                        1.0                  0.0  \n",
       "1                   1.0                        1.0                  0.0  \n",
       "2                   1.0                        1.0                  0.0  \n",
       "3                   1.0                        1.0                  0.0  \n",
       "4                   1.0                        1.0                  0.0  \n",
       "\n",
       "[5 rows x 67 columns]"
      ]
     },
     "execution_count": 3,
     "metadata": {},
     "output_type": "execute_result"
    }
   ],
   "source": [
    "df.head()"
   ]
  },
  {
   "cell_type": "code",
   "execution_count": 4,
   "id": "informal-beads",
   "metadata": {},
   "outputs": [
    {
     "data": {
      "text/plain": [
       "(2004, 67)"
      ]
     },
     "execution_count": 4,
     "metadata": {},
     "output_type": "execute_result"
    }
   ],
   "source": [
    "df.shape"
   ]
  },
  {
   "cell_type": "markdown",
   "id": "august-restriction",
   "metadata": {},
   "source": [
    "**Hypothesis no 1: Since pulmonary NTM disease diagnosis requires a high-resolution CT scan of the lungs, features related to dexa scan (i.e. Dexa_Freq_During_Rx, Dexa_During_Rx) should contribute to drug persistency classification?**"
   ]
  },
  {
   "cell_type": "code",
   "execution_count": 5,
   "id": "upset-gender",
   "metadata": {},
   "outputs": [
    {
     "data": {
      "text/html": [
       "<div>\n",
       "<style scoped>\n",
       "    .dataframe tbody tr th:only-of-type {\n",
       "        vertical-align: middle;\n",
       "    }\n",
       "\n",
       "    .dataframe tbody tr th {\n",
       "        vertical-align: top;\n",
       "    }\n",
       "\n",
       "    .dataframe thead th {\n",
       "        text-align: right;\n",
       "    }\n",
       "</style>\n",
       "<table border=\"1\" class=\"dataframe\">\n",
       "  <thead>\n",
       "    <tr style=\"text-align: right;\">\n",
       "      <th></th>\n",
       "      <th>Dexa_Freq_During_Rx</th>\n",
       "      <th>Dexa_During_Rx</th>\n",
       "    </tr>\n",
       "  </thead>\n",
       "  <tbody>\n",
       "    <tr>\n",
       "      <th>0</th>\n",
       "      <td>0</td>\n",
       "      <td>0</td>\n",
       "    </tr>\n",
       "    <tr>\n",
       "      <th>1</th>\n",
       "      <td>0</td>\n",
       "      <td>0</td>\n",
       "    </tr>\n",
       "    <tr>\n",
       "      <th>2</th>\n",
       "      <td>0</td>\n",
       "      <td>0</td>\n",
       "    </tr>\n",
       "    <tr>\n",
       "      <th>3</th>\n",
       "      <td>0</td>\n",
       "      <td>0</td>\n",
       "    </tr>\n",
       "    <tr>\n",
       "      <th>4</th>\n",
       "      <td>0</td>\n",
       "      <td>0</td>\n",
       "    </tr>\n",
       "    <tr>\n",
       "      <th>...</th>\n",
       "      <td>...</td>\n",
       "      <td>...</td>\n",
       "    </tr>\n",
       "    <tr>\n",
       "      <th>1999</th>\n",
       "      <td>0</td>\n",
       "      <td>0</td>\n",
       "    </tr>\n",
       "    <tr>\n",
       "      <th>2000</th>\n",
       "      <td>0</td>\n",
       "      <td>0</td>\n",
       "    </tr>\n",
       "    <tr>\n",
       "      <th>2001</th>\n",
       "      <td>0</td>\n",
       "      <td>0</td>\n",
       "    </tr>\n",
       "    <tr>\n",
       "      <th>2002</th>\n",
       "      <td>0</td>\n",
       "      <td>0</td>\n",
       "    </tr>\n",
       "    <tr>\n",
       "      <th>2003</th>\n",
       "      <td>0</td>\n",
       "      <td>0</td>\n",
       "    </tr>\n",
       "  </tbody>\n",
       "</table>\n",
       "<p>2004 rows × 2 columns</p>\n",
       "</div>"
      ],
      "text/plain": [
       "      Dexa_Freq_During_Rx  Dexa_During_Rx\n",
       "0                       0               0\n",
       "1                       0               0\n",
       "2                       0               0\n",
       "3                       0               0\n",
       "4                       0               0\n",
       "...                   ...             ...\n",
       "1999                    0               0\n",
       "2000                    0               0\n",
       "2001                    0               0\n",
       "2002                    0               0\n",
       "2003                    0               0\n",
       "\n",
       "[2004 rows x 2 columns]"
      ]
     },
     "execution_count": 5,
     "metadata": {},
     "output_type": "execute_result"
    }
   ],
   "source": [
    "df_dexa = df[['Dexa_Freq_During_Rx', 'Dexa_During_Rx']]\n",
    "df_dexa"
   ]
  },
  {
   "cell_type": "code",
   "execution_count": 6,
   "id": "standing-strengthening",
   "metadata": {},
   "outputs": [
    {
     "data": {
      "text/html": [
       "<div>\n",
       "<style scoped>\n",
       "    .dataframe tbody tr th:only-of-type {\n",
       "        vertical-align: middle;\n",
       "    }\n",
       "\n",
       "    .dataframe tbody tr th {\n",
       "        vertical-align: top;\n",
       "    }\n",
       "\n",
       "    .dataframe thead th {\n",
       "        text-align: right;\n",
       "    }\n",
       "</style>\n",
       "<table border=\"1\" class=\"dataframe\">\n",
       "  <thead>\n",
       "    <tr style=\"text-align: right;\">\n",
       "      <th></th>\n",
       "      <th>Dexa_During_Rx</th>\n",
       "    </tr>\n",
       "    <tr>\n",
       "      <th>Dexa_Freq_During_Rx</th>\n",
       "      <th></th>\n",
       "    </tr>\n",
       "  </thead>\n",
       "  <tbody>\n",
       "    <tr>\n",
       "      <th>0</th>\n",
       "      <td>2004</td>\n",
       "    </tr>\n",
       "  </tbody>\n",
       "</table>\n",
       "</div>"
      ],
      "text/plain": [
       "                     Dexa_During_Rx\n",
       "Dexa_Freq_During_Rx                \n",
       "0                              2004"
      ]
     },
     "execution_count": 6,
     "metadata": {},
     "output_type": "execute_result"
    }
   ],
   "source": [
    "df_dexa.groupby(['Dexa_Freq_During_Rx']).count()"
   ]
  },
  {
   "cell_type": "code",
   "execution_count": 7,
   "id": "african-hydrogen",
   "metadata": {},
   "outputs": [
    {
     "data": {
      "text/html": [
       "<div>\n",
       "<style scoped>\n",
       "    .dataframe tbody tr th:only-of-type {\n",
       "        vertical-align: middle;\n",
       "    }\n",
       "\n",
       "    .dataframe tbody tr th {\n",
       "        vertical-align: top;\n",
       "    }\n",
       "\n",
       "    .dataframe thead th {\n",
       "        text-align: right;\n",
       "    }\n",
       "</style>\n",
       "<table border=\"1\" class=\"dataframe\">\n",
       "  <thead>\n",
       "    <tr style=\"text-align: right;\">\n",
       "      <th></th>\n",
       "      <th>Dexa_Freq_During_Rx</th>\n",
       "    </tr>\n",
       "    <tr>\n",
       "      <th>Dexa_During_Rx</th>\n",
       "      <th></th>\n",
       "    </tr>\n",
       "  </thead>\n",
       "  <tbody>\n",
       "    <tr>\n",
       "      <th>0</th>\n",
       "      <td>2004</td>\n",
       "    </tr>\n",
       "  </tbody>\n",
       "</table>\n",
       "</div>"
      ],
      "text/plain": [
       "                Dexa_Freq_During_Rx\n",
       "Dexa_During_Rx                     \n",
       "0                              2004"
      ]
     },
     "execution_count": 7,
     "metadata": {},
     "output_type": "execute_result"
    }
   ],
   "source": [
    "df_dexa.groupby(['Dexa_During_Rx']).count()"
   ]
  },
  {
   "cell_type": "markdown",
   "id": "uniform-colleague",
   "metadata": {},
   "source": [
    "Unfortunately, after removing outliers remaining data related to dexa scan is useless for modelling. Both features Dexa_Freq_During_Rx and Dexa_During_Rx give 100% negative. These features should not contribute to modeling."
   ]
  },
  {
   "cell_type": "markdown",
   "id": "amino-hydrogen",
   "metadata": {},
   "source": [
    "**Hypothesis no 2: Features associated with “Risk” in data set are very important classifier of drug persistency?**"
   ]
  },
  {
   "cell_type": "code",
   "execution_count": 8,
   "id": "worse-graphic",
   "metadata": {},
   "outputs": [
    {
     "data": {
      "text/plain": [
       "Index(['Persistency_Flag', 'Race', 'Ethnicity', 'Region', 'Age_Bucket',\n",
       "       'Ntm_Speciality', 'Ntm_Specialist_Flag', 'Ntm_Speciality_Bucket',\n",
       "       'Gluco_Record_Prior_Ntm', 'Gluco_Record_During_Rx',\n",
       "       'Dexa_Freq_During_Rx', 'Dexa_During_Rx', 'Frag_Frac_Prior_Ntm',\n",
       "       'Frag_Frac_During_Rx', 'Risk_Segment_Prior_Ntm',\n",
       "       'Tscore_Bucket_Prior_Ntm', 'Risk_Segment_During_Rx',\n",
       "       'Tscore_Bucket_During_Rx', 'Change_T_Score', 'Change_Risk_Segment',\n",
       "       'Adherent_Flag', 'Idn_Indicator', 'Injectable_Experience_During_Rx',\n",
       "       'Comorb_Encounter_For_Screening_For_Malignant_Neoplasms',\n",
       "       'Comorb_Encounter_For_Immunization',\n",
       "       'Comorb_Encntr_For_General_Exam_W_O_Complaint,_Susp_Or_Reprtd_Dx',\n",
       "       'Comorb_Vitamin_D_Deficiency',\n",
       "       'Comorb_Other_Joint_Disorder_Not_Elsewhere_Classified',\n",
       "       'Comorb_Encntr_For_Oth_Sp_Exam_W_O_Complaint_Suspected_Or_Reprtd_Dx',\n",
       "       'Comorb_Long_Term_Current_Drug_Therapy', 'Comorb_Dorsalgia',\n",
       "       'Comorb_Personal_History_Of_Other_Diseases_And_Conditions',\n",
       "       'Comorb_Other_Disorders_Of_Bone_Density_And_Structure',\n",
       "       'Comorb_Disorders_of_lipoprotein_metabolism_and_other_lipidemias',\n",
       "       'Comorb_Osteoporosis_without_current_pathological_fracture',\n",
       "       'Comorb_Personal_history_of_malignant_neoplasm',\n",
       "       'Comorb_Gastro_esophageal_reflux_disease',\n",
       "       'Concom_Cholesterol_And_Triglyceride_Regulating_Preparations',\n",
       "       'Concom_Narcotics', 'Concom_Systemic_Corticosteroids_Plain',\n",
       "       'Concom_Anti_Depressants_And_Mood_Stabilisers',\n",
       "       'Concom_Fluoroquinolones', 'Concom_Cephalosporins',\n",
       "       'Concom_Macrolides_And_Similar_Types',\n",
       "       'Concom_Broad_Spectrum_Penicillins', 'Concom_Anaesthetics_General',\n",
       "       'Concom_Viral_Vaccines', 'Risk_Smoking_Tobacco',\n",
       "       'Risk_Chronic_Malnutrition_Or_Malabsorption',\n",
       "       'Risk_Family_History_Of_Osteoporosis', 'Risk_Vitamin_D_Insufficiency',\n",
       "       'Count_Of_Risks', 'Persistency_Flag_labels', 'Race_labels',\n",
       "       'Ethnicity_labels', 'Region_labels', 'Age_Bucket_labels',\n",
       "       'Ntm_Speciality_labels', 'Ntm_Specialist_Flag_labels',\n",
       "       'Ntm_Speciality_Bucket_labels', 'Risk_Segment_Prior_Ntm_labels',\n",
       "       'Tscore_Bucket_Prior_Ntm_labels', 'Risk_Segment_During_Rx_labels',\n",
       "       'Tscore_Bucket_During_Rx_labels', 'Change_T_Score_labels',\n",
       "       'Change_Risk_Segment_labels', 'Adherent_Flag_labels'],\n",
       "      dtype='object')"
      ]
     },
     "execution_count": 8,
     "metadata": {},
     "output_type": "execute_result"
    }
   ],
   "source": [
    "df.columns"
   ]
  },
  {
   "cell_type": "code",
   "execution_count": 9,
   "id": "precious-bikini",
   "metadata": {},
   "outputs": [
    {
     "data": {
      "text/html": [
       "<div>\n",
       "<style scoped>\n",
       "    .dataframe tbody tr th:only-of-type {\n",
       "        vertical-align: middle;\n",
       "    }\n",
       "\n",
       "    .dataframe tbody tr th {\n",
       "        vertical-align: top;\n",
       "    }\n",
       "\n",
       "    .dataframe thead th {\n",
       "        text-align: right;\n",
       "    }\n",
       "</style>\n",
       "<table border=\"1\" class=\"dataframe\">\n",
       "  <thead>\n",
       "    <tr style=\"text-align: right;\">\n",
       "      <th></th>\n",
       "      <th>Persistency_Flag</th>\n",
       "      <th>Risk_Segment_Prior_Ntm</th>\n",
       "      <th>Risk_Segment_During_Rx</th>\n",
       "      <th>Change_Risk_Segment</th>\n",
       "      <th>Risk_Smoking_Tobacco</th>\n",
       "      <th>Risk_Chronic_Malnutrition_Or_Malabsorption</th>\n",
       "      <th>Risk_Family_History_Of_Osteoporosis</th>\n",
       "      <th>Risk_Vitamin_D_Insufficiency</th>\n",
       "      <th>Count_Of_Risks</th>\n",
       "      <th>Risk_Segment_Prior_Ntm_labels</th>\n",
       "      <th>Risk_Segment_During_Rx_labels</th>\n",
       "      <th>Change_Risk_Segment_labels</th>\n",
       "    </tr>\n",
       "  </thead>\n",
       "  <tbody>\n",
       "    <tr>\n",
       "      <th>0</th>\n",
       "      <td>Persistent</td>\n",
       "      <td>VLR_LR</td>\n",
       "      <td>VLR_LR</td>\n",
       "      <td>No change</td>\n",
       "      <td>0</td>\n",
       "      <td>0</td>\n",
       "      <td>0</td>\n",
       "      <td>0</td>\n",
       "      <td>0</td>\n",
       "      <td>1.0</td>\n",
       "      <td>1.0</td>\n",
       "      <td>1.0</td>\n",
       "    </tr>\n",
       "    <tr>\n",
       "      <th>1</th>\n",
       "      <td>Non-Persistent</td>\n",
       "      <td>HR_VHR</td>\n",
       "      <td>HR_VHR</td>\n",
       "      <td>No change</td>\n",
       "      <td>1</td>\n",
       "      <td>0</td>\n",
       "      <td>0</td>\n",
       "      <td>0</td>\n",
       "      <td>1</td>\n",
       "      <td>0.0</td>\n",
       "      <td>0.0</td>\n",
       "      <td>1.0</td>\n",
       "    </tr>\n",
       "    <tr>\n",
       "      <th>2</th>\n",
       "      <td>Non-Persistent</td>\n",
       "      <td>HR_VHR</td>\n",
       "      <td>HR_VHR</td>\n",
       "      <td>No change</td>\n",
       "      <td>1</td>\n",
       "      <td>0</td>\n",
       "      <td>0</td>\n",
       "      <td>0</td>\n",
       "      <td>1</td>\n",
       "      <td>0.0</td>\n",
       "      <td>0.0</td>\n",
       "      <td>1.0</td>\n",
       "    </tr>\n",
       "    <tr>\n",
       "      <th>3</th>\n",
       "      <td>Non-Persistent</td>\n",
       "      <td>HR_VHR</td>\n",
       "      <td>HR_VHR</td>\n",
       "      <td>No change</td>\n",
       "      <td>1</td>\n",
       "      <td>0</td>\n",
       "      <td>1</td>\n",
       "      <td>0</td>\n",
       "      <td>2</td>\n",
       "      <td>0.0</td>\n",
       "      <td>0.0</td>\n",
       "      <td>1.0</td>\n",
       "    </tr>\n",
       "    <tr>\n",
       "      <th>4</th>\n",
       "      <td>Non-Persistent</td>\n",
       "      <td>HR_VHR</td>\n",
       "      <td>HR_VHR</td>\n",
       "      <td>No change</td>\n",
       "      <td>0</td>\n",
       "      <td>1</td>\n",
       "      <td>0</td>\n",
       "      <td>0</td>\n",
       "      <td>1</td>\n",
       "      <td>0.0</td>\n",
       "      <td>0.0</td>\n",
       "      <td>1.0</td>\n",
       "    </tr>\n",
       "    <tr>\n",
       "      <th>...</th>\n",
       "      <td>...</td>\n",
       "      <td>...</td>\n",
       "      <td>...</td>\n",
       "      <td>...</td>\n",
       "      <td>...</td>\n",
       "      <td>...</td>\n",
       "      <td>...</td>\n",
       "      <td>...</td>\n",
       "      <td>...</td>\n",
       "      <td>...</td>\n",
       "      <td>...</td>\n",
       "      <td>...</td>\n",
       "    </tr>\n",
       "    <tr>\n",
       "      <th>1999</th>\n",
       "      <td>Non-Persistent</td>\n",
       "      <td>VLR_LR</td>\n",
       "      <td>VLR_LR</td>\n",
       "      <td>No change</td>\n",
       "      <td>0</td>\n",
       "      <td>0</td>\n",
       "      <td>0</td>\n",
       "      <td>1</td>\n",
       "      <td>1</td>\n",
       "      <td>1.0</td>\n",
       "      <td>1.0</td>\n",
       "      <td>1.0</td>\n",
       "    </tr>\n",
       "    <tr>\n",
       "      <th>2000</th>\n",
       "      <td>Non-Persistent</td>\n",
       "      <td>VLR_LR</td>\n",
       "      <td>VLR_LR</td>\n",
       "      <td>No change</td>\n",
       "      <td>0</td>\n",
       "      <td>0</td>\n",
       "      <td>0</td>\n",
       "      <td>1</td>\n",
       "      <td>1</td>\n",
       "      <td>1.0</td>\n",
       "      <td>1.0</td>\n",
       "      <td>1.0</td>\n",
       "    </tr>\n",
       "    <tr>\n",
       "      <th>2001</th>\n",
       "      <td>Persistent</td>\n",
       "      <td>VLR_LR</td>\n",
       "      <td>VLR_LR</td>\n",
       "      <td>No change</td>\n",
       "      <td>0</td>\n",
       "      <td>0</td>\n",
       "      <td>0</td>\n",
       "      <td>1</td>\n",
       "      <td>1</td>\n",
       "      <td>1.0</td>\n",
       "      <td>1.0</td>\n",
       "      <td>1.0</td>\n",
       "    </tr>\n",
       "    <tr>\n",
       "      <th>2002</th>\n",
       "      <td>Non-Persistent</td>\n",
       "      <td>VLR_LR</td>\n",
       "      <td>VLR_LR</td>\n",
       "      <td>Worsened</td>\n",
       "      <td>0</td>\n",
       "      <td>0</td>\n",
       "      <td>0</td>\n",
       "      <td>0</td>\n",
       "      <td>0</td>\n",
       "      <td>1.0</td>\n",
       "      <td>1.0</td>\n",
       "      <td>2.0</td>\n",
       "    </tr>\n",
       "    <tr>\n",
       "      <th>2003</th>\n",
       "      <td>Non-Persistent</td>\n",
       "      <td>VLR_LR</td>\n",
       "      <td>VLR_LR</td>\n",
       "      <td>No change</td>\n",
       "      <td>0</td>\n",
       "      <td>0</td>\n",
       "      <td>0</td>\n",
       "      <td>1</td>\n",
       "      <td>1</td>\n",
       "      <td>1.0</td>\n",
       "      <td>1.0</td>\n",
       "      <td>1.0</td>\n",
       "    </tr>\n",
       "  </tbody>\n",
       "</table>\n",
       "<p>2004 rows × 12 columns</p>\n",
       "</div>"
      ],
      "text/plain": [
       "     Persistency_Flag Risk_Segment_Prior_Ntm Risk_Segment_During_Rx  \\\n",
       "0          Persistent                 VLR_LR                 VLR_LR   \n",
       "1      Non-Persistent                 HR_VHR                 HR_VHR   \n",
       "2      Non-Persistent                 HR_VHR                 HR_VHR   \n",
       "3      Non-Persistent                 HR_VHR                 HR_VHR   \n",
       "4      Non-Persistent                 HR_VHR                 HR_VHR   \n",
       "...               ...                    ...                    ...   \n",
       "1999   Non-Persistent                 VLR_LR                 VLR_LR   \n",
       "2000   Non-Persistent                 VLR_LR                 VLR_LR   \n",
       "2001       Persistent                 VLR_LR                 VLR_LR   \n",
       "2002   Non-Persistent                 VLR_LR                 VLR_LR   \n",
       "2003   Non-Persistent                 VLR_LR                 VLR_LR   \n",
       "\n",
       "     Change_Risk_Segment  Risk_Smoking_Tobacco  \\\n",
       "0              No change                     0   \n",
       "1              No change                     1   \n",
       "2              No change                     1   \n",
       "3              No change                     1   \n",
       "4              No change                     0   \n",
       "...                  ...                   ...   \n",
       "1999           No change                     0   \n",
       "2000           No change                     0   \n",
       "2001           No change                     0   \n",
       "2002            Worsened                     0   \n",
       "2003           No change                     0   \n",
       "\n",
       "      Risk_Chronic_Malnutrition_Or_Malabsorption  \\\n",
       "0                                              0   \n",
       "1                                              0   \n",
       "2                                              0   \n",
       "3                                              0   \n",
       "4                                              1   \n",
       "...                                          ...   \n",
       "1999                                           0   \n",
       "2000                                           0   \n",
       "2001                                           0   \n",
       "2002                                           0   \n",
       "2003                                           0   \n",
       "\n",
       "      Risk_Family_History_Of_Osteoporosis  Risk_Vitamin_D_Insufficiency  \\\n",
       "0                                       0                             0   \n",
       "1                                       0                             0   \n",
       "2                                       0                             0   \n",
       "3                                       1                             0   \n",
       "4                                       0                             0   \n",
       "...                                   ...                           ...   \n",
       "1999                                    0                             1   \n",
       "2000                                    0                             1   \n",
       "2001                                    0                             1   \n",
       "2002                                    0                             0   \n",
       "2003                                    0                             1   \n",
       "\n",
       "      Count_Of_Risks  Risk_Segment_Prior_Ntm_labels  \\\n",
       "0                  0                            1.0   \n",
       "1                  1                            0.0   \n",
       "2                  1                            0.0   \n",
       "3                  2                            0.0   \n",
       "4                  1                            0.0   \n",
       "...              ...                            ...   \n",
       "1999               1                            1.0   \n",
       "2000               1                            1.0   \n",
       "2001               1                            1.0   \n",
       "2002               0                            1.0   \n",
       "2003               1                            1.0   \n",
       "\n",
       "      Risk_Segment_During_Rx_labels  Change_Risk_Segment_labels  \n",
       "0                               1.0                         1.0  \n",
       "1                               0.0                         1.0  \n",
       "2                               0.0                         1.0  \n",
       "3                               0.0                         1.0  \n",
       "4                               0.0                         1.0  \n",
       "...                             ...                         ...  \n",
       "1999                            1.0                         1.0  \n",
       "2000                            1.0                         1.0  \n",
       "2001                            1.0                         1.0  \n",
       "2002                            1.0                         2.0  \n",
       "2003                            1.0                         1.0  \n",
       "\n",
       "[2004 rows x 12 columns]"
      ]
     },
     "execution_count": 9,
     "metadata": {},
     "output_type": "execute_result"
    }
   ],
   "source": [
    "df_risks = df[['Persistency_Flag', 'Risk_Segment_Prior_Ntm', 'Risk_Segment_During_Rx',\n",
    "       'Change_Risk_Segment', 'Risk_Smoking_Tobacco',\n",
    "       'Risk_Chronic_Malnutrition_Or_Malabsorption',\n",
    "       'Risk_Family_History_Of_Osteoporosis', 'Risk_Vitamin_D_Insufficiency',\n",
    "       'Count_Of_Risks', 'Risk_Segment_Prior_Ntm_labels',\n",
    "       'Risk_Segment_During_Rx_labels', 'Change_Risk_Segment_labels']]\n",
    "df_risks"
   ]
  },
  {
   "cell_type": "code",
   "execution_count": 10,
   "id": "religious-control",
   "metadata": {},
   "outputs": [
    {
     "data": {
      "text/html": [
       "<div>\n",
       "<style scoped>\n",
       "    .dataframe tbody tr th:only-of-type {\n",
       "        vertical-align: middle;\n",
       "    }\n",
       "\n",
       "    .dataframe tbody tr th {\n",
       "        vertical-align: top;\n",
       "    }\n",
       "\n",
       "    .dataframe thead th {\n",
       "        text-align: right;\n",
       "    }\n",
       "</style>\n",
       "<table border=\"1\" class=\"dataframe\">\n",
       "  <thead>\n",
       "    <tr style=\"text-align: right;\">\n",
       "      <th></th>\n",
       "      <th>Risk_Segment_Prior_Ntm</th>\n",
       "      <th>Risk_Segment_During_Rx</th>\n",
       "    </tr>\n",
       "  </thead>\n",
       "  <tbody>\n",
       "    <tr>\n",
       "      <th>0</th>\n",
       "      <td>VLR_LR</td>\n",
       "      <td>VLR_LR</td>\n",
       "    </tr>\n",
       "    <tr>\n",
       "      <th>1</th>\n",
       "      <td>HR_VHR</td>\n",
       "      <td>HR_VHR</td>\n",
       "    </tr>\n",
       "    <tr>\n",
       "      <th>2</th>\n",
       "      <td>HR_VHR</td>\n",
       "      <td>HR_VHR</td>\n",
       "    </tr>\n",
       "    <tr>\n",
       "      <th>3</th>\n",
       "      <td>HR_VHR</td>\n",
       "      <td>HR_VHR</td>\n",
       "    </tr>\n",
       "    <tr>\n",
       "      <th>4</th>\n",
       "      <td>HR_VHR</td>\n",
       "      <td>HR_VHR</td>\n",
       "    </tr>\n",
       "    <tr>\n",
       "      <th>...</th>\n",
       "      <td>...</td>\n",
       "      <td>...</td>\n",
       "    </tr>\n",
       "    <tr>\n",
       "      <th>1999</th>\n",
       "      <td>VLR_LR</td>\n",
       "      <td>VLR_LR</td>\n",
       "    </tr>\n",
       "    <tr>\n",
       "      <th>2000</th>\n",
       "      <td>VLR_LR</td>\n",
       "      <td>VLR_LR</td>\n",
       "    </tr>\n",
       "    <tr>\n",
       "      <th>2001</th>\n",
       "      <td>VLR_LR</td>\n",
       "      <td>VLR_LR</td>\n",
       "    </tr>\n",
       "    <tr>\n",
       "      <th>2002</th>\n",
       "      <td>VLR_LR</td>\n",
       "      <td>VLR_LR</td>\n",
       "    </tr>\n",
       "    <tr>\n",
       "      <th>2003</th>\n",
       "      <td>VLR_LR</td>\n",
       "      <td>VLR_LR</td>\n",
       "    </tr>\n",
       "  </tbody>\n",
       "</table>\n",
       "<p>2004 rows × 2 columns</p>\n",
       "</div>"
      ],
      "text/plain": [
       "     Risk_Segment_Prior_Ntm Risk_Segment_During_Rx\n",
       "0                    VLR_LR                 VLR_LR\n",
       "1                    HR_VHR                 HR_VHR\n",
       "2                    HR_VHR                 HR_VHR\n",
       "3                    HR_VHR                 HR_VHR\n",
       "4                    HR_VHR                 HR_VHR\n",
       "...                     ...                    ...\n",
       "1999                 VLR_LR                 VLR_LR\n",
       "2000                 VLR_LR                 VLR_LR\n",
       "2001                 VLR_LR                 VLR_LR\n",
       "2002                 VLR_LR                 VLR_LR\n",
       "2003                 VLR_LR                 VLR_LR\n",
       "\n",
       "[2004 rows x 2 columns]"
      ]
     },
     "execution_count": 10,
     "metadata": {},
     "output_type": "execute_result"
    }
   ],
   "source": [
    "df_risks2 = df_risks[['Risk_Segment_Prior_Ntm', 'Risk_Segment_During_Rx']]\n",
    "df_risks2"
   ]
  },
  {
   "cell_type": "code",
   "execution_count": 11,
   "id": "proper-power",
   "metadata": {
    "scrolled": true
   },
   "outputs": [
    {
     "name": "stderr",
     "output_type": "stream",
     "text": [
      "<ipython-input-11-3e34765b03a9>:1: SettingWithCopyWarning: \n",
      "A value is trying to be set on a copy of a slice from a DataFrame.\n",
      "Try using .loc[row_indexer,col_indexer] = value instead\n",
      "\n",
      "See the caveats in the documentation: https://pandas.pydata.org/pandas-docs/stable/user_guide/indexing.html#returning-a-view-versus-a-copy\n",
      "  df_risks2['comparison'] = np.where(df_risks2['Risk_Segment_Prior_Ntm'] == df_risks2['Risk_Segment_During_Rx'], 1, 0)\n"
     ]
    }
   ],
   "source": [
    "df_risks2['comparison'] = np.where(df_risks2['Risk_Segment_Prior_Ntm'] == df_risks2['Risk_Segment_During_Rx'], 1, 0)"
   ]
  },
  {
   "cell_type": "code",
   "execution_count": 12,
   "id": "moved-calculator",
   "metadata": {
    "scrolled": true
   },
   "outputs": [
    {
     "data": {
      "text/html": [
       "<div>\n",
       "<style scoped>\n",
       "    .dataframe tbody tr th:only-of-type {\n",
       "        vertical-align: middle;\n",
       "    }\n",
       "\n",
       "    .dataframe tbody tr th {\n",
       "        vertical-align: top;\n",
       "    }\n",
       "\n",
       "    .dataframe thead th {\n",
       "        text-align: right;\n",
       "    }\n",
       "</style>\n",
       "<table border=\"1\" class=\"dataframe\">\n",
       "  <thead>\n",
       "    <tr style=\"text-align: right;\">\n",
       "      <th></th>\n",
       "      <th>Risk_Segment_Prior_Ntm</th>\n",
       "      <th>Risk_Segment_During_Rx</th>\n",
       "    </tr>\n",
       "    <tr>\n",
       "      <th>comparison</th>\n",
       "      <th></th>\n",
       "      <th></th>\n",
       "    </tr>\n",
       "  </thead>\n",
       "  <tbody>\n",
       "    <tr>\n",
       "      <th>0</th>\n",
       "      <td>64</td>\n",
       "      <td>64</td>\n",
       "    </tr>\n",
       "    <tr>\n",
       "      <th>1</th>\n",
       "      <td>1940</td>\n",
       "      <td>1940</td>\n",
       "    </tr>\n",
       "  </tbody>\n",
       "</table>\n",
       "</div>"
      ],
      "text/plain": [
       "            Risk_Segment_Prior_Ntm  Risk_Segment_During_Rx\n",
       "comparison                                                \n",
       "0                               64                      64\n",
       "1                             1940                    1940"
      ]
     },
     "execution_count": 12,
     "metadata": {},
     "output_type": "execute_result"
    }
   ],
   "source": [
    "df_risks2.groupby(['comparison']).count()"
   ]
  },
  {
   "cell_type": "markdown",
   "id": "helpful-screw",
   "metadata": {},
   "source": [
    "Features: \"Risk_Segment_Prior_Ntm\" and \"Risk_Segment_During_Rx\" have nearly same values. Difference between this 2 features is around 3%. Therefore suggestion is to take only one of this features for modeling."
   ]
  },
  {
   "cell_type": "code",
   "execution_count": 13,
   "id": "smoking-bulletin",
   "metadata": {},
   "outputs": [
    {
     "data": {
      "text/html": [
       "<div>\n",
       "<style scoped>\n",
       "    .dataframe tbody tr th:only-of-type {\n",
       "        vertical-align: middle;\n",
       "    }\n",
       "\n",
       "    .dataframe tbody tr th {\n",
       "        vertical-align: top;\n",
       "    }\n",
       "\n",
       "    .dataframe thead th {\n",
       "        text-align: right;\n",
       "    }\n",
       "</style>\n",
       "<table border=\"1\" class=\"dataframe\">\n",
       "  <thead>\n",
       "    <tr style=\"text-align: right;\">\n",
       "      <th></th>\n",
       "      <th>Risk_Smoking_Tobacco</th>\n",
       "      <th>Risk_Chronic_Malnutrition_Or_Malabsorption</th>\n",
       "      <th>Risk_Family_History_Of_Osteoporosis</th>\n",
       "      <th>Risk_Vitamin_D_Insufficiency</th>\n",
       "      <th>Count_Of_Risks</th>\n",
       "      <th>Risk_Segment_Prior_Ntm_labels</th>\n",
       "      <th>Risk_Segment_During_Rx_labels</th>\n",
       "      <th>Change_Risk_Segment_labels</th>\n",
       "    </tr>\n",
       "    <tr>\n",
       "      <th>Persistency_Flag</th>\n",
       "      <th></th>\n",
       "      <th></th>\n",
       "      <th></th>\n",
       "      <th></th>\n",
       "      <th></th>\n",
       "      <th></th>\n",
       "      <th></th>\n",
       "      <th></th>\n",
       "    </tr>\n",
       "  </thead>\n",
       "  <tbody>\n",
       "    <tr>\n",
       "      <th>Non-Persistent</th>\n",
       "      <td>241</td>\n",
       "      <td>188</td>\n",
       "      <td>162</td>\n",
       "      <td>678</td>\n",
       "      <td>1769</td>\n",
       "      <td>868.0</td>\n",
       "      <td>842.0</td>\n",
       "      <td>1592.0</td>\n",
       "    </tr>\n",
       "    <tr>\n",
       "      <th>Persistent</th>\n",
       "      <td>112</td>\n",
       "      <td>64</td>\n",
       "      <td>34</td>\n",
       "      <td>222</td>\n",
       "      <td>570</td>\n",
       "      <td>262.0</td>\n",
       "      <td>234.0</td>\n",
       "      <td>482.0</td>\n",
       "    </tr>\n",
       "  </tbody>\n",
       "</table>\n",
       "</div>"
      ],
      "text/plain": [
       "                  Risk_Smoking_Tobacco  \\\n",
       "Persistency_Flag                         \n",
       "Non-Persistent                     241   \n",
       "Persistent                         112   \n",
       "\n",
       "                  Risk_Chronic_Malnutrition_Or_Malabsorption  \\\n",
       "Persistency_Flag                                               \n",
       "Non-Persistent                                           188   \n",
       "Persistent                                                64   \n",
       "\n",
       "                  Risk_Family_History_Of_Osteoporosis  \\\n",
       "Persistency_Flag                                        \n",
       "Non-Persistent                                    162   \n",
       "Persistent                                         34   \n",
       "\n",
       "                  Risk_Vitamin_D_Insufficiency  Count_Of_Risks  \\\n",
       "Persistency_Flag                                                 \n",
       "Non-Persistent                             678            1769   \n",
       "Persistent                                 222             570   \n",
       "\n",
       "                  Risk_Segment_Prior_Ntm_labels  \\\n",
       "Persistency_Flag                                  \n",
       "Non-Persistent                            868.0   \n",
       "Persistent                                262.0   \n",
       "\n",
       "                  Risk_Segment_During_Rx_labels  Change_Risk_Segment_labels  \n",
       "Persistency_Flag                                                             \n",
       "Non-Persistent                            842.0                      1592.0  \n",
       "Persistent                                234.0                       482.0  "
      ]
     },
     "execution_count": 13,
     "metadata": {},
     "output_type": "execute_result"
    }
   ],
   "source": [
    "df_risks3 = df_risks.groupby(['Persistency_Flag']).sum()\n",
    "df_risks3"
   ]
  },
  {
   "cell_type": "code",
   "execution_count": 14,
   "id": "graphic-partner",
   "metadata": {},
   "outputs": [
    {
     "data": {
      "text/plain": [
       "<AxesSubplot:ylabel='Persistency_Flag'>"
      ]
     },
     "execution_count": 14,
     "metadata": {},
     "output_type": "execute_result"
    },
    {
     "data": {
      "image/png": "[encoded data removed]",
      "text/plain": [
       "<Figure size 1440x720 with 1 Axes>"
      ]
     },
     "metadata": {
      "needs_background": "light"
     },
     "output_type": "display_data"
    }
   ],
   "source": [
    "df_risks3.plot.barh(figsize=(20,10))"
   ]
  },
  {
   "cell_type": "markdown",
   "id": "adjacent-beads",
   "metadata": {},
   "source": [
    "For modeling should be taken all of the features from df_risks apart “Risk_Segment_During_Rx_labels”."
   ]
  },
  {
   "cell_type": "markdown",
   "id": "chemical-quebec",
   "metadata": {},
   "source": [
    "**Hypothesis no 3: Effects of Demographics on persistency of drugs?**"
   ]
  },
  {
   "cell_type": "code",
   "execution_count": 15,
   "id": "nasty-executive",
   "metadata": {},
   "outputs": [
    {
     "data": {
      "text/plain": [
       "<AxesSubplot:xlabel='Age_Bucket', ylabel='count'>"
      ]
     },
     "execution_count": 15,
     "metadata": {},
     "output_type": "execute_result"
    },
    {
     "data": {
      "image/png": "[encoded data removed]",
      "text/plain": [
       "<Figure size 432x288 with 1 Axes>"
      ]
     },
     "metadata": {},
     "output_type": "display_data"
    }
   ],
   "source": [
    "sns.set_style('whitegrid')\n",
    "sns.countplot(x='Age_Bucket',hue='Persistency_Flag',data=df,palette='RdBu_r')"
   ]
  },
  {
   "cell_type": "markdown",
   "id": "cardiovascular-aquarium",
   "metadata": {},
   "source": [
    "#### Result Older patients are more persistent"
   ]
  },
  {
   "cell_type": "code",
   "execution_count": 16,
   "id": "committed-exclusion",
   "metadata": {},
   "outputs": [
    {
     "data": {
      "text/plain": [
       "<AxesSubplot:xlabel='Region', ylabel='count'>"
      ]
     },
     "execution_count": 16,
     "metadata": {},
     "output_type": "execute_result"
    },
    {
     "data": {
      "image/png": "[encoded data removed]",
      "text/plain": [
       "<Figure size 432x288 with 1 Axes>"
      ]
     },
     "metadata": {},
     "output_type": "display_data"
    }
   ],
   "source": [
    "sns.set_style('whitegrid')\n",
    "sns.countplot(x='Region',hue='Persistency_Flag',data=df,palette='RdBu_r')"
   ]
  },
  {
   "cell_type": "markdown",
   "id": "going-information",
   "metadata": {},
   "source": [
    "#### Result: People from south is more Persistent followed by midwest\n",
    "\n",
    "#### IDNs are large healthcare delivery organizations that either own or manage multiple points of patient care - from hospitals to physician practices to long term care facilities, and everything in between. "
   ]
  },
  {
   "cell_type": "code",
   "execution_count": 17,
   "id": "amino-account",
   "metadata": {},
   "outputs": [
    {
     "data": {
      "text/plain": [
       "<AxesSubplot:xlabel='Idn_Indicator', ylabel='count'>"
      ]
     },
     "execution_count": 17,
     "metadata": {},
     "output_type": "execute_result"
    },
    {
     "data": {
      "image/png": "[encoded data removed]",
      "text/plain": [
       "<Figure size 432x288 with 1 Axes>"
      ]
     },
     "metadata": {},
     "output_type": "display_data"
    }
   ],
   "source": [
    "sns.set_style('whitegrid')\n",
    "sns.countplot(x='Idn_Indicator',hue='Persistency_Flag',data=df,palette='RdBu_r')"
   ]
  },
  {
   "cell_type": "markdown",
   "id": "million-plymouth",
   "metadata": {},
   "source": [
    "#### Result: Patients associated with IDN are more persistent as compared to others"
   ]
  },
  {
   "cell_type": "markdown",
   "id": "closing-height",
   "metadata": {},
   "source": [
    "**Hypothesis no 4: Effects of provider attributes on the persistency?**"
   ]
  },
  {
   "cell_type": "code",
   "execution_count": 18,
   "id": "moral-equipment",
   "metadata": {},
   "outputs": [
    {
     "data": {
      "text/plain": [
       "<AxesSubplot:xlabel='Ntm_Speciality', ylabel='count'>"
      ]
     },
     "execution_count": 18,
     "metadata": {},
     "output_type": "execute_result"
    },
    {
     "data": {
      "image/png": "[encoded data removed]",
      "text/plain": [
       "<Figure size 432x288 with 1 Axes>"
      ]
     },
     "metadata": {},
     "output_type": "display_data"
    }
   ],
   "source": [
    "sns.set_style('whitegrid')\n",
    "sns.countplot(x='Ntm_Speciality',hue='Persistency_Flag',data=df,palette='RdBu_r')"
   ]
  },
  {
   "cell_type": "markdown",
   "id": "reduced-sugar",
   "metadata": {},
   "source": [
    "#### Visualizing as percentage"
   ]
  },
  {
   "cell_type": "code",
   "execution_count": 19,
   "id": "straight-burns",
   "metadata": {},
   "outputs": [
    {
     "data": {
      "text/plain": [
       "<seaborn.axisgrid.FacetGrid at 0x2a0dfca1670>"
      ]
     },
     "execution_count": 19,
     "metadata": {},
     "output_type": "execute_result"
    },
    {
     "data": {
      "image/png": "[encoded data removed]",
      "text/plain": [
       "<Figure size 462.75x360 with 1 Axes>"
      ]
     },
     "metadata": {},
     "output_type": "display_data"
    }
   ],
   "source": [
    "x,y = 'Ntm_Speciality', 'Persistency_Flag'\n",
    "\n",
    "(df\n",
    ".groupby(x)[y]\n",
    ".value_counts(normalize=True)\n",
    ".mul(100)\n",
    ".rename('percent')\n",
    ".reset_index()\n",
    ".pipe((sns.catplot,'data'), x=x,y='percent',hue=y,kind='bar'))"
   ]
  },
  {
   "cell_type": "markdown",
   "id": "stopped-religious",
   "metadata": {},
   "source": [
    "#### Result 2: Oncology followed by Endocrinology drugs are more persistent¶\n",
    "\n",
    "#### In general terms Cancer patients are more persistent in taking medicines followed by diabetes and thyroid patient"
   ]
  },
  {
   "cell_type": "markdown",
   "id": "executed-federal",
   "metadata": {},
   "source": [
    "**Hypothesis no 5: Effects of Glucose record During Rx?**"
   ]
  },
  {
   "cell_type": "code",
   "execution_count": 20,
   "id": "handled-burden",
   "metadata": {},
   "outputs": [
    {
     "data": {
      "text/plain": [
       "<AxesSubplot:xlabel='Gluco_Record_During_Rx', ylabel='count'>"
      ]
     },
     "execution_count": 20,
     "metadata": {},
     "output_type": "execute_result"
    },
    {
     "data": {
      "image/png": "[encoded data removed]",
      "text/plain": [
       "<Figure size 432x288 with 1 Axes>"
      ]
     },
     "metadata": {},
     "output_type": "display_data"
    }
   ],
   "source": [
    "sns.set_style('whitegrid')\n",
    "sns.countplot(x='Gluco_Record_During_Rx',hue='Persistency_Flag',data=df,palette='RdBu_r')"
   ]
  },
  {
   "cell_type": "code",
   "execution_count": 21,
   "id": "still-fifth",
   "metadata": {},
   "outputs": [
    {
     "data": {
      "text/plain": [
       "<seaborn.axisgrid.FacetGrid at 0x2a0dfcb66d0>"
      ]
     },
     "execution_count": 21,
     "metadata": {},
     "output_type": "execute_result"
    },
    {
     "data": {
      "image/png": "[encoded data removed]",
      "text/plain": [
       "<Figure size 462.75x360 with 1 Axes>"
      ]
     },
     "metadata": {},
     "output_type": "display_data"
    }
   ],
   "source": [
    "x,y = 'Gluco_Record_During_Rx', 'Persistency_Flag'\n",
    "\n",
    "(df\n",
    ".groupby(x)[y]\n",
    ".value_counts(normalize=True)\n",
    ".mul(100)\n",
    ".rename('percent')\n",
    ".reset_index()\n",
    ".pipe((sns.catplot,'data'), x=x,y='percent',hue=y,kind='bar'))"
   ]
  },
  {
   "cell_type": "markdown",
   "id": "original-attack",
   "metadata": {},
   "source": [
    "#### Result When glucose record is considered during RX persistency increases from 18 to 38 %"
   ]
  },
  {
   "cell_type": "markdown",
   "id": "obvious-uzbekistan",
   "metadata": {},
   "source": [
    "**Hypothesis no 7: Most frequent risks?**"
   ]
  },
  {
   "cell_type": "code",
   "execution_count": 22,
   "id": "regional-flashing",
   "metadata": {},
   "outputs": [
    {
     "name": "stderr",
     "output_type": "stream",
     "text": [
      "D:\\ProgramData\\Miniconda3\\lib\\site-packages\\seaborn\\_decorators.py:36: FutureWarning: Pass the following variable as a keyword arg: x. From version 0.12, the only valid positional argument will be `data`, and passing other arguments without an explicit keyword will result in an error or misinterpretation.\n",
      "  warnings.warn(\n"
     ]
    },
    {
     "data": {
      "text/plain": [
       "<AxesSubplot:xlabel='Count_Of_Risks', ylabel='count'>"
      ]
     },
     "execution_count": 22,
     "metadata": {},
     "output_type": "execute_result"
    },
    {
     "data": {
      "image/png": "[encoded data removed]",
      "text/plain": [
       "<Figure size 432x288 with 1 Axes>"
      ]
     },
     "metadata": {},
     "output_type": "display_data"
    }
   ],
   "source": [
    "sns.countplot(df['Count_Of_Risks'])"
   ]
  },
  {
   "cell_type": "code",
   "execution_count": 23,
   "id": "verbal-accordance",
   "metadata": {},
   "outputs": [
    {
     "name": "stderr",
     "output_type": "stream",
     "text": [
      "D:\\ProgramData\\Miniconda3\\lib\\site-packages\\seaborn\\_decorators.py:36: FutureWarning: Pass the following variable as a keyword arg: x. From version 0.12, the only valid positional argument will be `data`, and passing other arguments without an explicit keyword will result in an error or misinterpretation.\n",
      "  warnings.warn(\n"
     ]
    },
    {
     "data": {
      "text/plain": [
       "<AxesSubplot:xlabel='Risk_Segment_During_Rx', ylabel='count'>"
      ]
     },
     "execution_count": 23,
     "metadata": {},
     "output_type": "execute_result"
    },
    {
     "data": {
      "image/png": "[encoded data removed]",
      "text/plain": [
       "<Figure size 432x288 with 1 Axes>"
      ]
     },
     "metadata": {},
     "output_type": "display_data"
    }
   ],
   "source": [
    "sns.countplot(df['Risk_Segment_During_Rx'])"
   ]
  },
  {
   "cell_type": "code",
   "execution_count": 24,
   "id": "religious-democrat",
   "metadata": {},
   "outputs": [
    {
     "name": "stderr",
     "output_type": "stream",
     "text": [
      "D:\\ProgramData\\Miniconda3\\lib\\site-packages\\seaborn\\_decorators.py:36: FutureWarning: Pass the following variable as a keyword arg: x. From version 0.12, the only valid positional argument will be `data`, and passing other arguments without an explicit keyword will result in an error or misinterpretation.\n",
      "  warnings.warn(\n"
     ]
    },
    {
     "data": {
      "text/plain": [
       "<AxesSubplot:xlabel='Risk_Segment_Prior_Ntm', ylabel='count'>"
      ]
     },
     "execution_count": 24,
     "metadata": {},
     "output_type": "execute_result"
    },
    {
     "data": {
      "image/png": "[encoded data removed]",
      "text/plain": [
       "<Figure size 432x288 with 1 Axes>"
      ]
     },
     "metadata": {},
     "output_type": "display_data"
    }
   ],
   "source": [
    "sns.countplot(df['Risk_Segment_Prior_Ntm'])"
   ]
  },
  {
   "cell_type": "markdown",
   "id": "9b3609e1",
   "metadata": {},
   "source": [
    "## Investigating the effect of Comorbidities on Persistence"
   ]
  },
  {
   "cell_type": "code",
   "execution_count": 25,
   "id": "a82fd5eb",
   "metadata": {
    "scrolled": true
   },
   "outputs": [
    {
     "data": {
      "text/plain": [
       "Adherent    2004\n",
       "Name: Adherent_Flag, dtype: int64"
      ]
     },
     "execution_count": 25,
     "metadata": {},
     "output_type": "execute_result"
    }
   ],
   "source": [
    "#Preparing dataset for EDA\n",
    "df_eda_omar = df.filter(regex='^Comorb*|^Adherent_Flag$|^Persistency_Flag$').copy()\n",
    "#Restoring all columns back to object type.\n",
    "for col in df_eda_omar.columns[2:]:\n",
    "    df_eda_omar[col] = df_eda_omar[col].map({0:'N', 1:'Y'})\n",
    "df_eda_omar['Adherent_Flag'].value_counts()"
   ]
  },
  {
   "cell_type": "code",
   "execution_count": 26,
   "id": "7a23f7dc",
   "metadata": {
    "scrolled": true
   },
   "outputs": [
    {
     "name": "stdout",
     "output_type": "stream",
     "text": [
      "Investigating Comorbidity and Adherence accounts for 16 variables out of 67\n"
     ]
    }
   ],
   "source": [
    "#Filter data variables related to comorbidity\n",
    "print(f'Investigating Comorbidity and Adherence accounts for {df_eda_omar.shape[1]} variables out of 67')\n",
    "columns_map = {}\n",
    "columns_decode = {}\n",
    "for col in df_eda_omar.columns:\n",
    "    if str(df_eda_omar[col].dtype) == 'object':  #If it's a categorical variable\n",
    "        val_map = {}\n",
    "        val_decode = {}\n",
    "        mapped_value = 0\n",
    "        for idx, val in enumerate(df_eda_omar[col].unique()): \n",
    "            not_na = True\n",
    "            if type(val) == float:\n",
    "                not_na = (np.isnan(val) != True)\n",
    "            if  not_na == True: #If the value is not NaN add it to the mapping\n",
    "                val_map[val] = mapped_value \n",
    "                val_decode[mapped_value] = val\n",
    "                mapped_value += 1\n",
    "            columns_map[col] = val_map\n",
    "            columns_decode[col] = val_decode"
   ]
  },
  {
   "cell_type": "code",
   "execution_count": 27,
   "id": "5fc404bf",
   "metadata": {
    "scrolled": true
   },
   "outputs": [
    {
     "data": {
      "text/html": [
       "<div>\n",
       "<style scoped>\n",
       "    .dataframe tbody tr th:only-of-type {\n",
       "        vertical-align: middle;\n",
       "    }\n",
       "\n",
       "    .dataframe tbody tr th {\n",
       "        vertical-align: top;\n",
       "    }\n",
       "\n",
       "    .dataframe thead th {\n",
       "        text-align: right;\n",
       "    }\n",
       "</style>\n",
       "<table border=\"1\" class=\"dataframe\">\n",
       "  <thead>\n",
       "    <tr style=\"text-align: right;\">\n",
       "      <th></th>\n",
       "      <th>Persistency_Flag</th>\n",
       "      <th>Adherent_Flag</th>\n",
       "      <th>Comorb_Encounter_For_Screening_For_Malignant_Neoplasms</th>\n",
       "      <th>Comorb_Encounter_For_Immunization</th>\n",
       "      <th>Comorb_Encntr_For_General_Exam_W_O_Complaint,_Susp_Or_Reprtd_Dx</th>\n",
       "      <th>Comorb_Vitamin_D_Deficiency</th>\n",
       "      <th>Comorb_Other_Joint_Disorder_Not_Elsewhere_Classified</th>\n",
       "      <th>Comorb_Encntr_For_Oth_Sp_Exam_W_O_Complaint_Suspected_Or_Reprtd_Dx</th>\n",
       "      <th>Comorb_Long_Term_Current_Drug_Therapy</th>\n",
       "      <th>Comorb_Dorsalgia</th>\n",
       "      <th>Comorb_Personal_History_Of_Other_Diseases_And_Conditions</th>\n",
       "      <th>Comorb_Other_Disorders_Of_Bone_Density_And_Structure</th>\n",
       "      <th>Comorb_Disorders_of_lipoprotein_metabolism_and_other_lipidemias</th>\n",
       "      <th>Comorb_Osteoporosis_without_current_pathological_fracture</th>\n",
       "      <th>Comorb_Personal_history_of_malignant_neoplasm</th>\n",
       "      <th>Comorb_Gastro_esophageal_reflux_disease</th>\n",
       "    </tr>\n",
       "  </thead>\n",
       "  <tbody>\n",
       "    <tr>\n",
       "      <th>count</th>\n",
       "      <td>2004</td>\n",
       "      <td>2004</td>\n",
       "      <td>2004</td>\n",
       "      <td>2004</td>\n",
       "      <td>2004</td>\n",
       "      <td>2004</td>\n",
       "      <td>2004</td>\n",
       "      <td>2004</td>\n",
       "      <td>2004</td>\n",
       "      <td>2004</td>\n",
       "      <td>2004</td>\n",
       "      <td>2004</td>\n",
       "      <td>2004</td>\n",
       "      <td>2004</td>\n",
       "      <td>2004</td>\n",
       "      <td>2004</td>\n",
       "    </tr>\n",
       "    <tr>\n",
       "      <th>unique</th>\n",
       "      <td>2</td>\n",
       "      <td>1</td>\n",
       "      <td>2</td>\n",
       "      <td>2</td>\n",
       "      <td>2</td>\n",
       "      <td>2</td>\n",
       "      <td>2</td>\n",
       "      <td>2</td>\n",
       "      <td>2</td>\n",
       "      <td>2</td>\n",
       "      <td>2</td>\n",
       "      <td>2</td>\n",
       "      <td>2</td>\n",
       "      <td>2</td>\n",
       "      <td>2</td>\n",
       "      <td>2</td>\n",
       "    </tr>\n",
       "    <tr>\n",
       "      <th>top</th>\n",
       "      <td>Non-Persistent</td>\n",
       "      <td>Adherent</td>\n",
       "      <td>N</td>\n",
       "      <td>N</td>\n",
       "      <td>N</td>\n",
       "      <td>N</td>\n",
       "      <td>N</td>\n",
       "      <td>N</td>\n",
       "      <td>N</td>\n",
       "      <td>N</td>\n",
       "      <td>N</td>\n",
       "      <td>N</td>\n",
       "      <td>N</td>\n",
       "      <td>N</td>\n",
       "      <td>N</td>\n",
       "      <td>N</td>\n",
       "    </tr>\n",
       "    <tr>\n",
       "      <th>freq</th>\n",
       "      <td>1554</td>\n",
       "      <td>2004</td>\n",
       "      <td>1303</td>\n",
       "      <td>1271</td>\n",
       "      <td>1361</td>\n",
       "      <td>1445</td>\n",
       "      <td>1518</td>\n",
       "      <td>1674</td>\n",
       "      <td>1653</td>\n",
       "      <td>1637</td>\n",
       "      <td>1694</td>\n",
       "      <td>1812</td>\n",
       "      <td>1037</td>\n",
       "      <td>1577</td>\n",
       "      <td>1676</td>\n",
       "      <td>1710</td>\n",
       "    </tr>\n",
       "    <tr>\n",
       "      <th>percent</th>\n",
       "      <td>77.54491</td>\n",
       "      <td>100.0</td>\n",
       "      <td>65.01996</td>\n",
       "      <td>63.423154</td>\n",
       "      <td>67.914172</td>\n",
       "      <td>72.105788</td>\n",
       "      <td>75.748503</td>\n",
       "      <td>83.532934</td>\n",
       "      <td>82.48503</td>\n",
       "      <td>81.686627</td>\n",
       "      <td>84.530938</td>\n",
       "      <td>90.419162</td>\n",
       "      <td>51.746507</td>\n",
       "      <td>78.692615</td>\n",
       "      <td>83.632735</td>\n",
       "      <td>85.329341</td>\n",
       "    </tr>\n",
       "  </tbody>\n",
       "</table>\n",
       "</div>"
      ],
      "text/plain": [
       "        Persistency_Flag Adherent_Flag  \\\n",
       "count               2004          2004   \n",
       "unique                 2             1   \n",
       "top       Non-Persistent      Adherent   \n",
       "freq                1554          2004   \n",
       "percent         77.54491         100.0   \n",
       "\n",
       "        Comorb_Encounter_For_Screening_For_Malignant_Neoplasms  \\\n",
       "count                                                 2004       \n",
       "unique                                                   2       \n",
       "top                                                      N       \n",
       "freq                                                  1303       \n",
       "percent                                           65.01996       \n",
       "\n",
       "        Comorb_Encounter_For_Immunization  \\\n",
       "count                                2004   \n",
       "unique                                  2   \n",
       "top                                     N   \n",
       "freq                                 1271   \n",
       "percent                         63.423154   \n",
       "\n",
       "        Comorb_Encntr_For_General_Exam_W_O_Complaint,_Susp_Or_Reprtd_Dx  \\\n",
       "count                                                 2004                \n",
       "unique                                                   2                \n",
       "top                                                      N                \n",
       "freq                                                  1361                \n",
       "percent                                          67.914172                \n",
       "\n",
       "        Comorb_Vitamin_D_Deficiency  \\\n",
       "count                          2004   \n",
       "unique                            2   \n",
       "top                               N   \n",
       "freq                           1445   \n",
       "percent                   72.105788   \n",
       "\n",
       "        Comorb_Other_Joint_Disorder_Not_Elsewhere_Classified  \\\n",
       "count                                                 2004     \n",
       "unique                                                   2     \n",
       "top                                                      N     \n",
       "freq                                                  1518     \n",
       "percent                                          75.748503     \n",
       "\n",
       "        Comorb_Encntr_For_Oth_Sp_Exam_W_O_Complaint_Suspected_Or_Reprtd_Dx  \\\n",
       "count                                                 2004                   \n",
       "unique                                                   2                   \n",
       "top                                                      N                   \n",
       "freq                                                  1674                   \n",
       "percent                                          83.532934                   \n",
       "\n",
       "        Comorb_Long_Term_Current_Drug_Therapy Comorb_Dorsalgia  \\\n",
       "count                                    2004             2004   \n",
       "unique                                      2                2   \n",
       "top                                         N                N   \n",
       "freq                                     1653             1637   \n",
       "percent                              82.48503        81.686627   \n",
       "\n",
       "        Comorb_Personal_History_Of_Other_Diseases_And_Conditions  \\\n",
       "count                                                 2004         \n",
       "unique                                                   2         \n",
       "top                                                      N         \n",
       "freq                                                  1694         \n",
       "percent                                          84.530938         \n",
       "\n",
       "        Comorb_Other_Disorders_Of_Bone_Density_And_Structure  \\\n",
       "count                                                 2004     \n",
       "unique                                                   2     \n",
       "top                                                      N     \n",
       "freq                                                  1812     \n",
       "percent                                          90.419162     \n",
       "\n",
       "        Comorb_Disorders_of_lipoprotein_metabolism_and_other_lipidemias  \\\n",
       "count                                                 2004                \n",
       "unique                                                   2                \n",
       "top                                                      N                \n",
       "freq                                                  1037                \n",
       "percent                                          51.746507                \n",
       "\n",
       "        Comorb_Osteoporosis_without_current_pathological_fracture  \\\n",
       "count                                                 2004          \n",
       "unique                                                   2          \n",
       "top                                                      N          \n",
       "freq                                                  1577          \n",
       "percent                                          78.692615          \n",
       "\n",
       "        Comorb_Personal_history_of_malignant_neoplasm  \\\n",
       "count                                            2004   \n",
       "unique                                              2   \n",
       "top                                                 N   \n",
       "freq                                             1676   \n",
       "percent                                     83.632735   \n",
       "\n",
       "        Comorb_Gastro_esophageal_reflux_disease  \n",
       "count                                      2004  \n",
       "unique                                        2  \n",
       "top                                           N  \n",
       "freq                                       1710  \n",
       "percent                               85.329341  "
      ]
     },
     "execution_count": 27,
     "metadata": {},
     "output_type": "execute_result"
    }
   ],
   "source": [
    "#Descriptive analysis\n",
    "pd.concat([df_eda_omar.describe(), \n",
    "           pd.DataFrame({'percent': df_eda_omar.describe().loc['freq'] * 100 / len(df_eda_omar)}).transpose()])"
   ]
  },
  {
   "cell_type": "code",
   "execution_count": 28,
   "id": "39cfa577",
   "metadata": {},
   "outputs": [
    {
     "data": {
      "text/plain": [
       "<matplotlib.legend.Legend at 0x2a0dffc4250>"
      ]
     },
     "execution_count": 28,
     "metadata": {},
     "output_type": "execute_result"
    },
    {
     "data": {
      "image/png": "[encoded data removed]",
      "text/plain": [
       "<Figure size 432x288 with 1 Axes>"
      ]
     },
     "metadata": {},
     "output_type": "display_data"
    }
   ],
   "source": [
    "#Renaming columns to shorter names with initials\n",
    "import string\n",
    "table = str.maketrans('', '', string.ascii_lowercase)\n",
    "new_names = [i.translate(table).rstrip('_') for i in df_eda_omar.columns]\n",
    "new_names_encode = dict(zip(df_eda_omar.columns, new_names))\n",
    "new_names_decode = dict(zip(new_names, df_eda_omar.columns))\n",
    "df_eda_omar = df_eda_omar.rename(columns=new_names_encode)\n",
    "\n",
    "#Plotting counts of persistent and non persistent flags for \"Y\" labeled comorb\n",
    "fig1, ax1 = plt.subplots()\n",
    "\n",
    "Y_persist_height=[]\n",
    "N_persist_height=[]\n",
    "#Calculate Counts of persistent flags for each variable\n",
    "for col_name, col_val in df_eda_omar.loc[:, 'C_E_F_S_F_M_N':].iteritems():\n",
    "    #Persistent flag count is scaled by the count of Yes flags.\n",
    "    Y_persist_height.append(pd.crosstab(index=df_eda_omar['P_F'], columns=col_val).loc['Persistent', 'Y'] / col_val.value_counts()['Y'])\n",
    "    #Persistent flag count is scaled by the count of No flags.\n",
    "    N_persist_height.append(pd.crosstab(index=df_eda_omar['P_F'], columns=col_val).loc['Persistent', 'N'] / col_val.value_counts()['N']) \n",
    "\n",
    "x = np.arange(len(df_eda_omar.columns)-2)\n",
    "ax1.bar(x=x-0.35/2, height=Y_persist_height, width=0.3, label='Y', color='deeppink') \n",
    "ax1.bar(x=x+0.35/2, height=N_persist_height, width=0.3, label='N', color='darkorange')\n",
    "\n",
    "ax1.set_title('Persistent Flag counts per Y/N for each variable')\n",
    "ax1.set_xticks(x)\n",
    "ax1.set_ylabel('Ratio')\n",
    "ax1.set_xlabel('Variable Number')\n",
    "plt.legend(loc='best')"
   ]
  },
  {
   "cell_type": "code",
   "execution_count": 29,
   "id": "8f72ed67",
   "metadata": {
    "scrolled": true
   },
   "outputs": [
    {
     "name": "stdout",
     "output_type": "stream",
     "text": [
      "Testing Dependency of Persistency on  Comorb_Encounter_For_Screening_For_Malignant_Neoplasms\n",
      "Dependent (reject H0)\n",
      "\n",
      "Testing Dependency of Persistency on  Comorb_Encounter_For_Immunization\n",
      "Dependent (reject H0)\n",
      "\n",
      "Testing Dependency of Persistency on  Comorb_Encntr_For_General_Exam_W_O_Complaint,_Susp_Or_Reprtd_Dx\n",
      "Dependent (reject H0)\n",
      "\n",
      "Testing Dependency of Persistency on  Comorb_Vitamin_D_Deficiency\n",
      "Dependent (reject H0)\n",
      "\n",
      "Testing Dependency of Persistency on  Comorb_Other_Joint_Disorder_Not_Elsewhere_Classified\n",
      "Dependent (reject H0)\n",
      "\n",
      "Testing Dependency of Persistency on  Comorb_Encntr_For_Oth_Sp_Exam_W_O_Complaint_Suspected_Or_Reprtd_Dx\n",
      "Dependent (reject H0)\n",
      "\n",
      "Testing Dependency of Persistency on  Comorb_Long_Term_Current_Drug_Therapy\n",
      "Dependent (reject H0)\n",
      "\n",
      "Testing Dependency of Persistency on  Comorb_Disorders_of_lipoprotein_metabolism_and_other_lipidemias\n",
      "Dependent (reject H0)\n",
      "\n",
      "Testing Dependency of Persistency on  Comorb_Personal_History_Of_Other_Diseases_And_Conditions\n",
      "Dependent (reject H0)\n",
      "\n",
      "Testing Dependency of Persistency on  Comorb_Other_Disorders_Of_Bone_Density_And_Structure\n",
      "Dependent (reject H0)\n",
      "\n",
      "Testing Dependency of Persistency on  Comorb_Disorders_of_lipoprotein_metabolism_and_other_lipidemias\n",
      "Dependent (reject H0)\n",
      "\n",
      "Testing Dependency of Persistency on  Comorb_Osteoporosis_without_current_pathological_fracture\n",
      "Dependent (reject H0)\n",
      "\n",
      "Testing Dependency of Persistency on  Comorb_Personal_history_of_malignant_neoplasm\n",
      "Dependent (reject H0)\n",
      "\n",
      "Testing Dependency of Persistency on  Comorb_Gastro_esophageal_reflux_disease\n",
      "Dependent (reject H0)\n",
      "\n"
     ]
    }
   ],
   "source": [
    "#Performing Chi-Square, test of independence\n",
    "from scipy.stats import chi2_contingency\n",
    "from scipy.stats import chi2\n",
    "\n",
    "def independence_test(table):\n",
    "    # interpret test-statistic\n",
    "    stat, p, dof, expected = chi2_contingency(table)\n",
    "    # interpret p-value\n",
    "    alpha = 0.05\n",
    "    if p <= alpha:\n",
    "        print('Dependent (reject H0)')\n",
    "    else:\n",
    "        print('Independent (fail to reject H0)')\n",
    "        \n",
    "for col_name, col_val in df_eda_omar.loc[:, 'C_E_F_S_F_M_N':].iteritems():\n",
    "    table = pd.crosstab(index=df_eda_omar['P_F'], columns=col_val)\n",
    "    print('Testing Dependency of Persistency on ', new_names_decode[col_name])\n",
    "    independence_test(table)\n",
    "    print('')"
   ]
  }
 ],
 "metadata": {
  "kernelspec": {
   "display_name": "Python 3",
   "language": "python",
   "name": "python3"
  },
  "language_info": {
   "codemirror_mode": {
    "name": "ipython",
    "version": 3
   },
   "file_extension": ".py",
   "mimetype": "text/x-python",
   "name": "python",
   "nbconvert_exporter": "python",
   "pygments_lexer": "ipython3",
   "version": "3.8.5"
  }
 },
 "nbformat": 4,
 "nbformat_minor": 5
}
