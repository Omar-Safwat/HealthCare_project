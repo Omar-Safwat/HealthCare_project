{
 "cells": [
  {
   "cell_type": "markdown",
   "id": "f30db939",
   "metadata": {},
   "source": [
    "# Problem description \n",
    "\n",
    "Failure to adhere to prescribed-medication regimens is one of the principal reasons patients don’t achieve the expected outcomes from their treatment. Solving this challenge has been a major goal for pharmaceutical and healthcare organizations for decades. Studies show that 50 to 60 percent of patients with chronic illnesses miss doses, take the wrong doses, or drop off treatment in the first year. An estimated 125,000 lives are lost annually in the United States and additional healthcare expenditures of 290 billion USD are driven by nonadherence.<br>\n",
    "\n",
    "In order to gather insights on the factors affecting drug persistency among patients, as per physician's prescription, a dataset is to be collected, investigated and analyzed. To automate this process for a pharmaceutical company, a machine learning classification model is subsequently built and deployed as a WebApp.<br>\n",
    "\n",
    "# Business understanding\n",
    "\n",
    "A Pharmaceutical company aims to improve patient adherence to their drug through data-driven insights. The team will analyze the data and provide the company with a WebApp that utilizes Machine learning technology, thus aiding the company with predicting future patients' adherence to their drug.\n",
    "\n",
    "The Machine Learning model, built to automate this classification process, is based on a dataset featuring patients infected with NTM (Nontuberculous Mycobacteria), a pulmonary disease. The model will utilize multiple dimensions driving adherence such as:\n",
    "\n",
    "* Patients' demographics.\n",
    "* Provider attributes; speciality of the Health Care Provider.\n",
    "* Clinical Factors pertaining to each patient, e.g. T-Score, Risk Factors, Test results...etc.\n",
    "* Disease/Treatement factors, e.g. Concomitancy, Comorbidity...etc.\n",
    "\n",
    "# Project lifecycle\n",
    "\n",
    "<img src=\"https://github.com/Omar-Safwat/HealthCare_project/blob/main/Project_Timeline.png\">\n",
    "\n",
    "As seen in the Gant chart above, the project lifecycle is divided into 4 phases, with a submission deadline of **2021-05-15**.\n",
    "\n",
    "## Phase 1\n",
    "\n",
    "**From:** 2021-04-19<br>\n",
    "**To:** 2021-04-25<br>\n",
    "\n",
    "This phase focuses on understanding the problem, and setting goals that meet with the client's demands. After which the dataset is preprocessed, and relevant data features are extracted for later phase.\n",
    "\n",
    "## Phase 2\n",
    "\n",
    "**From:** 2021-04-26<br>\n",
    "**To:** 2021-05-01<br>\n",
    "\n",
    "In this phase multiple machine learning models will be build and compared.\n",
    "\n",
    "## Phase 3\n",
    "\n",
    "**From:** 2021-05-02<br>\n",
    "**To:** 2021-05-08<br>\n",
    "\n",
    "Following the building of several classification models in the previous phase, all models will be evaluated, subsequently, selecting the most accurate and reliable classification model. \n",
    "\n",
    "## Phase 4\n",
    "\n",
    "**From:** 2021-05-09<br>\n",
    "**To:** 2021-05-15<br>\n",
    "\n",
    "The final phase will focus on building a Web Application that deploys the chosen Machine Learning model.  "
   ]
  }
 ],
 "metadata": {
  "kernelspec": {
   "display_name": "Python 3",
   "language": "python",
   "name": "python3"
  },
  "language_info": {
   "codemirror_mode": {
    "name": "ipython",
    "version": 3
   },
   "file_extension": ".py",
   "mimetype": "text/x-python",
   "name": "python",
   "nbconvert_exporter": "python",
   "pygments_lexer": "ipython3",
   "version": "3.8.5"
  }
 },
 "nbformat": 4,
 "nbformat_minor": 5
}
